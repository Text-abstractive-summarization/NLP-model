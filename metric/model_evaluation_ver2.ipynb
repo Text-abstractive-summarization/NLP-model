{
  "nbformat": 4,
  "nbformat_minor": 0,
  "metadata": {
    "colab": {
      "name": "model_evaluation_ver2.ipynb",
      "provenance": [],
      "collapsed_sections": [],
      "machine_shape": "hm",
      "toc_visible": true
    },
    "kernelspec": {
      "name": "python3",
      "display_name": "Python 3"
    },
    "language_info": {
      "name": "python"
    },
    "accelerator": "GPU"
  },
  "cells": [
    {
      "cell_type": "markdown",
      "metadata": {
        "id": "illEYXg5s8Nu"
      },
      "source": [
        "# 라이브러리 및 한글 폰트 설치"
      ]
    },
    {
      "cell_type": "code",
      "metadata": {
        "colab": {
          "base_uri": "https://localhost:8080/"
        },
        "id": "JwZcoG73cWWt",
        "outputId": "9ebb2ec5-2017-4200-a7f7-398e9686a66a"
      },
      "source": [
        "# 나눔글꼴 설치 (설치 후 런타임 다시 시작)\n",
        "!sudo apt-get install -y fonts-nanum\n",
        "!sudo fc-cache -fv\n",
        "!rm ~/.cache/matplotlib -rf"
      ],
      "execution_count": 5,
      "outputs": [
        {
          "output_type": "stream",
          "name": "stdout",
          "text": [
            "Reading package lists... Done\n",
            "Building dependency tree       \n",
            "Reading state information... Done\n",
            "fonts-nanum is already the newest version (20170925-1).\n",
            "0 upgraded, 0 newly installed, 0 to remove and 37 not upgraded.\n",
            "/usr/share/fonts: caching, new cache contents: 0 fonts, 1 dirs\n",
            "/usr/share/fonts/truetype: caching, new cache contents: 0 fonts, 3 dirs\n",
            "/usr/share/fonts/truetype/humor-sans: caching, new cache contents: 1 fonts, 0 dirs\n",
            "/usr/share/fonts/truetype/liberation: caching, new cache contents: 16 fonts, 0 dirs\n",
            "/usr/share/fonts/truetype/nanum: caching, new cache contents: 10 fonts, 0 dirs\n",
            "/usr/local/share/fonts: caching, new cache contents: 0 fonts, 0 dirs\n",
            "/root/.local/share/fonts: skipping, no such directory\n",
            "/root/.fonts: skipping, no such directory\n",
            "/var/cache/fontconfig: cleaning cache directory\n",
            "/root/.cache/fontconfig: not cleaning non-existent cache directory\n",
            "/root/.fontconfig: not cleaning non-existent cache directory\n",
            "fc-cache: succeeded\n"
          ]
        }
      ]
    },
    {
      "cell_type": "code",
      "metadata": {
        "colab": {
          "base_uri": "https://localhost:8080/"
        },
        "id": "IX6W0pH94MEP",
        "outputId": "c5eef72a-3460-4881-dcd7-0002e248e92e"
      },
      "source": [
        "# bert score 설치\n",
        "!pip install bert-score"
      ],
      "execution_count": 2,
      "outputs": [
        {
          "output_type": "stream",
          "name": "stdout",
          "text": [
            "Collecting bert-score\n",
            "  Downloading bert_score-0.3.10-py3-none-any.whl (59 kB)\n",
            "\u001b[?25l\r\u001b[K     |█████▌                          | 10 kB 27.5 MB/s eta 0:00:01\r\u001b[K     |███████████                     | 20 kB 26.0 MB/s eta 0:00:01\r\u001b[K     |████████████████▍               | 30 kB 11.8 MB/s eta 0:00:01\r\u001b[K     |██████████████████████          | 40 kB 9.2 MB/s eta 0:00:01\r\u001b[K     |███████████████████████████▍    | 51 kB 5.2 MB/s eta 0:00:01\r\u001b[K     |████████████████████████████████| 59 kB 3.1 MB/s \n",
            "\u001b[?25hRequirement already satisfied: tqdm>=4.31.1 in /usr/local/lib/python3.7/dist-packages (from bert-score) (4.62.3)\n",
            "Requirement already satisfied: pandas>=1.0.1 in /usr/local/lib/python3.7/dist-packages (from bert-score) (1.1.5)\n",
            "Requirement already satisfied: matplotlib in /usr/local/lib/python3.7/dist-packages (from bert-score) (3.2.2)\n",
            "Requirement already satisfied: packaging>=20.9 in /usr/local/lib/python3.7/dist-packages (from bert-score) (21.3)\n",
            "Collecting transformers>=3.0.0numpy\n",
            "  Downloading transformers-4.12.5-py3-none-any.whl (3.1 MB)\n",
            "\u001b[K     |████████████████████████████████| 3.1 MB 8.1 MB/s \n",
            "\u001b[?25hRequirement already satisfied: requests in /usr/local/lib/python3.7/dist-packages (from bert-score) (2.23.0)\n",
            "Requirement already satisfied: torch>=1.0.0 in /usr/local/lib/python3.7/dist-packages (from bert-score) (1.10.0+cu111)\n",
            "Requirement already satisfied: pyparsing!=3.0.5,>=2.0.2 in /usr/local/lib/python3.7/dist-packages (from packaging>=20.9->bert-score) (3.0.6)\n",
            "Requirement already satisfied: numpy>=1.15.4 in /usr/local/lib/python3.7/dist-packages (from pandas>=1.0.1->bert-score) (1.19.5)\n",
            "Requirement already satisfied: pytz>=2017.2 in /usr/local/lib/python3.7/dist-packages (from pandas>=1.0.1->bert-score) (2018.9)\n",
            "Requirement already satisfied: python-dateutil>=2.7.3 in /usr/local/lib/python3.7/dist-packages (from pandas>=1.0.1->bert-score) (2.8.2)\n",
            "Requirement already satisfied: six>=1.5 in /usr/local/lib/python3.7/dist-packages (from python-dateutil>=2.7.3->pandas>=1.0.1->bert-score) (1.15.0)\n",
            "Requirement already satisfied: typing-extensions in /usr/local/lib/python3.7/dist-packages (from torch>=1.0.0->bert-score) (3.10.0.2)\n",
            "Collecting tokenizers<0.11,>=0.10.1\n",
            "  Downloading tokenizers-0.10.3-cp37-cp37m-manylinux_2_5_x86_64.manylinux1_x86_64.manylinux_2_12_x86_64.manylinux2010_x86_64.whl (3.3 MB)\n",
            "\u001b[K     |████████████████████████████████| 3.3 MB 58.9 MB/s \n",
            "\u001b[?25hCollecting pyyaml>=5.1\n",
            "  Downloading PyYAML-6.0-cp37-cp37m-manylinux_2_5_x86_64.manylinux1_x86_64.manylinux_2_12_x86_64.manylinux2010_x86_64.whl (596 kB)\n",
            "\u001b[K     |████████████████████████████████| 596 kB 45.1 MB/s \n",
            "\u001b[?25hRequirement already satisfied: importlib-metadata in /usr/local/lib/python3.7/dist-packages (from transformers>=3.0.0numpy->bert-score) (4.8.2)\n",
            "Requirement already satisfied: regex!=2019.12.17 in /usr/local/lib/python3.7/dist-packages (from transformers>=3.0.0numpy->bert-score) (2019.12.20)\n",
            "Requirement already satisfied: filelock in /usr/local/lib/python3.7/dist-packages (from transformers>=3.0.0numpy->bert-score) (3.4.0)\n",
            "Collecting sacremoses\n",
            "  Downloading sacremoses-0.0.46-py3-none-any.whl (895 kB)\n",
            "\u001b[K     |████████████████████████████████| 895 kB 55.8 MB/s \n",
            "\u001b[?25hCollecting huggingface-hub<1.0,>=0.1.0\n",
            "  Downloading huggingface_hub-0.2.1-py3-none-any.whl (61 kB)\n",
            "\u001b[K     |████████████████████████████████| 61 kB 525 kB/s \n",
            "\u001b[?25hRequirement already satisfied: zipp>=0.5 in /usr/local/lib/python3.7/dist-packages (from importlib-metadata->transformers>=3.0.0numpy->bert-score) (3.6.0)\n",
            "Requirement already satisfied: kiwisolver>=1.0.1 in /usr/local/lib/python3.7/dist-packages (from matplotlib->bert-score) (1.3.2)\n",
            "Requirement already satisfied: cycler>=0.10 in /usr/local/lib/python3.7/dist-packages (from matplotlib->bert-score) (0.11.0)\n",
            "Requirement already satisfied: idna<3,>=2.5 in /usr/local/lib/python3.7/dist-packages (from requests->bert-score) (2.10)\n",
            "Requirement already satisfied: urllib3!=1.25.0,!=1.25.1,<1.26,>=1.21.1 in /usr/local/lib/python3.7/dist-packages (from requests->bert-score) (1.24.3)\n",
            "Requirement already satisfied: certifi>=2017.4.17 in /usr/local/lib/python3.7/dist-packages (from requests->bert-score) (2021.10.8)\n",
            "Requirement already satisfied: chardet<4,>=3.0.2 in /usr/local/lib/python3.7/dist-packages (from requests->bert-score) (3.0.4)\n",
            "Requirement already satisfied: click in /usr/local/lib/python3.7/dist-packages (from sacremoses->transformers>=3.0.0numpy->bert-score) (7.1.2)\n",
            "Requirement already satisfied: joblib in /usr/local/lib/python3.7/dist-packages (from sacremoses->transformers>=3.0.0numpy->bert-score) (1.1.0)\n",
            "Installing collected packages: pyyaml, tokenizers, sacremoses, huggingface-hub, transformers, bert-score\n",
            "  Attempting uninstall: pyyaml\n",
            "    Found existing installation: PyYAML 3.13\n",
            "    Uninstalling PyYAML-3.13:\n",
            "      Successfully uninstalled PyYAML-3.13\n",
            "Successfully installed bert-score-0.3.10 huggingface-hub-0.2.1 pyyaml-6.0 sacremoses-0.0.46 tokenizers-0.10.3 transformers-4.12.5\n"
          ]
        }
      ]
    },
    {
      "cell_type": "code",
      "metadata": {
        "colab": {
          "base_uri": "https://localhost:8080/"
        },
        "id": "xUWJn_ZATQJZ",
        "outputId": "9ccc9ca3-3ddb-4900-f963-00b88f25de95"
      },
      "source": [
        "# rouge score 설치\n",
        "!pip install rouge"
      ],
      "execution_count": 4,
      "outputs": [
        {
          "output_type": "stream",
          "name": "stdout",
          "text": [
            "Collecting rouge\n",
            "  Downloading rouge-1.0.1-py3-none-any.whl (13 kB)\n",
            "Requirement already satisfied: six in /usr/local/lib/python3.7/dist-packages (from rouge) (1.15.0)\n",
            "Installing collected packages: rouge\n",
            "Successfully installed rouge-1.0.1\n"
          ]
        }
      ]
    },
    {
      "cell_type": "markdown",
      "metadata": {
        "id": "3X03ScKstD97"
      },
      "source": [
        "# ROUGE score 예시"
      ]
    },
    {
      "cell_type": "code",
      "metadata": {
        "colab": {
          "base_uri": "https://localhost:8080/",
          "height": 144
        },
        "id": "dpGnAwogTQMS",
        "outputId": "9d8e1e01-7e42-41c2-e7fb-5741a4275d71"
      },
      "source": [
        "from rouge import Rouge\n",
        "\n",
        "# 예시 문장\n",
        "reference = '나는 사과를 먹는다'\n",
        "sample1 = '나는 사과를 먹고 있다'\n",
        "sample2 = '나는 사과를 한다'\n",
        "\n",
        "import pandas as pd\n",
        "rouge = Rouge()\n",
        "\n",
        "# sample1\n",
        "pd.DataFrame(rouge.get_scores(reference, sample1)[0])"
      ],
      "execution_count": 1,
      "outputs": [
        {
          "output_type": "execute_result",
          "data": {
            "text/html": [
              "<div>\n",
              "<style scoped>\n",
              "    .dataframe tbody tr th:only-of-type {\n",
              "        vertical-align: middle;\n",
              "    }\n",
              "\n",
              "    .dataframe tbody tr th {\n",
              "        vertical-align: top;\n",
              "    }\n",
              "\n",
              "    .dataframe thead th {\n",
              "        text-align: right;\n",
              "    }\n",
              "</style>\n",
              "<table border=\"1\" class=\"dataframe\">\n",
              "  <thead>\n",
              "    <tr style=\"text-align: right;\">\n",
              "      <th></th>\n",
              "      <th>rouge-1</th>\n",
              "      <th>rouge-2</th>\n",
              "      <th>rouge-l</th>\n",
              "    </tr>\n",
              "  </thead>\n",
              "  <tbody>\n",
              "    <tr>\n",
              "      <th>r</th>\n",
              "      <td>0.500000</td>\n",
              "      <td>0.333333</td>\n",
              "      <td>0.500000</td>\n",
              "    </tr>\n",
              "    <tr>\n",
              "      <th>p</th>\n",
              "      <td>0.666667</td>\n",
              "      <td>0.500000</td>\n",
              "      <td>0.666667</td>\n",
              "    </tr>\n",
              "    <tr>\n",
              "      <th>f</th>\n",
              "      <td>0.571429</td>\n",
              "      <td>0.400000</td>\n",
              "      <td>0.571429</td>\n",
              "    </tr>\n",
              "  </tbody>\n",
              "</table>\n",
              "</div>"
            ],
            "text/plain": [
              "    rouge-1   rouge-2   rouge-l\n",
              "r  0.500000  0.333333  0.500000\n",
              "p  0.666667  0.500000  0.666667\n",
              "f  0.571429  0.400000  0.571429"
            ]
          },
          "metadata": {},
          "execution_count": 1
        }
      ]
    },
    {
      "cell_type": "code",
      "metadata": {
        "colab": {
          "base_uri": "https://localhost:8080/",
          "height": 144
        },
        "id": "orM7ZVx2e2NE",
        "outputId": "7fb64409-a3d5-4a2d-b230-a0f068c3ca57"
      },
      "source": [
        "# sample2\n",
        "pd.DataFrame(rouge.get_scores(reference, sample2)[0])"
      ],
      "execution_count": null,
      "outputs": [
        {
          "output_type": "execute_result",
          "data": {
            "text/html": [
              "<div>\n",
              "<style scoped>\n",
              "    .dataframe tbody tr th:only-of-type {\n",
              "        vertical-align: middle;\n",
              "    }\n",
              "\n",
              "    .dataframe tbody tr th {\n",
              "        vertical-align: top;\n",
              "    }\n",
              "\n",
              "    .dataframe thead th {\n",
              "        text-align: right;\n",
              "    }\n",
              "</style>\n",
              "<table border=\"1\" class=\"dataframe\">\n",
              "  <thead>\n",
              "    <tr style=\"text-align: right;\">\n",
              "      <th></th>\n",
              "      <th>rouge-1</th>\n",
              "      <th>rouge-2</th>\n",
              "      <th>rouge-l</th>\n",
              "    </tr>\n",
              "  </thead>\n",
              "  <tbody>\n",
              "    <tr>\n",
              "      <th>r</th>\n",
              "      <td>0.666667</td>\n",
              "      <td>0.5</td>\n",
              "      <td>0.666667</td>\n",
              "    </tr>\n",
              "    <tr>\n",
              "      <th>p</th>\n",
              "      <td>0.666667</td>\n",
              "      <td>0.5</td>\n",
              "      <td>0.666667</td>\n",
              "    </tr>\n",
              "    <tr>\n",
              "      <th>f</th>\n",
              "      <td>0.666667</td>\n",
              "      <td>0.5</td>\n",
              "      <td>0.666667</td>\n",
              "    </tr>\n",
              "  </tbody>\n",
              "</table>\n",
              "</div>"
            ],
            "text/plain": [
              "    rouge-1  rouge-2   rouge-l\n",
              "r  0.666667      0.5  0.666667\n",
              "p  0.666667      0.5  0.666667\n",
              "f  0.666667      0.5  0.666667"
            ]
          },
          "metadata": {},
          "execution_count": 83
        }
      ]
    },
    {
      "cell_type": "markdown",
      "metadata": {
        "id": "65jvjlLatHzv"
      },
      "source": [
        "# BERT score 예시"
      ]
    },
    {
      "cell_type": "code",
      "metadata": {
        "colab": {
          "base_uri": "https://localhost:8080/",
          "height": 614
        },
        "id": "rCa2QgvId8j5",
        "outputId": "58e3ed1b-c8ee-4933-ab7b-070910e34409"
      },
      "source": [
        "import matplotlib.pyplot as plt\n",
        "plt.rc('font', family='NanumBarunGothic') # 한국어 출력 설정\n",
        "from bert_score import plot_example\n",
        "'''\n",
        "plot_exmaple: sample1 문장 임베딩 토큰과 reference 문장 임베딩 토큰의 코사인 유사도 matrix 출력\n",
        "- model_type: Huggingface로부터 언어 모델 선택\n",
        "- num_layers: 언어 모델의 임베딩 벡터를 가져올 레이어 선택\n",
        "- use_fast_tokenizer: fast_tokenizer 사용 (True) \n",
        "\n",
        "Huggingface transformers 라이브러리에서는 두 가지 종류의 tokenizer를 지원\n",
        "1) 파이썬으로 구현된 일반 tokenizer\n",
        "2) Rust로 구축된 'Fast' tokenizer \n",
        "fast tokenizer는 batched tokenization에서 속도를 더 빠르게 해주고, 입력으로 주어진 문장과 token사이를 mapping 해주는 추가적인 함수 지원\n",
        "SentencePiece tokenizer(T5, Albert, XLNet 등)은 현재 지원하지 않음\n",
        "(fast_tokenizer와 tokenizer 차이 참고: https://misconstructed.tistory.com/80)\n",
        "\n",
        "한국어 문장유사도 평가에서 우수한 성능을 보인 KoELECTRA-base-v2 사용 (https://github.com/monologg/KoELECTRA)\n",
        "12층 레이어 중에서 2층 선택\n",
        "(BERT Score를 제시한 논문인 Zhang et al(2019)에서는 WMT16 데이터를 검증용 데이터로 활용해 \n",
        "BERT Score(F1)과 Human Judgement간 상관관계가 높은 레이어 층을 도출하여 제시하였으며,\n",
        "https://github.com/lovit/KoBERTScore 에서는 KoELECTRA-base-v2의 경우 최적 레이어 층을 12층이라고 제시하고 있으나, \n",
        "문장간 코사인 유사도 matrix를 그려본 결과 모든 토큰의 유사도 값이 모두 0.8 후반대로 나타났기 때문에 \n",
        "유사도 점수의 분포가 비교적 숫자가 고르게 분포된 layer 층인 2번째 layer층을 선택\n",
        "<- 어떤 layer층을 사용하더라도 토큰 간 유사도 값에 변화는 있지만 최적 matching이 변하지는 않음\n",
        "코사인 유사도의 절대적인 값보다는 문맥에 맞게 matching이 일어났는지를 중점적으로 확인)\n",
        "'''\n",
        "# sample1 문장(나는 사과를 먹고 있다)과 reference 문장(나는 사과를 먹는다) 간의 코사인 유사도 matrix\n",
        "plot_example(sample1, reference, model_type = 'monologg/koelectra-base-v2-discriminator', num_layers = 2, use_fast_tokenizer = True)"
      ],
      "execution_count": null,
      "outputs": [
        {
          "output_type": "stream",
          "name": "stderr",
          "text": [
            "Some weights of the model checkpoint at monologg/koelectra-base-v2-discriminator were not used when initializing ElectraModel: ['discriminator_predictions.dense.bias', 'discriminator_predictions.dense_prediction.bias', 'discriminator_predictions.dense_prediction.weight', 'discriminator_predictions.dense.weight']\n",
            "- This IS expected if you are initializing ElectraModel from the checkpoint of a model trained on another task or with another architecture (e.g. initializing a BertForSequenceClassification model from a BertForPreTraining model).\n",
            "- This IS NOT expected if you are initializing ElectraModel from the checkpoint of a model that you expect to be exactly identical (initializing a BertForSequenceClassification model from a BertForSequenceClassification model).\n"
          ]
        },
        {
          "output_type": "display_data",
          "data": {
            "image/png": "[encoded data removed]",
            "text/plain": [
              "<Figure size 504x576 with 2 Axes>"
            ]
          },
          "metadata": {
            "needs_background": "light"
          }
        }
      ]
    },
    {
      "cell_type": "code",
      "source": [
        "# 12층 layer 설정했을 때와 비교 \n",
        "plot_example(sample1, reference, model_type = 'monologg/koelectra-base-v2-discriminator', num_layers = 12, use_fast_tokenizer = True)"
      ],
      "metadata": {
        "colab": {
          "base_uri": "https://localhost:8080/",
          "height": 614
        },
        "id": "dQgoi0nJbbXB",
        "outputId": "58169bfa-9bf7-49d3-b0c8-01358eeca9fd"
      },
      "execution_count": 2,
      "outputs": [
        {
          "output_type": "stream",
          "name": "stderr",
          "text": [
            "Some weights of the model checkpoint at monologg/koelectra-base-v2-discriminator were not used when initializing ElectraModel: ['discriminator_predictions.dense.bias', 'discriminator_predictions.dense_prediction.bias', 'discriminator_predictions.dense.weight', 'discriminator_predictions.dense_prediction.weight']\n",
            "- This IS expected if you are initializing ElectraModel from the checkpoint of a model trained on another task or with another architecture (e.g. initializing a BertForSequenceClassification model from a BertForPreTraining model).\n",
            "- This IS NOT expected if you are initializing ElectraModel from the checkpoint of a model that you expect to be exactly identical (initializing a BertForSequenceClassification model from a BertForSequenceClassification model).\n"
          ]
        },
        {
          "output_type": "display_data",
          "data": {
            "image/png": "[encoded data removed]",
            "text/plain": [
              "<Figure size 504x576 with 2 Axes>"
            ]
          },
          "metadata": {
            "needs_background": "light"
          }
        }
      ]
    },
    {
      "cell_type": "code",
      "metadata": {
        "colab": {
          "base_uri": "https://localhost:8080/"
        },
        "id": "z-mvPh636XVv",
        "outputId": "d624c306-5a4c-472e-a1ab-38d8510aa45d"
      },
      "source": [
        "from bert_score import score\n",
        "# sample1 문장(나는 사과를 먹고 있다)과 reference 문장(나는 사과를 먹는다) 간의 BERT Score\n",
        "P, R, F1 = score([sample1], [reference], model_type = 'monologg/koelectra-base-v2-discriminator', num_layers = 2, use_fast_tokenizer = True)\n",
        "print(P, R, F1)"
      ],
      "execution_count": null,
      "outputs": [
        {
          "output_type": "stream",
          "name": "stderr",
          "text": [
            "Some weights of the model checkpoint at monologg/koelectra-base-v2-discriminator were not used when initializing ElectraModel: ['discriminator_predictions.dense.bias', 'discriminator_predictions.dense_prediction.bias', 'discriminator_predictions.dense_prediction.weight', 'discriminator_predictions.dense.weight']\n",
            "- This IS expected if you are initializing ElectraModel from the checkpoint of a model trained on another task or with another architecture (e.g. initializing a BertForSequenceClassification model from a BertForPreTraining model).\n",
            "- This IS NOT expected if you are initializing ElectraModel from the checkpoint of a model that you expect to be exactly identical (initializing a BertForSequenceClassification model from a BertForSequenceClassification model).\n"
          ]
        },
        {
          "output_type": "stream",
          "name": "stdout",
          "text": [
            "tensor([0.9427]) tensor([0.9753]) tensor([0.9587])\n"
          ]
        }
      ]
    },
    {
      "cell_type": "code",
      "metadata": {
        "colab": {
          "base_uri": "https://localhost:8080/",
          "height": 445
        },
        "id": "GiSzwFJnITAI",
        "outputId": "de233310-f7a3-4a3d-e9cc-d2a1311a919d"
      },
      "source": [
        "# sample2 문장(나는 사과를 한다)과 reference 문장(나는 사과를 먹는다) 간의 코사인 유사도 matrix\n",
        "plot_example(sample2, reference, model_type = 'monologg/koelectra-base-v2-discriminator', num_layers = 2, use_fast_tokenizer = True)"
      ],
      "execution_count": null,
      "outputs": [
        {
          "output_type": "stream",
          "name": "stderr",
          "text": [
            "Some weights of the model checkpoint at monologg/koelectra-base-v2-discriminator were not used when initializing ElectraModel: ['discriminator_predictions.dense.bias', 'discriminator_predictions.dense_prediction.bias', 'discriminator_predictions.dense_prediction.weight', 'discriminator_predictions.dense.weight']\n",
            "- This IS expected if you are initializing ElectraModel from the checkpoint of a model trained on another task or with another architecture (e.g. initializing a BertForSequenceClassification model from a BertForPreTraining model).\n",
            "- This IS NOT expected if you are initializing ElectraModel from the checkpoint of a model that you expect to be exactly identical (initializing a BertForSequenceClassification model from a BertForSequenceClassification model).\n"
          ]
        },
        {
          "output_type": "display_data",
          "data": {
            "image/png": "[encoded data removed]",
            "text/plain": [
              "<Figure size 504x360 with 2 Axes>"
            ]
          },
          "metadata": {
            "needs_background": "light"
          }
        }
      ]
    },
    {
      "cell_type": "code",
      "metadata": {
        "colab": {
          "base_uri": "https://localhost:8080/"
        },
        "id": "nG8DPJrSIS1I",
        "outputId": "97168321-533e-40e1-c882-08e468514427"
      },
      "source": [
        "from bert_score import score\n",
        "# sample1 문장(나는 사과를 한다)과 reference 문장(나는 사과를 먹는다) 간의 BERT Score\n",
        "P, R, F1 = score([sample2], [reference], model_type = 'monologg/koelectra-base-v2-discriminator', num_layers = 2, use_fast_tokenizer = True)\n",
        "print(P, R, F1)"
      ],
      "execution_count": null,
      "outputs": [
        {
          "output_type": "stream",
          "name": "stderr",
          "text": [
            "Some weights of the model checkpoint at monologg/koelectra-base-v2-discriminator were not used when initializing ElectraModel: ['discriminator_predictions.dense.bias', 'discriminator_predictions.dense_prediction.bias', 'discriminator_predictions.dense_prediction.weight', 'discriminator_predictions.dense.weight']\n",
            "- This IS expected if you are initializing ElectraModel from the checkpoint of a model trained on another task or with another architecture (e.g. initializing a BertForSequenceClassification model from a BertForPreTraining model).\n",
            "- This IS NOT expected if you are initializing ElectraModel from the checkpoint of a model that you expect to be exactly identical (initializing a BertForSequenceClassification model from a BertForSequenceClassification model).\n"
          ]
        },
        {
          "output_type": "stream",
          "name": "stdout",
          "text": [
            "tensor([0.9529]) tensor([0.9068]) tensor([0.9293])\n"
          ]
        }
      ]
    },
    {
      "cell_type": "markdown",
      "metadata": {
        "id": "r56ynubptPBO"
      },
      "source": [
        "# 모델별 성능비교"
      ]
    },
    {
      "cell_type": "markdown",
      "source": [
        "## 1) MT5, ET5, KE-T5 epochs = 3 성능 비교"
      ],
      "metadata": {
        "id": "vgsqXL-k7jEt"
      }
    },
    {
      "cell_type": "code",
      "metadata": {
        "colab": {
          "base_uri": "https://localhost:8080/",
          "height": 423
        },
        "id": "LBStI-R3fSGO",
        "outputId": "70f124dd-1dda-46bb-b776-0803af0833ae"
      },
      "source": [
        "# 비교를 위한 기사 원문 데이터\n",
        "import pandas as pd\n",
        "validation = pd.read_csv('/content/drive/MyDrive/3차 프로젝트/dataset/valid.csv')[['document','label']][20000:]\n",
        "validation['document'].to_csv('document.txt', header = 0, index = False) # 비교를 위한 기사 원문을 .txt 파일로 저장\n",
        "validation"
      ],
      "execution_count": 44,
      "outputs": [
        {
          "output_type": "execute_result",
          "data": {
            "text/html": [
              "<div>\n",
              "<style scoped>\n",
              "    .dataframe tbody tr th:only-of-type {\n",
              "        vertical-align: middle;\n",
              "    }\n",
              "\n",
              "    .dataframe tbody tr th {\n",
              "        vertical-align: top;\n",
              "    }\n",
              "\n",
              "    .dataframe thead th {\n",
              "        text-align: right;\n",
              "    }\n",
              "</style>\n",
              "<table border=\"1\" class=\"dataframe\">\n",
              "  <thead>\n",
              "    <tr style=\"text-align: right;\">\n",
              "      <th></th>\n",
              "      <th>document</th>\n",
              "      <th>label</th>\n",
              "    </tr>\n",
              "  </thead>\n",
              "  <tbody>\n",
              "    <tr>\n",
              "      <th>20000</th>\n",
              "      <td>▲ '제3회 만천하스카이워크배 전국오픈 탁구대회'가 9~10일 단양국민체육센터에서 ...</td>\n",
              "      <td>9~10일 이틀간 충북 단양국민체육센터에서 '제3회 만천하스카이워크배 전국오픈 탁구...</td>\n",
              "    </tr>\n",
              "    <tr>\n",
              "      <th>20001</th>\n",
              "      <td>서울시가 미세먼지 저감을 위해 시행 중인 차량운행제한 정책의 실효성을 높이기 위해 ...</td>\n",
              "      <td>'승용차마일리지제'는 서울시가 지난 2017년 도입한 것으로, 미세먼지 저감을 위한...</td>\n",
              "    </tr>\n",
              "    <tr>\n",
              "      <th>20002</th>\n",
              "      <td>최근 제주도내 해수욕장에 상어가 나타나면서 제주특별자치도가 상어퇴치기 설치를 적극 ...</td>\n",
              "      <td>최근 제주도내 해수욕장에서 발생한 상어 출현으로, 제주특별자치도는 10일 상어퇴치기...</td>\n",
              "    </tr>\n",
              "    <tr>\n",
              "      <th>20003</th>\n",
              "      <td>신기호 기자최근 자유한국당 홍준표 전 대표가 문희상 국회의장이 정치세습을 한다고 주...</td>\n",
              "      <td>지난달 30일 홍준표 자유한국당 전 대표가 문희상 의장이 패스트트랙 법안을 본회의에...</td>\n",
              "    </tr>\n",
              "    <tr>\n",
              "      <th>20004</th>\n",
              "      <td>삼성SDS가 중국 스마트시티·클라우드·스마트물류 시장 개척에 본격적으로 나선다.삼성...</td>\n",
              "      <td>삼성SDS(대표 홍원표)는 지난 25일 서울 송파구 본사에서 시스템통합, IT아웃소...</td>\n",
              "    </tr>\n",
              "    <tr>\n",
              "      <th>...</th>\n",
              "      <td>...</td>\n",
              "      <td>...</td>\n",
              "    </tr>\n",
              "    <tr>\n",
              "      <th>29995</th>\n",
              "      <td>김준(앞줄 왼쪽) SK이노베이션 총괄사장이 지난 10일 미국 라스베이거스에서 개최된...</td>\n",
              "      <td>SK이노베이션은 김준 SK이노베이션 총괄 사장의 인재 영입 철학을 반영하여 작년 4...</td>\n",
              "    </tr>\n",
              "    <tr>\n",
              "      <th>29996</th>\n",
              "      <td>'상상 커리어다이닝' 참가자 모집▲ 상상 커리어다이닝 참가자 모집 포스터.KT&amp;G ...</td>\n",
              "      <td>내달 7일까지 KT&amp;G는 2~4학년 대학생 150명을 대상으로 취업 상담 프로그램 ...</td>\n",
              "    </tr>\n",
              "    <tr>\n",
              "      <th>29997</th>\n",
              "      <td>지난 27일 방송된 SBS ‘백종원의 골목식당’이 평균 시청률 1부 6.7% 2부 ...</td>\n",
              "      <td>지난 27일 '백종원의 골목식당'은 '보리밥&amp;코다리찜'의 주방점검 장면에서 동시간대...</td>\n",
              "    </tr>\n",
              "    <tr>\n",
              "      <th>29998</th>\n",
              "      <td>제주신보송상열, 한의사·한의학 박사어제는 대학 입시의 최대 관문인 수학능력 시험이 ...</td>\n",
              "      <td>소의 도축 과정에서 발견하여 약재로 쓰는 우황은 기본적으로 몸 안의 열을 치료하는 ...</td>\n",
              "    </tr>\n",
              "    <tr>\n",
              "      <th>29999</th>\n",
              "      <td>헌정질서파괴범인 전두환 전 대통령은 사망할 경우 국립묘지에 안장될 수 없다는 국가보...</td>\n",
              "      <td>국가보훈처는 전두환 전 대통령이 사망하는 경우에도 전과사실이 실효되지 않아 국립묘지...</td>\n",
              "    </tr>\n",
              "  </tbody>\n",
              "</table>\n",
              "<p>10000 rows × 2 columns</p>\n",
              "</div>"
            ],
            "text/plain": [
              "                                                document                                              label\n",
              "20000  ▲ '제3회 만천하스카이워크배 전국오픈 탁구대회'가 9~10일 단양국민체육센터에서 ...  9~10일 이틀간 충북 단양국민체육센터에서 '제3회 만천하스카이워크배 전국오픈 탁구...\n",
              "20001  서울시가 미세먼지 저감을 위해 시행 중인 차량운행제한 정책의 실효성을 높이기 위해 ...  '승용차마일리지제'는 서울시가 지난 2017년 도입한 것으로, 미세먼지 저감을 위한...\n",
              "20002  최근 제주도내 해수욕장에 상어가 나타나면서 제주특별자치도가 상어퇴치기 설치를 적극 ...  최근 제주도내 해수욕장에서 발생한 상어 출현으로, 제주특별자치도는 10일 상어퇴치기...\n",
              "20003  신기호 기자최근 자유한국당 홍준표 전 대표가 문희상 국회의장이 정치세습을 한다고 주...  지난달 30일 홍준표 자유한국당 전 대표가 문희상 의장이 패스트트랙 법안을 본회의에...\n",
              "20004  삼성SDS가 중국 스마트시티·클라우드·스마트물류 시장 개척에 본격적으로 나선다.삼성...  삼성SDS(대표 홍원표)는 지난 25일 서울 송파구 본사에서 시스템통합, IT아웃소...\n",
              "...                                                  ...                                                ...\n",
              "29995  김준(앞줄 왼쪽) SK이노베이션 총괄사장이 지난 10일 미국 라스베이거스에서 개최된...  SK이노베이션은 김준 SK이노베이션 총괄 사장의 인재 영입 철학을 반영하여 작년 4...\n",
              "29996  '상상 커리어다이닝' 참가자 모집▲ 상상 커리어다이닝 참가자 모집 포스터.KT&G ...  내달 7일까지 KT&G는 2~4학년 대학생 150명을 대상으로 취업 상담 프로그램 ...\n",
              "29997  지난 27일 방송된 SBS ‘백종원의 골목식당’이 평균 시청률 1부 6.7% 2부 ...  지난 27일 '백종원의 골목식당'은 '보리밥&코다리찜'의 주방점검 장면에서 동시간대...\n",
              "29998  제주신보송상열, 한의사·한의학 박사어제는 대학 입시의 최대 관문인 수학능력 시험이 ...  소의 도축 과정에서 발견하여 약재로 쓰는 우황은 기본적으로 몸 안의 열을 치료하는 ...\n",
              "29999  헌정질서파괴범인 전두환 전 대통령은 사망할 경우 국립묘지에 안장될 수 없다는 국가보...  국가보훈처는 전두환 전 대통령이 사망하는 경우에도 전과사실이 실효되지 않아 국립묘지...\n",
              "\n",
              "[10000 rows x 2 columns]"
            ]
          },
          "metadata": {},
          "execution_count": 44
        }
      ]
    },
    {
      "cell_type": "code",
      "metadata": {
        "colab": {
          "base_uri": "https://localhost:8080/",
          "height": 423
        },
        "id": "AFGxhTC04tQJ",
        "outputId": "b2ad2142-98dc-42dc-a6d0-51fa27ccb815"
      },
      "source": [
        "# google mt5(multilingual t5) epoch3 데이터 240,000건 학습 후 생성한 문장 10,000건\n",
        "mt5 = pd.read_csv('/content/drive/MyDrive/cakd3_colab/3rd_project/mt5_small_final3.csv')[['Generated Text', 'Actual Text']][20000:]\n",
        "mt5['Generated Text'].to_csv('generated_mt5.txt', header = 0, index = False)\n",
        "mt5"
      ],
      "execution_count": 45,
      "outputs": [
        {
          "output_type": "execute_result",
          "data": {
            "text/html": [
              "<div>\n",
              "<style scoped>\n",
              "    .dataframe tbody tr th:only-of-type {\n",
              "        vertical-align: middle;\n",
              "    }\n",
              "\n",
              "    .dataframe tbody tr th {\n",
              "        vertical-align: top;\n",
              "    }\n",
              "\n",
              "    .dataframe thead th {\n",
              "        text-align: right;\n",
              "    }\n",
              "</style>\n",
              "<table border=\"1\" class=\"dataframe\">\n",
              "  <thead>\n",
              "    <tr style=\"text-align: right;\">\n",
              "      <th></th>\n",
              "      <th>Generated Text</th>\n",
              "      <th>Actual Text</th>\n",
              "    </tr>\n",
              "  </thead>\n",
              "  <tbody>\n",
              "    <tr>\n",
              "      <th>20000</th>\n",
              "      <td>탁구인들의 잔치를 축제로 만들기 위한 조치로 9~10일 이틀간 단양국민체육센터에서 ...</td>\n",
              "      <td>9~10일 이틀간 충북 단양국민체육센터에서 '제3회 만천하스카이워크배 전국오픈 탁구...</td>\n",
              "    </tr>\n",
              "    <tr>\n",
              "      <th>20001</th>\n",
              "      <td>혜택을 폐지할 계획이다.</td>\n",
              "      <td>'승용차마일리지제'는 서울시가 지난 2017년 도입한 것으로, 미세먼지 저감을 위한...</td>\n",
              "    </tr>\n",
              "    <tr>\n",
              "      <th>20002</th>\n",
              "      <td>곳곳에 상어가 나타나면서 제주특별자치도가 상어퇴치기 설치를 적극 검토하고 있다.</td>\n",
              "      <td>최근 제주도내 해수욕장에서 발생한 상어 출현으로, 제주특별자치도는 10일 상어퇴치기...</td>\n",
              "    </tr>\n",
              "    <tr>\n",
              "      <th>20003</th>\n",
              "      <td>의장이 문재인 대통령에게 청탁하기 위해서라고 아니 볼 수 없다며 반박하고 나섰다.</td>\n",
              "      <td>지난달 30일 홍준표 자유한국당 전 대표가 문희상 의장이 패스트트랙 법안을 본회의에...</td>\n",
              "    </tr>\n",
              "    <tr>\n",
              "      <th>20004</th>\n",
              "      <td>및 중국 내 IT서비스 사업을 확대해 나갈 예정이다.</td>\n",
              "      <td>삼성SDS(대표 홍원표)는 지난 25일 서울 송파구 본사에서 시스템통합, IT아웃소...</td>\n",
              "    </tr>\n",
              "    <tr>\n",
              "      <th>...</th>\n",
              "      <td>...</td>\n",
              "      <td>...</td>\n",
              "    </tr>\n",
              "    <tr>\n",
              "      <th>29995</th>\n",
              "      <td>그룹 통합 채용사이트와 별개의 채용사이트를 개설하며 SK이노베이션의 경영철학을 공유...</td>\n",
              "      <td>SK이노베이션은 김준 SK이노베이션 총괄 사장의 인재 영입 철학을 반영하여 작년 4...</td>\n",
              "    </tr>\n",
              "    <tr>\n",
              "      <th>29996</th>\n",
              "      <td>상담 기회를 제공하는 '상상 커리어다이닝' 참가자를 모집한다고 25일 밝혔는데, 이...</td>\n",
              "      <td>내달 7일까지 KT&amp;G는 2~4학년 대학생 150명을 대상으로 취업 상담 프로그램 ...</td>\n",
              "    </tr>\n",
              "    <tr>\n",
              "      <th>29997</th>\n",
              "      <td>음식에 자신있다는 사장님의 보리밥과 코다리찜을 시식하며 연이은 혹평을 쏟아내며 지난...</td>\n",
              "      <td>지난 27일 '백종원의 골목식당'은 '보리밥&amp;코다리찜'의 주방점검 장면에서 동시간대...</td>\n",
              "    </tr>\n",
              "    <tr>\n",
              "      <th>29998</th>\n",
              "      <td>치료하는 우황청심원은 시중에서 판매되고 있어 일반인들에게도 친숙하다.</td>\n",
              "      <td>소의 도축 과정에서 발견하여 약재로 쓰는 우황은 기본적으로 몸 안의 열을 치료하는 ...</td>\n",
              "    </tr>\n",
              "    <tr>\n",
              "      <th>29999</th>\n",
              "      <td>이유로 국립묘지에 안장될 수 없다는 국가보훈처의 공식 입장이 나왔다.</td>\n",
              "      <td>국가보훈처는 전두환 전 대통령이 사망하는 경우에도 전과사실이 실효되지 않아 국립묘지...</td>\n",
              "    </tr>\n",
              "  </tbody>\n",
              "</table>\n",
              "<p>10000 rows × 2 columns</p>\n",
              "</div>"
            ],
            "text/plain": [
              "                                          Generated Text                                        Actual Text\n",
              "20000  탁구인들의 잔치를 축제로 만들기 위한 조치로 9~10일 이틀간 단양국민체육센터에서 ...  9~10일 이틀간 충북 단양국민체육센터에서 '제3회 만천하스카이워크배 전국오픈 탁구...\n",
              "20001                                      혜택을 폐지할 계획이다.  '승용차마일리지제'는 서울시가 지난 2017년 도입한 것으로, 미세먼지 저감을 위한...\n",
              "20002       곳곳에 상어가 나타나면서 제주특별자치도가 상어퇴치기 설치를 적극 검토하고 있다.  최근 제주도내 해수욕장에서 발생한 상어 출현으로, 제주특별자치도는 10일 상어퇴치기...\n",
              "20003      의장이 문재인 대통령에게 청탁하기 위해서라고 아니 볼 수 없다며 반박하고 나섰다.  지난달 30일 홍준표 자유한국당 전 대표가 문희상 의장이 패스트트랙 법안을 본회의에...\n",
              "20004                      및 중국 내 IT서비스 사업을 확대해 나갈 예정이다.  삼성SDS(대표 홍원표)는 지난 25일 서울 송파구 본사에서 시스템통합, IT아웃소...\n",
              "...                                                  ...                                                ...\n",
              "29995  그룹 통합 채용사이트와 별개의 채용사이트를 개설하며 SK이노베이션의 경영철학을 공유...  SK이노베이션은 김준 SK이노베이션 총괄 사장의 인재 영입 철학을 반영하여 작년 4...\n",
              "29996  상담 기회를 제공하는 '상상 커리어다이닝' 참가자를 모집한다고 25일 밝혔는데, 이...  내달 7일까지 KT&G는 2~4학년 대학생 150명을 대상으로 취업 상담 프로그램 ...\n",
              "29997  음식에 자신있다는 사장님의 보리밥과 코다리찜을 시식하며 연이은 혹평을 쏟아내며 지난...  지난 27일 '백종원의 골목식당'은 '보리밥&코다리찜'의 주방점검 장면에서 동시간대...\n",
              "29998             치료하는 우황청심원은 시중에서 판매되고 있어 일반인들에게도 친숙하다.  소의 도축 과정에서 발견하여 약재로 쓰는 우황은 기본적으로 몸 안의 열을 치료하는 ...\n",
              "29999             이유로 국립묘지에 안장될 수 없다는 국가보훈처의 공식 입장이 나왔다.  국가보훈처는 전두환 전 대통령이 사망하는 경우에도 전과사실이 실효되지 않아 국립묘지...\n",
              "\n",
              "[10000 rows x 2 columns]"
            ]
          },
          "metadata": {},
          "execution_count": 45
        }
      ]
    },
    {
      "cell_type": "code",
      "metadata": {
        "colab": {
          "base_uri": "https://localhost:8080/",
          "height": 423
        },
        "id": "WmLfEMiigxm2",
        "outputId": "dc9417ec-cba7-4766-d1d8-b1ef3557c90e"
      },
      "source": [
        "# ke_t5 epoch3 데이터 240,000건 학습 후 생성한 문장 10,000건\n",
        "ke_t5 = pd.read_csv('/content/drive/MyDrive/3차 프로젝트/KE-T5_JONGU/ke-t5_final3.csv', index_col = 0)[20000:]\n",
        "ke_t5['Generated Text'].to_csv('generated_ke_t5.txt', header = 0, index = False)\n",
        "ke_t5"
      ],
      "execution_count": 46,
      "outputs": [
        {
          "output_type": "execute_result",
          "data": {
            "text/html": [
              "<div>\n",
              "<style scoped>\n",
              "    .dataframe tbody tr th:only-of-type {\n",
              "        vertical-align: middle;\n",
              "    }\n",
              "\n",
              "    .dataframe tbody tr th {\n",
              "        vertical-align: top;\n",
              "    }\n",
              "\n",
              "    .dataframe thead th {\n",
              "        text-align: right;\n",
              "    }\n",
              "</style>\n",
              "<table border=\"1\" class=\"dataframe\">\n",
              "  <thead>\n",
              "    <tr style=\"text-align: right;\">\n",
              "      <th></th>\n",
              "      <th>Generated Text</th>\n",
              "      <th>Actual Text</th>\n",
              "    </tr>\n",
              "  </thead>\n",
              "  <tbody>\n",
              "    <tr>\n",
              "      <th>20000</th>\n",
              "      <td>큐브, 다마스버터플라이코리 팀이 각각 단체전과 단체전으로 예선전과 결승까지 진행한 ...</td>\n",
              "      <td>9~10일 이틀간 충북 단양국민체육센터에서 '제3회 만천하스카이워크배 전국오픈 탁구...</td>\n",
              "    </tr>\n",
              "    <tr>\n",
              "      <th>20001</th>\n",
              "      <td>큐브와 함께 '승용차마일리지제'로 가입 전환을 유도해 자동차 이용 줄이기에 동참하고...</td>\n",
              "      <td>'승용차마일리지제'는 서울시가 지난 2017년 도입한 것으로, 미세먼지 저감을 위한...</td>\n",
              "    </tr>\n",
              "    <tr>\n",
              "      <th>20002</th>\n",
              "      <td>큐브에 설치하거나 일정 구역에 부표를 설치하는 방식으로 사용할 수 있는 상어퇴치기 ...</td>\n",
              "      <td>최근 제주도내 해수욕장에서 발생한 상어 출현으로, 제주특별자치도는 10일 상어퇴치기...</td>\n",
              "    </tr>\n",
              "    <tr>\n",
              "      <th>20003</th>\n",
              "      <td>큐브에 '홍준표의 막말, 회복할 수 없는 절망을 안기다!!'라는 제목의 글을 올린 ...</td>\n",
              "      <td>지난달 30일 홍준표 자유한국당 전 대표가 문희상 의장이 패스트트랙 법안을 본회의에...</td>\n",
              "    </tr>\n",
              "    <tr>\n",
              "      <th>20004</th>\n",
              "      <td>큐브와 사업협력 MOU를 체결하고 중국 내 스마트시티, 클라우드, 스마트물류 등의 ...</td>\n",
              "      <td>삼성SDS(대표 홍원표)는 지난 25일 서울 송파구 본사에서 시스템통합, IT아웃소...</td>\n",
              "    </tr>\n",
              "    <tr>\n",
              "      <th>...</th>\n",
              "      <td>...</td>\n",
              "      <td>...</td>\n",
              "    </tr>\n",
              "    <tr>\n",
              "      <th>29995</th>\n",
              "      <td>큐브와 별도로 'SK이노베이션 채용 사이트'를 개설해 운영중이며, 이번 경력채용에서...</td>\n",
              "      <td>SK이노베이션은 김준 SK이노베이션 총괄 사장의 인재 영입 철학을 반영하여 작년 4...</td>\n",
              "    </tr>\n",
              "    <tr>\n",
              "      <th>29996</th>\n",
              "      <td>큐브에서 대학생 150명을 대상으로 취업 상담 기회를 제공하는 '상상 커리어다이닝'...</td>\n",
              "      <td>내달 7일까지 KT&amp;G는 2~4학년 대학생 150명을 대상으로 취업 상담 프로그램 ...</td>\n",
              "    </tr>\n",
              "    <tr>\n",
              "      <th>29997</th>\n",
              "      <td>큐브 '백종원의 골목식당'이 조선업이 위기를 맞으며 지역 상권도 휘청이고 있는 '거...</td>\n",
              "      <td>지난 27일 '백종원의 골목식당'은 '보리밥&amp;코다리찜'의 주방점검 장면에서 동시간대...</td>\n",
              "    </tr>\n",
              "    <tr>\n",
              "      <th>29998</th>\n",
              "      <td>큐브란 약 이름 속에 '마음을 맑게 가라앉혀 준다'는 효능이 담긴 우황(心)이란 약...</td>\n",
              "      <td>소의 도축 과정에서 발견하여 약재로 쓰는 우황은 기본적으로 몸 안의 열을 치료하는 ...</td>\n",
              "    </tr>\n",
              "    <tr>\n",
              "      <th>29999</th>\n",
              "      <td>큐브 천정배 의원은 24일 국가보훈처로부터 ‘전두환 등 헌정질서파괴범은 사면·복권이...</td>\n",
              "      <td>국가보훈처는 전두환 전 대통령이 사망하는 경우에도 전과사실이 실효되지 않아 국립묘지...</td>\n",
              "    </tr>\n",
              "  </tbody>\n",
              "</table>\n",
              "<p>10000 rows × 2 columns</p>\n",
              "</div>"
            ],
            "text/plain": [
              "                                          Generated Text                                        Actual Text\n",
              "20000  큐브, 다마스버터플라이코리 팀이 각각 단체전과 단체전으로 예선전과 결승까지 진행한 ...  9~10일 이틀간 충북 단양국민체육센터에서 '제3회 만천하스카이워크배 전국오픈 탁구...\n",
              "20001  큐브와 함께 '승용차마일리지제'로 가입 전환을 유도해 자동차 이용 줄이기에 동참하고...  '승용차마일리지제'는 서울시가 지난 2017년 도입한 것으로, 미세먼지 저감을 위한...\n",
              "20002  큐브에 설치하거나 일정 구역에 부표를 설치하는 방식으로 사용할 수 있는 상어퇴치기 ...  최근 제주도내 해수욕장에서 발생한 상어 출현으로, 제주특별자치도는 10일 상어퇴치기...\n",
              "20003  큐브에 '홍준표의 막말, 회복할 수 없는 절망을 안기다!!'라는 제목의 글을 올린 ...  지난달 30일 홍준표 자유한국당 전 대표가 문희상 의장이 패스트트랙 법안을 본회의에...\n",
              "20004  큐브와 사업협력 MOU를 체결하고 중국 내 스마트시티, 클라우드, 스마트물류 등의 ...  삼성SDS(대표 홍원표)는 지난 25일 서울 송파구 본사에서 시스템통합, IT아웃소...\n",
              "...                                                  ...                                                ...\n",
              "29995  큐브와 별도로 'SK이노베이션 채용 사이트'를 개설해 운영중이며, 이번 경력채용에서...  SK이노베이션은 김준 SK이노베이션 총괄 사장의 인재 영입 철학을 반영하여 작년 4...\n",
              "29996  큐브에서 대학생 150명을 대상으로 취업 상담 기회를 제공하는 '상상 커리어다이닝'...  내달 7일까지 KT&G는 2~4학년 대학생 150명을 대상으로 취업 상담 프로그램 ...\n",
              "29997  큐브 '백종원의 골목식당'이 조선업이 위기를 맞으며 지역 상권도 휘청이고 있는 '거...  지난 27일 '백종원의 골목식당'은 '보리밥&코다리찜'의 주방점검 장면에서 동시간대...\n",
              "29998  큐브란 약 이름 속에 '마음을 맑게 가라앉혀 준다'는 효능이 담긴 우황(心)이란 약...  소의 도축 과정에서 발견하여 약재로 쓰는 우황은 기본적으로 몸 안의 열을 치료하는 ...\n",
              "29999  큐브 천정배 의원은 24일 국가보훈처로부터 ‘전두환 등 헌정질서파괴범은 사면·복권이...  국가보훈처는 전두환 전 대통령이 사망하는 경우에도 전과사실이 실효되지 않아 국립묘지...\n",
              "\n",
              "[10000 rows x 2 columns]"
            ]
          },
          "metadata": {},
          "execution_count": 46
        }
      ]
    },
    {
      "cell_type": "code",
      "metadata": {
        "id": "cwtIx-ZmkXut",
        "colab": {
          "base_uri": "https://localhost:8080/",
          "height": 423
        },
        "outputId": "3a474959-240b-4c07-fe85-08e0016306fd"
      },
      "source": [
        "# et5 epoch3 데이터 240,000건 학습 후 생성한 문장 10,000건\n",
        "et5 = pd.read_csv('./drive/MyDrive/cakd3_colab/3rd_project/et5_240000_3_2.csv')\n",
        "et5['Generated Text'].to_csv('generated_et5.txt', header = 0, index = False)\n",
        "et5"
      ],
      "execution_count": 47,
      "outputs": [
        {
          "output_type": "execute_result",
          "data": {
            "text/html": [
              "<div>\n",
              "<style scoped>\n",
              "    .dataframe tbody tr th:only-of-type {\n",
              "        vertical-align: middle;\n",
              "    }\n",
              "\n",
              "    .dataframe tbody tr th {\n",
              "        vertical-align: top;\n",
              "    }\n",
              "\n",
              "    .dataframe thead th {\n",
              "        text-align: right;\n",
              "    }\n",
              "</style>\n",
              "<table border=\"1\" class=\"dataframe\">\n",
              "  <thead>\n",
              "    <tr style=\"text-align: right;\">\n",
              "      <th></th>\n",
              "      <th>Generated Text</th>\n",
              "      <th>Actual Text</th>\n",
              "    </tr>\n",
              "  </thead>\n",
              "  <tbody>\n",
              "    <tr>\n",
              "      <th>0</th>\n",
              "      <td>구의의 메카인 충북 단양군에서 9~10일 이틀간 '제3회 만천하스카이워크배 전국오픈...</td>\n",
              "      <td>9~10일 이틀간 충북 단양국민체육센터에서 '제3회 만천하스카이워크배 전국오픈 탁구...</td>\n",
              "    </tr>\n",
              "    <tr>\n",
              "      <th>1</th>\n",
              "      <td>시는 미세먼지 저감을 위해 시행 중인 차량운행제한 정책의 실효성을 높이기 위해 내년...</td>\n",
              "      <td>'승용차마일리지제'는 서울시가 지난 2017년 도입한 것으로, 미세먼지 저감을 위한...</td>\n",
              "    </tr>\n",
              "    <tr>\n",
              "      <th>2</th>\n",
              "      <td>특별자치도는 지난 8일 상어 1개체가 나타났으나 약 30분만인 12시 40분쯤 사라...</td>\n",
              "      <td>최근 제주도내 해수욕장에서 발생한 상어 출현으로, 제주특별자치도는 10일 상어퇴치기...</td>\n",
              "    </tr>\n",
              "    <tr>\n",
              "      <th>3</th>\n",
              "      <td>자유한국당 홍준표 전 대표가 문희상 국회의장이 정치특혜을 한다고 주장하자 안병용 의...</td>\n",
              "      <td>지난달 30일 홍준표 자유한국당 전 대표가 문희상 의장이 패스트트랙 법안을 본회의에...</td>\n",
              "    </tr>\n",
              "    <tr>\n",
              "      <th>4</th>\n",
              "      <td>표 대표가 공표한 '대외사업을 통한 혁신적 성장' 경영방침에 따라 삼성SDS가 중국...</td>\n",
              "      <td>삼성SDS(대표 홍원표)는 지난 25일 서울 송파구 본사에서 시스템통합, IT아웃소...</td>\n",
              "    </tr>\n",
              "    <tr>\n",
              "      <th>...</th>\n",
              "      <td>...</td>\n",
              "      <td>...</td>\n",
              "    </tr>\n",
              "    <tr>\n",
              "      <th>9995</th>\n",
              "      <td>이노베이션이 그룹 통합 채용사이트와 따로 'SK이노베이션 채용 사이트'를 개설해 운...</td>\n",
              "      <td>SK이노베이션은 김준 SK이노베이션 총괄 사장의 인재 영입 철학을 반영하여 작년 4...</td>\n",
              "    </tr>\n",
              "    <tr>\n",
              "      <th>9996</th>\n",
              "      <td>&amp;G는 다음달 7일까지 취업준비생 150명을 대상으로 취업상담 기회를 제공하는 '상...</td>\n",
              "      <td>내달 7일까지 KT&amp;G는 2~4학년 대학생 150명을 대상으로 취업 상담 프로그램 ...</td>\n",
              "    </tr>\n",
              "    <tr>\n",
              "      <th>9997</th>\n",
              "      <td>업이 위기를 맞으며 지역 상권도 요동이고 있는 ‘거제도’ 첫 편으로 꾸며진 SBS ...</td>\n",
              "      <td>지난 27일 '백종원의 골목식당'은 '보리밥&amp;코다리찜'의 주방점검 장면에서 동시간대...</td>\n",
              "    </tr>\n",
              "    <tr>\n",
              "      <th>9998</th>\n",
              "      <td>라는 소(Bos taurus Linne domesticus Gmelin)의 담낭에 ...</td>\n",
              "      <td>소의 도축 과정에서 발견하여 약재로 쓰는 우황은 기본적으로 몸 안의 열을 치료하는 ...</td>\n",
              "    </tr>\n",
              "    <tr>\n",
              "      <th>9999</th>\n",
              "      <td>전 대통령은 사망할 경우 국립묘지에 안장될 수 없다는 국가보훈처의 공식 입장이 나왔...</td>\n",
              "      <td>국가보훈처는 전두환 전 대통령이 사망하는 경우에도 전과사실이 실효되지 않아 국립묘지...</td>\n",
              "    </tr>\n",
              "  </tbody>\n",
              "</table>\n",
              "<p>10000 rows × 2 columns</p>\n",
              "</div>"
            ],
            "text/plain": [
              "                                         Generated Text                                        Actual Text\n",
              "0     구의의 메카인 충북 단양군에서 9~10일 이틀간 '제3회 만천하스카이워크배 전국오픈...  9~10일 이틀간 충북 단양국민체육센터에서 '제3회 만천하스카이워크배 전국오픈 탁구...\n",
              "1     시는 미세먼지 저감을 위해 시행 중인 차량운행제한 정책의 실효성을 높이기 위해 내년...  '승용차마일리지제'는 서울시가 지난 2017년 도입한 것으로, 미세먼지 저감을 위한...\n",
              "2     특별자치도는 지난 8일 상어 1개체가 나타났으나 약 30분만인 12시 40분쯤 사라...  최근 제주도내 해수욕장에서 발생한 상어 출현으로, 제주특별자치도는 10일 상어퇴치기...\n",
              "3     자유한국당 홍준표 전 대표가 문희상 국회의장이 정치특혜을 한다고 주장하자 안병용 의...  지난달 30일 홍준표 자유한국당 전 대표가 문희상 의장이 패스트트랙 법안을 본회의에...\n",
              "4     표 대표가 공표한 '대외사업을 통한 혁신적 성장' 경영방침에 따라 삼성SDS가 중국...  삼성SDS(대표 홍원표)는 지난 25일 서울 송파구 본사에서 시스템통합, IT아웃소...\n",
              "...                                                 ...                                                ...\n",
              "9995  이노베이션이 그룹 통합 채용사이트와 따로 'SK이노베이션 채용 사이트'를 개설해 운...  SK이노베이션은 김준 SK이노베이션 총괄 사장의 인재 영입 철학을 반영하여 작년 4...\n",
              "9996  &G는 다음달 7일까지 취업준비생 150명을 대상으로 취업상담 기회를 제공하는 '상...  내달 7일까지 KT&G는 2~4학년 대학생 150명을 대상으로 취업 상담 프로그램 ...\n",
              "9997  업이 위기를 맞으며 지역 상권도 요동이고 있는 ‘거제도’ 첫 편으로 꾸며진 SBS ...  지난 27일 '백종원의 골목식당'은 '보리밥&코다리찜'의 주방점검 장면에서 동시간대...\n",
              "9998  라는 소(Bos taurus Linne domesticus Gmelin)의 담낭에 ...  소의 도축 과정에서 발견하여 약재로 쓰는 우황은 기본적으로 몸 안의 열을 치료하는 ...\n",
              "9999  전 대통령은 사망할 경우 국립묘지에 안장될 수 없다는 국가보훈처의 공식 입장이 나왔...  국가보훈처는 전두환 전 대통령이 사망하는 경우에도 전과사실이 실효되지 않아 국립묘지...\n",
              "\n",
              "[10000 rows x 2 columns]"
            ]
          },
          "metadata": {},
          "execution_count": 47
        }
      ]
    },
    {
      "cell_type": "code",
      "metadata": {
        "colab": {
          "base_uri": "https://localhost:8080/"
        },
        "id": "DlPhh9Rcf5az",
        "outputId": "a60d9a59-0397-4799-80a2-1e9670f571ad"
      },
      "source": [
        "# mt5 epoch3 데이터 240,000건 학습 후 생성한 문장 10,000건의 기사 원문과의 bert score\n",
        "!bert-score -r document.txt -c generated_mt5.txt -m 'monologg/koelectra-base-v2-discriminator' -l 2 --use_fast_tokenizer"
      ],
      "execution_count": 14,
      "outputs": [
        {
          "output_type": "stream",
          "name": "stdout",
          "text": [
            "\rDownloading:   0% 0.00/65.0 [00:00<?, ?B/s]\rDownloading: 100% 65.0/65.0 [00:00<00:00, 55.5kB/s]\n",
            "Downloading: 100% 487/487 [00:00<00:00, 615kB/s]\n",
            "Downloading: 100% 249k/249k [00:00<00:00, 3.17MB/s]\n",
            "Downloading: 100% 423M/423M [00:09<00:00, 49.2MB/s]\n",
            "Some weights of the model checkpoint at monologg/koelectra-base-v2-discriminator were not used when initializing ElectraModel: ['discriminator_predictions.dense.weight', 'discriminator_predictions.dense.bias', 'discriminator_predictions.dense_prediction.bias', 'discriminator_predictions.dense_prediction.weight']\n",
            "- This IS expected if you are initializing ElectraModel from the checkpoint of a model trained on another task or with another architecture (e.g. initializing a BertForSequenceClassification model from a BertForPreTraining model).\n",
            "- This IS NOT expected if you are initializing ElectraModel from the checkpoint of a model that you expect to be exactly identical (initializing a BertForSequenceClassification model from a BertForSequenceClassification model).\n",
            "monologg/koelectra-base-v2-discriminator_L2_no-idf_version=0.3.10(hug_trans=4.12.5) P: 0.913283 R: 0.680443 F1: 0.779291\n"
          ]
        }
      ]
    },
    {
      "cell_type": "code",
      "metadata": {
        "colab": {
          "base_uri": "https://localhost:8080/"
        },
        "id": "vkb1FU_rjJ7j",
        "outputId": "2cdbdea8-9825-489f-e716-272d871b62e4"
      },
      "source": [
        "# ke_t5 epoch3 데이터 240,000건 학습 후 생성한 문장 10,000건의 기사 원문과의 bert score\n",
        "!bert-score -r document.txt -c generated_ke_t5.txt -m 'monologg/koelectra-base-v2-discriminator' -l 2 --use_fast_tokenizer"
      ],
      "execution_count": null,
      "outputs": [
        {
          "output_type": "stream",
          "name": "stdout",
          "text": [
            "Some weights of the model checkpoint at monologg/koelectra-base-v2-discriminator were not used when initializing ElectraModel: ['discriminator_predictions.dense.weight', 'discriminator_predictions.dense_prediction.bias', 'discriminator_predictions.dense.bias', 'discriminator_predictions.dense_prediction.weight']\n",
            "- This IS expected if you are initializing ElectraModel from the checkpoint of a model trained on another task or with another architecture (e.g. initializing a BertForSequenceClassification model from a BertForPreTraining model).\n",
            "- This IS NOT expected if you are initializing ElectraModel from the checkpoint of a model that you expect to be exactly identical (initializing a BertForSequenceClassification model from a BertForSequenceClassification model).\n",
            "monologg/koelectra-base-v2-discriminator_L2_no-idf_version=0.3.10(hug_trans=4.12.5) P: 0.907181 R: 0.701519 F1: 0.790763\n"
          ]
        }
      ]
    },
    {
      "cell_type": "code",
      "metadata": {
        "colab": {
          "base_uri": "https://localhost:8080/"
        },
        "id": "-VJWkIkyjKQX",
        "outputId": "bf27d76c-8628-4276-9a8d-3c7958d87050"
      },
      "source": [
        "# et5 epoch3 데이터 240,000건 학습 후 생성한 문장 10,000건의 기사 원문과의 bert score\n",
        "!bert-score -r document.txt -c generated_et5.txt -m 'monologg/koelectra-base-v2-discriminator' -l 2 --use_fast_tokenizer"
      ],
      "execution_count": null,
      "outputs": [
        {
          "output_type": "stream",
          "name": "stdout",
          "text": [
            "Some weights of the model checkpoint at monologg/koelectra-base-v2-discriminator were not used when initializing ElectraModel: ['discriminator_predictions.dense.bias', 'discriminator_predictions.dense.weight', 'discriminator_predictions.dense_prediction.weight', 'discriminator_predictions.dense_prediction.bias']\n",
            "- This IS expected if you are initializing ElectraModel from the checkpoint of a model trained on another task or with another architecture (e.g. initializing a BertForSequenceClassification model from a BertForPreTraining model).\n",
            "- This IS NOT expected if you are initializing ElectraModel from the checkpoint of a model that you expect to be exactly identical (initializing a BertForSequenceClassification model from a BertForSequenceClassification model).\n",
            "monologg/koelectra-base-v2-discriminator_L2_no-idf_version=0.3.10(hug_trans=4.12.5) P: 0.915299 R: 0.730273 F1: 0.812020\n"
          ]
        }
      ]
    },
    {
      "cell_type": "markdown",
      "source": [
        "## 2) ET5 모델 epochs(8, 10, 12, 15) 성능 비교"
      ],
      "metadata": {
        "id": "dc1uAaAGzSKf"
      }
    },
    {
      "cell_type": "code",
      "metadata": {
        "colab": {
          "base_uri": "https://localhost:8080/",
          "height": 423
        },
        "id": "NKLixib2ceIZ",
        "outputId": "15a770c4-9f95-48c4-e623-e39dd56f8ca8"
      },
      "source": [
        "# et5 epoch8 데이터 290,000건 학습 후 생성한 문장 10,000건\n",
        "et5_epoch8 = pd.read_csv('/content/drive/MyDrive/3차 프로젝트/eT5_epoch8/validation_final/eT5_train290000_epochs8.csv')\n",
        "et5_epoch8['Generated Text'].to_csv('generated_et5_290000_epoch8.txt', header = 0, index = False)\n",
        "et5_epoch8"
      ],
      "execution_count": 10,
      "outputs": [
        {
          "output_type": "execute_result",
          "data": {
            "text/html": [
              "<div>\n",
              "<style scoped>\n",
              "    .dataframe tbody tr th:only-of-type {\n",
              "        vertical-align: middle;\n",
              "    }\n",
              "\n",
              "    .dataframe tbody tr th {\n",
              "        vertical-align: top;\n",
              "    }\n",
              "\n",
              "    .dataframe thead th {\n",
              "        text-align: right;\n",
              "    }\n",
              "</style>\n",
              "<table border=\"1\" class=\"dataframe\">\n",
              "  <thead>\n",
              "    <tr style=\"text-align: right;\">\n",
              "      <th></th>\n",
              "      <th>Generated Text</th>\n",
              "      <th>Actual Text</th>\n",
              "    </tr>\n",
              "  </thead>\n",
              "  <tbody>\n",
              "    <tr>\n",
              "      <th>0</th>\n",
              "      <td>단양군에서 전국 탁구동호인 600여명이 참가한 가운데 9~10일 개최된 '제3회 만...</td>\n",
              "      <td>9~10일 이틀간 충북 단양국민체육센터에서 '제3회 만천하스카이워크배 전국오픈 탁구...</td>\n",
              "    </tr>\n",
              "    <tr>\n",
              "      <th>1</th>\n",
              "      <td>시는 미세먼지 저감을 위해 시행 중인 차량운행제한 정책의 실효성을 높이기 위해 내년...</td>\n",
              "      <td>'승용차마일리지제'는 서울시가 지난 2017년 도입한 것으로, 미세먼지 저감을 위한...</td>\n",
              "    </tr>\n",
              "    <tr>\n",
              "      <th>2</th>\n",
              "      <td>제주시 함덕해수욕장에서 상어 1개체가 나타나 약 30분만인 12시40분쯤 사라져 최...</td>\n",
              "      <td>최근 제주도내 해수욕장에서 발생한 상어 출현으로, 제주특별자치도는 10일 상어퇴치기...</td>\n",
              "    </tr>\n",
              "    <tr>\n",
              "      <th>3</th>\n",
              "      <td>최근 자유한국당 홍준표 전 대표가 문희상 국회의장이 정치 유해을 한다고 주장하자 안...</td>\n",
              "      <td>지난달 30일 홍준표 자유한국당 전 대표가 문희상 의장이 패스트트랙 법안을 본회의에...</td>\n",
              "    </tr>\n",
              "    <tr>\n",
              "      <th>4</th>\n",
              "      <td>었다고 27일 삼성SDS는 중국 내의 스마트시티, 클라우드, 스마트물류 등의 사업분...</td>\n",
              "      <td>삼성SDS(대표 홍원표)는 지난 25일 서울 송파구 본사에서 시스템통합, IT아웃소...</td>\n",
              "    </tr>\n",
              "    <tr>\n",
              "      <th>...</th>\n",
              "      <td>...</td>\n",
              "      <td>...</td>\n",
              "    </tr>\n",
              "    <tr>\n",
              "      <th>9995</th>\n",
              "      <td>배터리 분야 등 전문 인력 확보에 SK이노베이션과 SK이노베이션 최고 경영진의 경영...</td>\n",
              "      <td>SK이노베이션은 김준 SK이노베이션 총괄 사장의 인재 영입 철학을 반영하여 작년 4...</td>\n",
              "    </tr>\n",
              "    <tr>\n",
              "      <th>9996</th>\n",
              "      <td>KT&amp;G는 25일, 내달 7일까지 취업을 준비하는 2~4학년 대학생 150명을 대상...</td>\n",
              "      <td>내달 7일까지 KT&amp;G는 2~4학년 대학생 150명을 대상으로 취업 상담 프로그램 ...</td>\n",
              "    </tr>\n",
              "    <tr>\n",
              "      <th>9997</th>\n",
              "      <td>이 위기를 맞으며 지역 상권도 어려워지고 있는 '거제도' 첫 편으로 꾸며져 지난 2...</td>\n",
              "      <td>지난 27일 '백종원의 골목식당'은 '보리밥&amp;코다리찜'의 주방점검 장면에서 동시간대...</td>\n",
              "    </tr>\n",
              "    <tr>\n",
              "      <th>9998</th>\n",
              "      <td>의 지속적인 수시 확대로 수능 중요도가 다소 완화됐지만 최근 정부의 정시 확대 방침...</td>\n",
              "      <td>소의 도축 과정에서 발견하여 약재로 쓰는 우황은 기본적으로 몸 안의 열을 치료하는 ...</td>\n",
              "    </tr>\n",
              "    <tr>\n",
              "      <th>9999</th>\n",
              "      <td>천정배 의원은 24일 ‘전두환 등 헌정질서파괴범은 사면·복권이 되법과 관련 법률 개...</td>\n",
              "      <td>국가보훈처는 전두환 전 대통령이 사망하는 경우에도 전과사실이 실효되지 않아 국립묘지...</td>\n",
              "    </tr>\n",
              "  </tbody>\n",
              "</table>\n",
              "<p>10000 rows × 2 columns</p>\n",
              "</div>"
            ],
            "text/plain": [
              "                                         Generated Text                                        Actual Text\n",
              "0     단양군에서 전국 탁구동호인 600여명이 참가한 가운데 9~10일 개최된 '제3회 만...  9~10일 이틀간 충북 단양국민체육센터에서 '제3회 만천하스카이워크배 전국오픈 탁구...\n",
              "1     시는 미세먼지 저감을 위해 시행 중인 차량운행제한 정책의 실효성을 높이기 위해 내년...  '승용차마일리지제'는 서울시가 지난 2017년 도입한 것으로, 미세먼지 저감을 위한...\n",
              "2     제주시 함덕해수욕장에서 상어 1개체가 나타나 약 30분만인 12시40분쯤 사라져 최...  최근 제주도내 해수욕장에서 발생한 상어 출현으로, 제주특별자치도는 10일 상어퇴치기...\n",
              "3     최근 자유한국당 홍준표 전 대표가 문희상 국회의장이 정치 유해을 한다고 주장하자 안...  지난달 30일 홍준표 자유한국당 전 대표가 문희상 의장이 패스트트랙 법안을 본회의에...\n",
              "4     었다고 27일 삼성SDS는 중국 내의 스마트시티, 클라우드, 스마트물류 등의 사업분...  삼성SDS(대표 홍원표)는 지난 25일 서울 송파구 본사에서 시스템통합, IT아웃소...\n",
              "...                                                 ...                                                ...\n",
              "9995  배터리 분야 등 전문 인력 확보에 SK이노베이션과 SK이노베이션 최고 경영진의 경영...  SK이노베이션은 김준 SK이노베이션 총괄 사장의 인재 영입 철학을 반영하여 작년 4...\n",
              "9996  KT&G는 25일, 내달 7일까지 취업을 준비하는 2~4학년 대학생 150명을 대상...  내달 7일까지 KT&G는 2~4학년 대학생 150명을 대상으로 취업 상담 프로그램 ...\n",
              "9997  이 위기를 맞으며 지역 상권도 어려워지고 있는 '거제도' 첫 편으로 꾸며져 지난 2...  지난 27일 '백종원의 골목식당'은 '보리밥&코다리찜'의 주방점검 장면에서 동시간대...\n",
              "9998  의 지속적인 수시 확대로 수능 중요도가 다소 완화됐지만 최근 정부의 정시 확대 방침...  소의 도축 과정에서 발견하여 약재로 쓰는 우황은 기본적으로 몸 안의 열을 치료하는 ...\n",
              "9999  천정배 의원은 24일 ‘전두환 등 헌정질서파괴범은 사면·복권이 되법과 관련 법률 개...  국가보훈처는 전두환 전 대통령이 사망하는 경우에도 전과사실이 실효되지 않아 국립묘지...\n",
              "\n",
              "[10000 rows x 2 columns]"
            ]
          },
          "metadata": {},
          "execution_count": 10
        }
      ]
    },
    {
      "cell_type": "code",
      "metadata": {
        "id": "mOOz052hpc9B",
        "colab": {
          "base_uri": "https://localhost:8080/",
          "height": 423
        },
        "outputId": "1fbc50a0-766f-4f71-aece-f73f2b0168f8"
      },
      "source": [
        "# et5 epoch10 데이터 290,000건 학습 후 생성한 문장 10,000건\n",
        "et5_epoch10 = pd.read_csv('/content/drive/MyDrive/3차 프로젝트/etri_et5_(290000*10)_extra.csv', index_col = 0)\n",
        "et5_epoch10['Generated Text'].to_csv('generated_et5_290000_epoch10.txt', header = 0, index = False)\n",
        "et5_epoch10"
      ],
      "execution_count": 11,
      "outputs": [
        {
          "output_type": "execute_result",
          "data": {
            "text/html": [
              "<div>\n",
              "<style scoped>\n",
              "    .dataframe tbody tr th:only-of-type {\n",
              "        vertical-align: middle;\n",
              "    }\n",
              "\n",
              "    .dataframe tbody tr th {\n",
              "        vertical-align: top;\n",
              "    }\n",
              "\n",
              "    .dataframe thead th {\n",
              "        text-align: right;\n",
              "    }\n",
              "</style>\n",
              "<table border=\"1\" class=\"dataframe\">\n",
              "  <thead>\n",
              "    <tr style=\"text-align: right;\">\n",
              "      <th></th>\n",
              "      <th>Generated Text</th>\n",
              "      <th>Actual Text</th>\n",
              "    </tr>\n",
              "  </thead>\n",
              "  <tbody>\n",
              "    <tr>\n",
              "      <th>0</th>\n",
              "      <td>의 메카 충북 단양군에서 탁구인들이 그동안 갈고 3 % 이상 날에 전국 탁구인들을 ...</td>\n",
              "      <td>9~10일 이틀간 충북 단양국민체육센터에서 '제3회 만천하스카이워크배 전국오픈 탁구...</td>\n",
              "    </tr>\n",
              "    <tr>\n",
              "      <th>1</th>\n",
              "      <td>미세먼지 저감을 위해 시행 중인 차량운행제한 정책의 실효성을 높이기 위해 서울시가 ...</td>\n",
              "      <td>'승용차마일리지제'는 서울시가 지난 2017년 도입한 것으로, 미세먼지 저감을 위한...</td>\n",
              "    </tr>\n",
              "    <tr>\n",
              "      <th>2</th>\n",
              "      <td>의 감각기관에 미세한 전기를 흘려보내 운영하고 일정 구역에 부표를 설치하는 방식으로...</td>\n",
              "      <td>최근 제주도내 해수욕장에서 발생한 상어 출현으로, 제주특별자치도는 10일 상어퇴치기...</td>\n",
              "    </tr>\n",
              "    <tr>\n",
              "      <th>3</th>\n",
              "      <td>전 대표가 패스트트랙 법안을 본회의에 부의하려는 것을 두고 페이스북을 통해 “문 의...</td>\n",
              "      <td>지난달 30일 홍준표 자유한국당 전 대표가 문희상 의장이 패스트트랙 법안을 본회의에...</td>\n",
              "    </tr>\n",
              "    <tr>\n",
              "      <th>4</th>\n",
              "      <td>·스마트물류 시장 개척을 위해 삼성SDS가 25일 서울 송파구 본사에서 중국 IT서...</td>\n",
              "      <td>삼성SDS(대표 홍원표)는 지난 25일 서울 송파구 본사에서 시스템통합, IT아웃소...</td>\n",
              "    </tr>\n",
              "    <tr>\n",
              "      <th>...</th>\n",
              "      <td>...</td>\n",
              "      <td>...</td>\n",
              "    </tr>\n",
              "    <tr>\n",
              "      <th>9995</th>\n",
              "      <td>배터리 분야 등 전문 인력 확보에 SK이노베이션 총괄 사장의 인재 영입 철학을 엿볼...</td>\n",
              "      <td>SK이노베이션은 김준 SK이노베이션 총괄 사장의 인재 영입 철학을 반영하여 작년 4...</td>\n",
              "    </tr>\n",
              "    <tr>\n",
              "      <th>9996</th>\n",
              "      <td>좋은 취업상담 프로그램인 '상상 커리어이닝'은 KT&amp;G가 대학생들을 위해 개발한 취...</td>\n",
              "      <td>내달 7일까지 KT&amp;G는 2~4학년 대학생 150명을 대상으로 취업 상담 프로그램 ...</td>\n",
              "    </tr>\n",
              "    <tr>\n",
              "      <th>9997</th>\n",
              "      <td>의 주방점검 결과 '보리밥&amp;코다리찜'집의 주방점검이 분당 최고 시청률 8.9%로 동...</td>\n",
              "      <td>지난 27일 '백종원의 골목식당'은 '보리밥&amp;코다리찜'의 주방점검 장면에서 동시간대...</td>\n",
              "    </tr>\n",
              "    <tr>\n",
              "      <th>9998</th>\n",
              "      <td>에게 수능 당일 가족들이 꼭 챙겨주는 채소품 중 하나가 우황청심원( '마음을 맑게 ...</td>\n",
              "      <td>소의 도축 과정에서 발견하여 약재로 쓰는 우황은 기본적으로 몸 안의 열을 치료하는 ...</td>\n",
              "    </tr>\n",
              "    <tr>\n",
              "      <th>9999</th>\n",
              "      <td>천정배 의원은 24일 국가보훈처로부터 헌정질서파괴범인 전두환 전 대통령은 사망할 경...</td>\n",
              "      <td>국가보훈처는 전두환 전 대통령이 사망하는 경우에도 전과사실이 실효되지 않아 국립묘지...</td>\n",
              "    </tr>\n",
              "  </tbody>\n",
              "</table>\n",
              "<p>10000 rows × 2 columns</p>\n",
              "</div>"
            ],
            "text/plain": [
              "                                         Generated Text                                        Actual Text\n",
              "0     의 메카 충북 단양군에서 탁구인들이 그동안 갈고 3 % 이상 날에 전국 탁구인들을 ...  9~10일 이틀간 충북 단양국민체육센터에서 '제3회 만천하스카이워크배 전국오픈 탁구...\n",
              "1     미세먼지 저감을 위해 시행 중인 차량운행제한 정책의 실효성을 높이기 위해 서울시가 ...  '승용차마일리지제'는 서울시가 지난 2017년 도입한 것으로, 미세먼지 저감을 위한...\n",
              "2     의 감각기관에 미세한 전기를 흘려보내 운영하고 일정 구역에 부표를 설치하는 방식으로...  최근 제주도내 해수욕장에서 발생한 상어 출현으로, 제주특별자치도는 10일 상어퇴치기...\n",
              "3     전 대표가 패스트트랙 법안을 본회의에 부의하려는 것을 두고 페이스북을 통해 “문 의...  지난달 30일 홍준표 자유한국당 전 대표가 문희상 의장이 패스트트랙 법안을 본회의에...\n",
              "4     ·스마트물류 시장 개척을 위해 삼성SDS가 25일 서울 송파구 본사에서 중국 IT서...  삼성SDS(대표 홍원표)는 지난 25일 서울 송파구 본사에서 시스템통합, IT아웃소...\n",
              "...                                                 ...                                                ...\n",
              "9995  배터리 분야 등 전문 인력 확보에 SK이노베이션 총괄 사장의 인재 영입 철학을 엿볼...  SK이노베이션은 김준 SK이노베이션 총괄 사장의 인재 영입 철학을 반영하여 작년 4...\n",
              "9996  좋은 취업상담 프로그램인 '상상 커리어이닝'은 KT&G가 대학생들을 위해 개발한 취...  내달 7일까지 KT&G는 2~4학년 대학생 150명을 대상으로 취업 상담 프로그램 ...\n",
              "9997  의 주방점검 결과 '보리밥&코다리찜'집의 주방점검이 분당 최고 시청률 8.9%로 동...  지난 27일 '백종원의 골목식당'은 '보리밥&코다리찜'의 주방점검 장면에서 동시간대...\n",
              "9998  에게 수능 당일 가족들이 꼭 챙겨주는 채소품 중 하나가 우황청심원( '마음을 맑게 ...  소의 도축 과정에서 발견하여 약재로 쓰는 우황은 기본적으로 몸 안의 열을 치료하는 ...\n",
              "9999  천정배 의원은 24일 국가보훈처로부터 헌정질서파괴범인 전두환 전 대통령은 사망할 경...  국가보훈처는 전두환 전 대통령이 사망하는 경우에도 전과사실이 실효되지 않아 국립묘지...\n",
              "\n",
              "[10000 rows x 2 columns]"
            ]
          },
          "metadata": {},
          "execution_count": 11
        }
      ]
    },
    {
      "cell_type": "code",
      "metadata": {
        "id": "JY8Xir2Oj8KC",
        "colab": {
          "base_uri": "https://localhost:8080/",
          "height": 423
        },
        "outputId": "c52fc4e1-856d-4b81-fff0-284605ae38b9"
      },
      "source": [
        "# et5 epoch12 데이터 290,000건 학습 후 생성한 문장 10,000건\n",
        "et5_epoch12 = pd.read_csv('/content/drive/MyDrive/3차 프로젝트/eT5_epoch8/validation_final/eT5_train290000_epochs12.csv')\n",
        "et5_epoch12['Generated Text'].to_csv('generated_et5_290000_epoch12.txt', header = 0, index = False)\n",
        "et5_epoch12"
      ],
      "execution_count": 12,
      "outputs": [
        {
          "output_type": "execute_result",
          "data": {
            "text/html": [
              "<div>\n",
              "<style scoped>\n",
              "    .dataframe tbody tr th:only-of-type {\n",
              "        vertical-align: middle;\n",
              "    }\n",
              "\n",
              "    .dataframe tbody tr th {\n",
              "        vertical-align: top;\n",
              "    }\n",
              "\n",
              "    .dataframe thead th {\n",
              "        text-align: right;\n",
              "    }\n",
              "</style>\n",
              "<table border=\"1\" class=\"dataframe\">\n",
              "  <thead>\n",
              "    <tr style=\"text-align: right;\">\n",
              "      <th></th>\n",
              "      <th>Generated Text</th>\n",
              "      <th>Actual Text</th>\n",
              "    </tr>\n",
              "  </thead>\n",
              "  <tbody>\n",
              "    <tr>\n",
              "      <th>0</th>\n",
              "      <td>단양군 탁구협회 회장, 전무이사, 경기이사 등 탁구동호인 600여명이 참석한 가운데...</td>\n",
              "      <td>9~10일 이틀간 충북 단양국민체육센터에서 '제3회 만천하스카이워크배 전국오픈 탁구...</td>\n",
              "    </tr>\n",
              "    <tr>\n",
              "      <th>1</th>\n",
              "      <td>지 서울시 에너지시민협력과장은 미세먼지 저감을 위해 시행 중인 차량운행제한 정책의 ...</td>\n",
              "      <td>'승용차마일리지제'는 서울시가 지난 2017년 도입한 것으로, 미세먼지 저감을 위한...</td>\n",
              "    </tr>\n",
              "    <tr>\n",
              "      <th>2</th>\n",
              "      <td>은 아니지만 공격성이 높지 않다는 종류로 보이는 상어가 나타나자, 제주도는 상어퇴치...</td>\n",
              "      <td>최근 제주도내 해수욕장에서 발생한 상어 출현으로, 제주특별자치도는 10일 상어퇴치기...</td>\n",
              "    </tr>\n",
              "    <tr>\n",
              "      <th>3</th>\n",
              "      <td>홍준표 전 대표는 지난달 30일 문희상 의장이 패스트트랙 법안을 본회의에 부의하려는...</td>\n",
              "      <td>지난달 30일 홍준표 자유한국당 전 대표가 문희상 의장이 패스트트랙 법안을 본회의에...</td>\n",
              "    </tr>\n",
              "    <tr>\n",
              "      <th>4</th>\n",
              "      <td>영업과 사업수행을 맡아 중국 내 스마트시티, 클라우드, 스마트물류 등의 사업분야에서...</td>\n",
              "      <td>삼성SDS(대표 홍원표)는 지난 25일 서울 송파구 본사에서 시스템통합, IT아웃소...</td>\n",
              "    </tr>\n",
              "    <tr>\n",
              "      <th>...</th>\n",
              "      <td>...</td>\n",
              "      <td>...</td>\n",
              "    </tr>\n",
              "    <tr>\n",
              "      <th>9995</th>\n",
              "      <td>SK이노베이션이 지난해 4·4분기부터 '그룹 통합 채용사이트(skcareers.co...</td>\n",
              "      <td>SK이노베이션은 김준 SK이노베이션 총괄 사장의 인재 영입 철학을 반영하여 작년 4...</td>\n",
              "    </tr>\n",
              "    <tr>\n",
              "      <th>9996</th>\n",
              "      <td>&amp;G는 25일 다음달 7일까지 취업을 준비하는 2~4학년 대학생 150명을 대상으로...</td>\n",
              "      <td>내달 7일까지 KT&amp;G는 2~4학년 대학생 150명을 대상으로 취업 상담 프로그램 ...</td>\n",
              "    </tr>\n",
              "    <tr>\n",
              "      <th>9997</th>\n",
              "      <td>이 위기를 맞으며 지역 상권도 악영향을 받고 있는 '거제도' 첫 편을 지난 27일 ...</td>\n",
              "      <td>지난 27일 '백종원의 골목식당'은 '보리밥&amp;코다리찜'의 주방점검 장면에서 동시간대...</td>\n",
              "    </tr>\n",
              "    <tr>\n",
              "      <th>9998</th>\n",
              "      <td>의 우황은 심열로 인한 불안, 혼미 등 정신적 이상 그리고 간열로 인한 근육 마비나...</td>\n",
              "      <td>소의 도축 과정에서 발견하여 약재로 쓰는 우황은 기본적으로 몸 안의 열을 치료하는 ...</td>\n",
              "    </tr>\n",
              "    <tr>\n",
              "      <th>9999</th>\n",
              "      <td>천정배 의원은 24일 국가보훈처로부터 국가보훈처로부터 전두환 전 대통령은 사망할 경...</td>\n",
              "      <td>국가보훈처는 전두환 전 대통령이 사망하는 경우에도 전과사실이 실효되지 않아 국립묘지...</td>\n",
              "    </tr>\n",
              "  </tbody>\n",
              "</table>\n",
              "<p>10000 rows × 2 columns</p>\n",
              "</div>"
            ],
            "text/plain": [
              "                                         Generated Text                                        Actual Text\n",
              "0     단양군 탁구협회 회장, 전무이사, 경기이사 등 탁구동호인 600여명이 참석한 가운데...  9~10일 이틀간 충북 단양국민체육센터에서 '제3회 만천하스카이워크배 전국오픈 탁구...\n",
              "1     지 서울시 에너지시민협력과장은 미세먼지 저감을 위해 시행 중인 차량운행제한 정책의 ...  '승용차마일리지제'는 서울시가 지난 2017년 도입한 것으로, 미세먼지 저감을 위한...\n",
              "2     은 아니지만 공격성이 높지 않다는 종류로 보이는 상어가 나타나자, 제주도는 상어퇴치...  최근 제주도내 해수욕장에서 발생한 상어 출현으로, 제주특별자치도는 10일 상어퇴치기...\n",
              "3     홍준표 전 대표는 지난달 30일 문희상 의장이 패스트트랙 법안을 본회의에 부의하려는...  지난달 30일 홍준표 자유한국당 전 대표가 문희상 의장이 패스트트랙 법안을 본회의에...\n",
              "4     영업과 사업수행을 맡아 중국 내 스마트시티, 클라우드, 스마트물류 등의 사업분야에서...  삼성SDS(대표 홍원표)는 지난 25일 서울 송파구 본사에서 시스템통합, IT아웃소...\n",
              "...                                                 ...                                                ...\n",
              "9995  SK이노베이션이 지난해 4·4분기부터 '그룹 통합 채용사이트(skcareers.co...  SK이노베이션은 김준 SK이노베이션 총괄 사장의 인재 영입 철학을 반영하여 작년 4...\n",
              "9996  &G는 25일 다음달 7일까지 취업을 준비하는 2~4학년 대학생 150명을 대상으로...  내달 7일까지 KT&G는 2~4학년 대학생 150명을 대상으로 취업 상담 프로그램 ...\n",
              "9997  이 위기를 맞으며 지역 상권도 악영향을 받고 있는 '거제도' 첫 편을 지난 27일 ...  지난 27일 '백종원의 골목식당'은 '보리밥&코다리찜'의 주방점검 장면에서 동시간대...\n",
              "9998  의 우황은 심열로 인한 불안, 혼미 등 정신적 이상 그리고 간열로 인한 근육 마비나...  소의 도축 과정에서 발견하여 약재로 쓰는 우황은 기본적으로 몸 안의 열을 치료하는 ...\n",
              "9999  천정배 의원은 24일 국가보훈처로부터 국가보훈처로부터 전두환 전 대통령은 사망할 경...  국가보훈처는 전두환 전 대통령이 사망하는 경우에도 전과사실이 실효되지 않아 국립묘지...\n",
              "\n",
              "[10000 rows x 2 columns]"
            ]
          },
          "metadata": {},
          "execution_count": 12
        }
      ]
    },
    {
      "cell_type": "code",
      "metadata": {
        "id": "ZhCUn-Us9AC6",
        "colab": {
          "base_uri": "https://localhost:8080/",
          "height": 423
        },
        "outputId": "308fd981-4ba0-4182-ab7e-bbb497510a3a"
      },
      "source": [
        "# et5 epoch15 데이터 290,000건 학습 후 생성한 문장 10,000건\n",
        "et5_epoch15 = pd.read_csv('/content/drive/MyDrive/3차 프로젝트/summarization_et5_train_290000_extra_training_ver10_1.csv')\n",
        "et5_epoch15['Generated Text'].to_csv('generated_et5_290000_epoch15.txt', header = 0, index = False)\n",
        "et5_epoch15"
      ],
      "execution_count": 13,
      "outputs": [
        {
          "output_type": "execute_result",
          "data": {
            "text/html": [
              "<div>\n",
              "<style scoped>\n",
              "    .dataframe tbody tr th:only-of-type {\n",
              "        vertical-align: middle;\n",
              "    }\n",
              "\n",
              "    .dataframe tbody tr th {\n",
              "        vertical-align: top;\n",
              "    }\n",
              "\n",
              "    .dataframe thead th {\n",
              "        text-align: right;\n",
              "    }\n",
              "</style>\n",
              "<table border=\"1\" class=\"dataframe\">\n",
              "  <thead>\n",
              "    <tr style=\"text-align: right;\">\n",
              "      <th></th>\n",
              "      <th>Generated Text</th>\n",
              "      <th>Actual Text</th>\n",
              "    </tr>\n",
              "  </thead>\n",
              "  <tbody>\n",
              "    <tr>\n",
              "      <th>0</th>\n",
              "      <td>구의 메카 충북 단양군에서 탁구인들이 그동안 갈고 배운 자웅을 겨루는 '제3회 만천...</td>\n",
              "      <td>9~10일 이틀간 충북 단양국민체육센터에서 '제3회 만천하스카이워크배 전국오픈 탁구...</td>\n",
              "    </tr>\n",
              "    <tr>\n",
              "      <th>1</th>\n",
              "      <td>시는 미세먼지 저감을 위해 시행 중인 차량운행제한 정책의 실효성을 높이기 위해 내년...</td>\n",
              "      <td>'승용차마일리지제'는 서울시가 지난 2017년 도입한 것으로, 미세먼지 저감을 위한...</td>\n",
              "    </tr>\n",
              "    <tr>\n",
              "      <th>2</th>\n",
              "      <td>면에서 상어 1개체가 발견되었으며, 최근 제주도내 해수욕장에 상어가 나타나면서 제주...</td>\n",
              "      <td>최근 제주도내 해수욕장에서 발생한 상어 출현으로, 제주특별자치도는 10일 상어퇴치기...</td>\n",
              "    </tr>\n",
              "    <tr>\n",
              "      <th>3</th>\n",
              "      <td>홍준표 전 대표는 문희상 국회의장이 패스트트랙 법안을 본회의에 부의하려는 것을 두고...</td>\n",
              "      <td>지난달 30일 홍준표 자유한국당 전 대표가 문희상 의장이 패스트트랙 법안을 본회의에...</td>\n",
              "    </tr>\n",
              "    <tr>\n",
              "      <th>4</th>\n",
              "      <td>에서의 삼성 SDS의 대표 홍원표 대표는 지난 25일 서울 송파구 본사에서 중국 I...</td>\n",
              "      <td>삼성SDS(대표 홍원표)는 지난 25일 서울 송파구 본사에서 시스템통합, IT아웃소...</td>\n",
              "    </tr>\n",
              "    <tr>\n",
              "      <th>...</th>\n",
              "      <td>...</td>\n",
              "      <td>...</td>\n",
              "    </tr>\n",
              "    <tr>\n",
              "      <th>9995</th>\n",
              "      <td>이노베이션은 지난해 4·4분기부터 '그룹 통합 채용사이트'와 별도로 'SK이노베이션...</td>\n",
              "      <td>SK이노베이션은 김준 SK이노베이션 총괄 사장의 인재 영입 철학을 반영하여 작년 4...</td>\n",
              "    </tr>\n",
              "    <tr>\n",
              "      <th>9996</th>\n",
              "      <td>&amp;G는 내달 7일까지 취업을 준비하는 2~4학년 대학생 150명을 대상으로 취업 상...</td>\n",
              "      <td>내달 7일까지 KT&amp;G는 2~4학년 대학생 150명을 대상으로 취업 상담 프로그램 ...</td>\n",
              "    </tr>\n",
              "    <tr>\n",
              "      <th>9997</th>\n",
              "      <td>원이 조선업이 위기를 맞으며 지역 상권도 식품하고 있는 '거제도' 첫 편으로 꾸며진...</td>\n",
              "      <td>지난 27일 '백종원의 골목식당'은 '보리밥&amp;코다리찜'의 주방점검 장면에서 동시간대...</td>\n",
              "    </tr>\n",
              "    <tr>\n",
              "      <th>9998</th>\n",
              "      <td>하는 자녀들에게 수능 당일 가족들이 꼭 챙겨주는 소지품 중 하나다.</td>\n",
              "      <td>소의 도축 과정에서 발견하여 약재로 쓰는 우황은 기본적으로 몸 안의 열을 치료하는 ...</td>\n",
              "    </tr>\n",
              "    <tr>\n",
              "      <th>9999</th>\n",
              "      <td>기왕의 전과사실이 효되는 것은 아니므로 국립묘지 안장대상 결격사유는 해소되지 않다고...</td>\n",
              "      <td>국가보훈처는 전두환 전 대통령이 사망하는 경우에도 전과사실이 실효되지 않아 국립묘지...</td>\n",
              "    </tr>\n",
              "  </tbody>\n",
              "</table>\n",
              "<p>10000 rows × 2 columns</p>\n",
              "</div>"
            ],
            "text/plain": [
              "                                         Generated Text                                        Actual Text\n",
              "0     구의 메카 충북 단양군에서 탁구인들이 그동안 갈고 배운 자웅을 겨루는 '제3회 만천...  9~10일 이틀간 충북 단양국민체육센터에서 '제3회 만천하스카이워크배 전국오픈 탁구...\n",
              "1     시는 미세먼지 저감을 위해 시행 중인 차량운행제한 정책의 실효성을 높이기 위해 내년...  '승용차마일리지제'는 서울시가 지난 2017년 도입한 것으로, 미세먼지 저감을 위한...\n",
              "2     면에서 상어 1개체가 발견되었으며, 최근 제주도내 해수욕장에 상어가 나타나면서 제주...  최근 제주도내 해수욕장에서 발생한 상어 출현으로, 제주특별자치도는 10일 상어퇴치기...\n",
              "3     홍준표 전 대표는 문희상 국회의장이 패스트트랙 법안을 본회의에 부의하려는 것을 두고...  지난달 30일 홍준표 자유한국당 전 대표가 문희상 의장이 패스트트랙 법안을 본회의에...\n",
              "4     에서의 삼성 SDS의 대표 홍원표 대표는 지난 25일 서울 송파구 본사에서 중국 I...  삼성SDS(대표 홍원표)는 지난 25일 서울 송파구 본사에서 시스템통합, IT아웃소...\n",
              "...                                                 ...                                                ...\n",
              "9995  이노베이션은 지난해 4·4분기부터 '그룹 통합 채용사이트'와 별도로 'SK이노베이션...  SK이노베이션은 김준 SK이노베이션 총괄 사장의 인재 영입 철학을 반영하여 작년 4...\n",
              "9996  &G는 내달 7일까지 취업을 준비하는 2~4학년 대학생 150명을 대상으로 취업 상...  내달 7일까지 KT&G는 2~4학년 대학생 150명을 대상으로 취업 상담 프로그램 ...\n",
              "9997  원이 조선업이 위기를 맞으며 지역 상권도 식품하고 있는 '거제도' 첫 편으로 꾸며진...  지난 27일 '백종원의 골목식당'은 '보리밥&코다리찜'의 주방점검 장면에서 동시간대...\n",
              "9998              하는 자녀들에게 수능 당일 가족들이 꼭 챙겨주는 소지품 중 하나다.  소의 도축 과정에서 발견하여 약재로 쓰는 우황은 기본적으로 몸 안의 열을 치료하는 ...\n",
              "9999  기왕의 전과사실이 효되는 것은 아니므로 국립묘지 안장대상 결격사유는 해소되지 않다고...  국가보훈처는 전두환 전 대통령이 사망하는 경우에도 전과사실이 실효되지 않아 국립묘지...\n",
              "\n",
              "[10000 rows x 2 columns]"
            ]
          },
          "metadata": {},
          "execution_count": 13
        }
      ]
    },
    {
      "cell_type": "code",
      "metadata": {
        "colab": {
          "base_uri": "https://localhost:8080/"
        },
        "id": "oA1ML4jvSNo3",
        "outputId": "ba10b7a1-3fd3-42c7-fd9f-02b910cf3d2f"
      },
      "source": [
        "# et5 epoch8 데이터 290,000건 학습 후 생성한 문장 10,000건의 기사 원문과의 bert score\n",
        "!bert-score -r document.txt -c generated_et5_290000_epoch8.txt -m 'monologg/koelectra-base-v2-discriminator' -l 2 --use_fast_tokenizer"
      ],
      "execution_count": null,
      "outputs": [
        {
          "output_type": "stream",
          "name": "stdout",
          "text": [
            "Some weights of the model checkpoint at monologg/koelectra-base-v2-discriminator were not used when initializing ElectraModel: ['discriminator_predictions.dense_prediction.bias', 'discriminator_predictions.dense.bias', 'discriminator_predictions.dense.weight', 'discriminator_predictions.dense_prediction.weight']\n",
            "- This IS expected if you are initializing ElectraModel from the checkpoint of a model trained on another task or with another architecture (e.g. initializing a BertForSequenceClassification model from a BertForPreTraining model).\n",
            "- This IS NOT expected if you are initializing ElectraModel from the checkpoint of a model that you expect to be exactly identical (initializing a BertForSequenceClassification model from a BertForSequenceClassification model).\n",
            "monologg/koelectra-base-v2-discriminator_L2_no-idf_version=0.3.10(hug_trans=4.12.5) P: 0.904235 R: 0.718328 F1: 0.800287\n"
          ]
        }
      ]
    },
    {
      "cell_type": "code",
      "metadata": {
        "colab": {
          "base_uri": "https://localhost:8080/"
        },
        "id": "oYr1L9rNj3Ef",
        "outputId": "c729d7be-1895-45ed-c451-96cafb6e67d3"
      },
      "source": [
        "# et5 epoch10 데이터 290,000건 학습 후 생성한 문장 10,000건의 기사 원문과의 bert score\n",
        "!bert-score -r document.txt -c generated_et5_290000_epoch10.txt -m 'monologg/koelectra-base-v2-discriminator' -l 2 --use_fast_tokenizer"
      ],
      "execution_count": null,
      "outputs": [
        {
          "output_type": "stream",
          "name": "stdout",
          "text": [
            "Some weights of the model checkpoint at monologg/koelectra-base-v2-discriminator were not used when initializing ElectraModel: ['discriminator_predictions.dense.weight', 'discriminator_predictions.dense_prediction.weight', 'discriminator_predictions.dense.bias', 'discriminator_predictions.dense_prediction.bias']\n",
            "- This IS expected if you are initializing ElectraModel from the checkpoint of a model trained on another task or with another architecture (e.g. initializing a BertForSequenceClassification model from a BertForPreTraining model).\n",
            "- This IS NOT expected if you are initializing ElectraModel from the checkpoint of a model that you expect to be exactly identical (initializing a BertForSequenceClassification model from a BertForSequenceClassification model).\n",
            "monologg/koelectra-base-v2-discriminator_L2_no-idf_version=0.3.10(hug_trans=4.12.5) P: 0.904901 R: 0.718471 F1: 0.800630\n"
          ]
        }
      ]
    },
    {
      "cell_type": "code",
      "metadata": {
        "colab": {
          "base_uri": "https://localhost:8080/"
        },
        "id": "R1eRt4qMj3Lg",
        "outputId": "3f03fb39-639b-4741-89f7-ebbb24fb7c42"
      },
      "source": [
        "# et5 epoch12 데이터 290,000건 학습 후 생성한 문장 10,000건의 기사 원문과의 bert score\n",
        "!bert-score -r document.txt -c generated_et5_290000_epoch12.txt -m 'monologg/koelectra-base-v2-discriminator' -l 2 --use_fast_tokenizer"
      ],
      "execution_count": null,
      "outputs": [
        {
          "output_type": "stream",
          "name": "stdout",
          "text": [
            "Some weights of the model checkpoint at monologg/koelectra-base-v2-discriminator were not used when initializing ElectraModel: ['discriminator_predictions.dense_prediction.bias', 'discriminator_predictions.dense_prediction.weight', 'discriminator_predictions.dense.weight', 'discriminator_predictions.dense.bias']\n",
            "- This IS expected if you are initializing ElectraModel from the checkpoint of a model trained on another task or with another architecture (e.g. initializing a BertForSequenceClassification model from a BertForPreTraining model).\n",
            "- This IS NOT expected if you are initializing ElectraModel from the checkpoint of a model that you expect to be exactly identical (initializing a BertForSequenceClassification model from a BertForSequenceClassification model).\n",
            "monologg/koelectra-base-v2-discriminator_L2_no-idf_version=0.3.10(hug_trans=4.12.5) P: 0.907085 R: 0.727429 F1: 0.807033\n"
          ]
        }
      ]
    },
    {
      "cell_type": "code",
      "metadata": {
        "colab": {
          "base_uri": "https://localhost:8080/"
        },
        "id": "fNSqbL86j3d_",
        "outputId": "58177a7d-7b50-4f79-97c7-536e5a573801"
      },
      "source": [
        "# et5 epoch15 데이터 290,000건 학습 후 생성한 문장 10,000건의 기사 원문과의 bert score\n",
        "!bert-score -r document.txt -c generated_et5_290000_epoch15.txt -m 'monologg/koelectra-base-v2-discriminator' -l 2 --use_fast_tokenizer"
      ],
      "execution_count": null,
      "outputs": [
        {
          "output_type": "stream",
          "name": "stdout",
          "text": [
            "Some weights of the model checkpoint at monologg/koelectra-base-v2-discriminator were not used when initializing ElectraModel: ['discriminator_predictions.dense_prediction.bias', 'discriminator_predictions.dense.weight', 'discriminator_predictions.dense_prediction.weight', 'discriminator_predictions.dense.bias']\n",
            "- This IS expected if you are initializing ElectraModel from the checkpoint of a model trained on another task or with another architecture (e.g. initializing a BertForSequenceClassification model from a BertForPreTraining model).\n",
            "- This IS NOT expected if you are initializing ElectraModel from the checkpoint of a model that you expect to be exactly identical (initializing a BertForSequenceClassification model from a BertForSequenceClassification model).\n",
            "monologg/koelectra-base-v2-discriminator_L2_no-idf_version=0.3.10(hug_trans=4.12.5) P: 0.903528 R: 0.719717 F1: 0.800838\n"
          ]
        }
      ]
    },
    {
      "cell_type": "markdown",
      "source": [
        "## 3) Countinual learning 데이터 30,000건을 10,000건씩 3번에 끊어서 추가학습 시킨 경우와 30,000건을 한번에 학습한 모델 간 비교"
      ],
      "metadata": {
        "id": "xdiBIHchzXWU"
      }
    },
    {
      "cell_type": "code",
      "source": [
        "# et5 모델 데이터 10000건 epoch15 학습 후 생성한 문장 1,000건\n",
        "et5_10000_15_1 = pd.read_csv('/content/drive/MyDrive/3차 프로젝트/etri_et5_기타(추가학습 비교)/et5_(10000*15).csv', index_col = 0)\n",
        "et5_10000_15_1['Generated Text'].to_csv('generated_et5_10000_epoch15_1.txt', header = 0, index = False)\n",
        "et5_10000_15_1"
      ],
      "metadata": {
        "colab": {
          "base_uri": "https://localhost:8080/",
          "height": 423
        },
        "id": "CFEGOINRhRMS",
        "outputId": "63f24e7e-1822-4147-84b8-04ef93fbfe96"
      },
      "execution_count": 26,
      "outputs": [
        {
          "output_type": "execute_result",
          "data": {
            "text/html": [
              "<div>\n",
              "<style scoped>\n",
              "    .dataframe tbody tr th:only-of-type {\n",
              "        vertical-align: middle;\n",
              "    }\n",
              "\n",
              "    .dataframe tbody tr th {\n",
              "        vertical-align: top;\n",
              "    }\n",
              "\n",
              "    .dataframe thead th {\n",
              "        text-align: right;\n",
              "    }\n",
              "</style>\n",
              "<table border=\"1\" class=\"dataframe\">\n",
              "  <thead>\n",
              "    <tr style=\"text-align: right;\">\n",
              "      <th></th>\n",
              "      <th>Generated Text</th>\n",
              "      <th>Actual Text</th>\n",
              "    </tr>\n",
              "  </thead>\n",
              "  <tbody>\n",
              "    <tr>\n",
              "      <th>0</th>\n",
              "      <td>속도를 높히고자 대학교 커넥트엔터테이먼트 측은 19일 공식 홈페이지의 악플러 고소 ...</td>\n",
              "      <td>가수 강다니엘이 모욕죄 혐의로 악플러에 대한 고소장을 서울강남경찰서에 제출하며 합의...</td>\n",
              "    </tr>\n",
              "    <tr>\n",
              "      <th>1</th>\n",
              "      <td>경우시의회가 청소년의회 역할 이해 및 입법체험을 위해 진행하고 있는 ‘2019년 안...</td>\n",
              "      <td>안산시의회는 지난 7월 22일과 29일에 청소년의회 제1·2차 본회의를 열어 실제 ...</td>\n",
              "    </tr>\n",
              "    <tr>\n",
              "      <th>2</th>\n",
              "      <td>속도를 이용해 여자선수 12명의 신체 일부분을 불법 촬영한 일본인이 검찰에 송치되었...</td>\n",
              "      <td>2019 광주세계수영선수권대회에서 18일 일본인A씨가 12명의 여자선수들의 신체 일...</td>\n",
              "    </tr>\n",
              "    <tr>\n",
              "      <th>3</th>\n",
              "      <td>속이자 대출, 부대 정보 시스템 구축, 다양한 공간 활용으로 주거 생활제일건설은 1...</td>\n",
              "      <td>제일건설은 실수요자들에게 선호도 높은 전용 면적과 효율적인 공간 활용을 강점으로 1...</td>\n",
              "    </tr>\n",
              "    <tr>\n",
              "      <th>4</th>\n",
              "      <td>경우에 위치한 에이치엘비의 등락률은 현재 +14.87%로 148,300원에 거래되고...</td>\n",
              "      <td>월요일 11시 00분 현재 조선업종 내 상승종목 등락률 1위를 차지한 에이치엘비종목...</td>\n",
              "    </tr>\n",
              "    <tr>\n",
              "      <th>...</th>\n",
              "      <td>...</td>\n",
              "      <td>...</td>\n",
              "    </tr>\n",
              "    <tr>\n",
              "      <th>995</th>\n",
              "      <td>속도를 증대하며 교육부의 '고등교육법 개정안'에 따라 1일부터 '강사법' 시행을 앞...</td>\n",
              "      <td>오는 1일부터 '강사법' 시행을 앞둔 가운데 대학들은 고등교육법 개정안에 따른 1년...</td>\n",
              "    </tr>\n",
              "    <tr>\n",
              "      <th>996</th>\n",
              "      <td>경우특별시 보훈청은 제주도내에 주소를지를 둔 만 65세 이상의 참전유공자에게 월 9...</td>\n",
              "      <td>제주특별자치도 보훈청은 지난 12일 이러한 내용을 담은 제주도 참전유공자 지원 조례...</td>\n",
              "    </tr>\n",
              "    <tr>\n",
              "      <th>997</th>\n",
              "      <td>경우를 맞아 오세훈 아산시장은 '지역경제 활력'과 '50만 자족도시 건설'에 나서며...</td>\n",
              "      <td>오세현 아산시장은 아산의 모든 역량과 기회를 지역경제 활성화에 집중하겠다며 지역경제...</td>\n",
              "    </tr>\n",
              "    <tr>\n",
              "      <th>998</th>\n",
              "      <td>경우( 42·남)씨와 B(40·여) 씨는 출생 신고를 하지 않고 아이가 병사하지 않...</td>\n",
              "      <td>서울남부지검 여성아동범죄조사부는 2010년 10월에 낳은 여자 아이에게 예방접종을 ...</td>\n",
              "    </tr>\n",
              "    <tr>\n",
              "      <th>999</th>\n",
              "      <td>경우성상 의원에 의해 한미정상 통화 내용 유출과 관련하여 문재인 대통령은 정상 회담...</td>\n",
              "      <td>문재인 대통령은 29일 청와대에서 주재한 을지태극 국무회의 모두발언에서 한국당 강효...</td>\n",
              "    </tr>\n",
              "  </tbody>\n",
              "</table>\n",
              "<p>1000 rows × 2 columns</p>\n",
              "</div>"
            ],
            "text/plain": [
              "                                        Generated Text                                        Actual Text\n",
              "0    속도를 높히고자 대학교 커넥트엔터테이먼트 측은 19일 공식 홈페이지의 악플러 고소 ...  가수 강다니엘이 모욕죄 혐의로 악플러에 대한 고소장을 서울강남경찰서에 제출하며 합의...\n",
              "1    경우시의회가 청소년의회 역할 이해 및 입법체험을 위해 진행하고 있는 ‘2019년 안...  안산시의회는 지난 7월 22일과 29일에 청소년의회 제1·2차 본회의를 열어 실제 ...\n",
              "2    속도를 이용해 여자선수 12명의 신체 일부분을 불법 촬영한 일본인이 검찰에 송치되었...  2019 광주세계수영선수권대회에서 18일 일본인A씨가 12명의 여자선수들의 신체 일...\n",
              "3    속이자 대출, 부대 정보 시스템 구축, 다양한 공간 활용으로 주거 생활제일건설은 1...  제일건설은 실수요자들에게 선호도 높은 전용 면적과 효율적인 공간 활용을 강점으로 1...\n",
              "4    경우에 위치한 에이치엘비의 등락률은 현재 +14.87%로 148,300원에 거래되고...  월요일 11시 00분 현재 조선업종 내 상승종목 등락률 1위를 차지한 에이치엘비종목...\n",
              "..                                                 ...                                                ...\n",
              "995  속도를 증대하며 교육부의 '고등교육법 개정안'에 따라 1일부터 '강사법' 시행을 앞...  오는 1일부터 '강사법' 시행을 앞둔 가운데 대학들은 고등교육법 개정안에 따른 1년...\n",
              "996  경우특별시 보훈청은 제주도내에 주소를지를 둔 만 65세 이상의 참전유공자에게 월 9...  제주특별자치도 보훈청은 지난 12일 이러한 내용을 담은 제주도 참전유공자 지원 조례...\n",
              "997  경우를 맞아 오세훈 아산시장은 '지역경제 활력'과 '50만 자족도시 건설'에 나서며...  오세현 아산시장은 아산의 모든 역량과 기회를 지역경제 활성화에 집중하겠다며 지역경제...\n",
              "998  경우( 42·남)씨와 B(40·여) 씨는 출생 신고를 하지 않고 아이가 병사하지 않...  서울남부지검 여성아동범죄조사부는 2010년 10월에 낳은 여자 아이에게 예방접종을 ...\n",
              "999  경우성상 의원에 의해 한미정상 통화 내용 유출과 관련하여 문재인 대통령은 정상 회담...  문재인 대통령은 29일 청와대에서 주재한 을지태극 국무회의 모두발언에서 한국당 강효...\n",
              "\n",
              "[1000 rows x 2 columns]"
            ]
          },
          "metadata": {},
          "execution_count": 26
        }
      ]
    },
    {
      "cell_type": "code",
      "source": [
        "# et5 모델 데이터 10000건 epoch15 학습 후, 10000건 epoch15 추가 학습한 모델이 생성한 문장 1,000건 \n",
        "et5_10000_15_2 = pd.read_csv('/content/drive/MyDrive/3차 프로젝트/etri_et5_기타(추가학습 비교)/et5_(20000*15).csv', index_col = 0)\n",
        "et5_10000_15_2['Generated Text'].to_csv('generated_et5_10000_epoch15_2.txt', header = 0, index = False)\n",
        "et5_10000_15_2"
      ],
      "metadata": {
        "colab": {
          "base_uri": "https://localhost:8080/",
          "height": 423
        },
        "id": "0UIhjaT7hRS3",
        "outputId": "1f1e96d4-b77c-4ed2-8bfe-f23e32313a2d"
      },
      "execution_count": 27,
      "outputs": [
        {
          "output_type": "execute_result",
          "data": {
            "text/html": [
              "<div>\n",
              "<style scoped>\n",
              "    .dataframe tbody tr th:only-of-type {\n",
              "        vertical-align: middle;\n",
              "    }\n",
              "\n",
              "    .dataframe tbody tr th {\n",
              "        vertical-align: top;\n",
              "    }\n",
              "\n",
              "    .dataframe thead th {\n",
              "        text-align: right;\n",
              "    }\n",
              "</style>\n",
              "<table border=\"1\" class=\"dataframe\">\n",
              "  <thead>\n",
              "    <tr style=\"text-align: right;\">\n",
              "      <th></th>\n",
              "      <th>Generated Text</th>\n",
              "      <th>Actual Text</th>\n",
              "    </tr>\n",
              "  </thead>\n",
              "  <tbody>\n",
              "    <tr>\n",
              "      <th>0</th>\n",
              "      <td>제공하기위해 커넥트엔터테인먼트 측은 19일 공식 홈페이지를 통해 강다니엘이 악플러에...</td>\n",
              "      <td>가수 강다니엘이 모욕죄 혐의로 악플러에 대한 고소장을 서울강남경찰서에 제출하며 합의...</td>\n",
              "    </tr>\n",
              "    <tr>\n",
              "      <th>1</th>\n",
              "      <td>의원이 의장단 구성을 마치고 본격적으로 활동을 하였으며 안산시 청소년의회는 올해 가...</td>\n",
              "      <td>안산시의회는 지난 7월 22일과 29일에 청소년의회 제1·2차 본회의를 열어 실제 ...</td>\n",
              "    </tr>\n",
              "    <tr>\n",
              "      <th>2</th>\n",
              "      <td>했고, A씨는 지난 14일 오전 11시께 남부대학교 국제수영장 수구 연습경기장에서 ...</td>\n",
              "      <td>2019 광주세계수영선수권대회에서 18일 일본인A씨가 12명의 여자선수들의 신체 일...</td>\n",
              "    </tr>\n",
              "    <tr>\n",
              "      <th>3</th>\n",
              "      <td>무상이 제공되는 익산 오투그란데 글로벌카운티 모델하우스가 지난 11일 선화로53길 ...</td>\n",
              "      <td>제일건설은 실수요자들에게 선호도 높은 전용 면적과 효율적인 공간 활용을 강점으로 1...</td>\n",
              "    </tr>\n",
              "    <tr>\n",
              "      <th>4</th>\n",
              "      <td>시장 현재가 148,300원에 거래되고 있고, 등락률 1위를 차지한 에이치엘비종목의...</td>\n",
              "      <td>월요일 11시 00분 현재 조선업종 내 상승종목 등락률 1위를 차지한 에이치엘비종목...</td>\n",
              "    </tr>\n",
              "    <tr>\n",
              "      <th>...</th>\n",
              "      <td>...</td>\n",
              "      <td>...</td>\n",
              "    </tr>\n",
              "    <tr>\n",
              "      <th>995</th>\n",
              "      <td>대학들이 강사모집을 앞당겨 '고등교육법 개정안'에 따라 1년의 계약기간, 담당 시수...</td>\n",
              "      <td>오는 1일부터 '강사법' 시행을 앞둔 가운데 대학들은 고등교육법 개정안에 따른 1년...</td>\n",
              "    </tr>\n",
              "    <tr>\n",
              "      <th>996</th>\n",
              "      <td>도내 소재지를 둔 만 65세 이상의 참전유공자에게 월 9만원(만 65세 이상)부터 ...</td>\n",
              "      <td>제주특별자치도 보훈청은 지난 12일 이러한 내용을 담은 제주도 참전유공자 지원 조례...</td>\n",
              "    </tr>\n",
              "    <tr>\n",
              "      <th>997</th>\n",
              "      <td>건설 예산을 확보한 오세현 아산시장은 2019년 시해를 맞아 지역경제 활력에과 자족...</td>\n",
              "      <td>오세현 아산시장은 아산의 모든 역량과 기회를 지역경제 활성화에 집중하겠다며 지역경제...</td>\n",
              "    </tr>\n",
              "    <tr>\n",
              "      <th>998</th>\n",
              "      <td>분석을 하지 않은 아이를 방치해 죽음에 이르게 한 부부가 지난 17일 유기치사 혐의...</td>\n",
              "      <td>서울남부지검 여성아동범죄조사부는 2010년 10월에 낳은 여자 아이에게 예방접종을 ...</td>\n",
              "    </tr>\n",
              "    <tr>\n",
              "      <th>999</th>\n",
              "      <td>랜드와 국가 운영의 근본에 관한 문제들을 기본과 상식을 지켜주길 바란다고았던 문 대...</td>\n",
              "      <td>문재인 대통령은 29일 청와대에서 주재한 을지태극 국무회의 모두발언에서 한국당 강효...</td>\n",
              "    </tr>\n",
              "  </tbody>\n",
              "</table>\n",
              "<p>1000 rows × 2 columns</p>\n",
              "</div>"
            ],
            "text/plain": [
              "                                        Generated Text                                        Actual Text\n",
              "0    제공하기위해 커넥트엔터테인먼트 측은 19일 공식 홈페이지를 통해 강다니엘이 악플러에...  가수 강다니엘이 모욕죄 혐의로 악플러에 대한 고소장을 서울강남경찰서에 제출하며 합의...\n",
              "1    의원이 의장단 구성을 마치고 본격적으로 활동을 하였으며 안산시 청소년의회는 올해 가...  안산시의회는 지난 7월 22일과 29일에 청소년의회 제1·2차 본회의를 열어 실제 ...\n",
              "2    했고, A씨는 지난 14일 오전 11시께 남부대학교 국제수영장 수구 연습경기장에서 ...  2019 광주세계수영선수권대회에서 18일 일본인A씨가 12명의 여자선수들의 신체 일...\n",
              "3    무상이 제공되는 익산 오투그란데 글로벌카운티 모델하우스가 지난 11일 선화로53길 ...  제일건설은 실수요자들에게 선호도 높은 전용 면적과 효율적인 공간 활용을 강점으로 1...\n",
              "4    시장 현재가 148,300원에 거래되고 있고, 등락률 1위를 차지한 에이치엘비종목의...  월요일 11시 00분 현재 조선업종 내 상승종목 등락률 1위를 차지한 에이치엘비종목...\n",
              "..                                                 ...                                                ...\n",
              "995  대학들이 강사모집을 앞당겨 '고등교육법 개정안'에 따라 1년의 계약기간, 담당 시수...  오는 1일부터 '강사법' 시행을 앞둔 가운데 대학들은 고등교육법 개정안에 따른 1년...\n",
              "996  도내 소재지를 둔 만 65세 이상의 참전유공자에게 월 9만원(만 65세 이상)부터 ...  제주특별자치도 보훈청은 지난 12일 이러한 내용을 담은 제주도 참전유공자 지원 조례...\n",
              "997  건설 예산을 확보한 오세현 아산시장은 2019년 시해를 맞아 지역경제 활력에과 자족...  오세현 아산시장은 아산의 모든 역량과 기회를 지역경제 활성화에 집중하겠다며 지역경제...\n",
              "998  분석을 하지 않은 아이를 방치해 죽음에 이르게 한 부부가 지난 17일 유기치사 혐의...  서울남부지검 여성아동범죄조사부는 2010년 10월에 낳은 여자 아이에게 예방접종을 ...\n",
              "999  랜드와 국가 운영의 근본에 관한 문제들을 기본과 상식을 지켜주길 바란다고았던 문 대...  문재인 대통령은 29일 청와대에서 주재한 을지태극 국무회의 모두발언에서 한국당 강효...\n",
              "\n",
              "[1000 rows x 2 columns]"
            ]
          },
          "metadata": {},
          "execution_count": 27
        }
      ]
    },
    {
      "cell_type": "code",
      "source": [
        "# et5 모델 데이터 10000건씩 epoch15 2번 학습 후, 10000건 epoch15 추가 학습한 모델이 생성한 문장 1,000건 \n",
        "et5_10000_15_3 = pd.read_csv('/content/drive/MyDrive/3차 프로젝트/etri_et5_기타(추가학습 비교)/et5_(30000*15)_extra.csv', index_col = 0)\n",
        "et5_10000_15_3['Generated Text'].to_csv('generated_et5_10000_epoch15_3.txt', header = 0, index = False)\n",
        "et5_10000_15_3"
      ],
      "metadata": {
        "colab": {
          "base_uri": "https://localhost:8080/",
          "height": 423
        },
        "id": "Chn21LyzfE7b",
        "outputId": "9fbe6795-90d4-47ee-b811-7f99fd03f04a"
      },
      "execution_count": 19,
      "outputs": [
        {
          "output_type": "execute_result",
          "data": {
            "text/html": [
              "<div>\n",
              "<style scoped>\n",
              "    .dataframe tbody tr th:only-of-type {\n",
              "        vertical-align: middle;\n",
              "    }\n",
              "\n",
              "    .dataframe tbody tr th {\n",
              "        vertical-align: top;\n",
              "    }\n",
              "\n",
              "    .dataframe thead th {\n",
              "        text-align: right;\n",
              "    }\n",
              "</style>\n",
              "<table border=\"1\" class=\"dataframe\">\n",
              "  <thead>\n",
              "    <tr style=\"text-align: right;\">\n",
              "      <th></th>\n",
              "      <th>Generated Text</th>\n",
              "      <th>Actual Text</th>\n",
              "    </tr>\n",
              "  </thead>\n",
              "  <tbody>\n",
              "    <tr>\n",
              "      <th>0</th>\n",
              "      <td>소속사 커넥트엔터테인먼트 측은 19일 공식 홈페이지를 통해 지난 8월 소속 아티스트...</td>\n",
              "      <td>가수 강다니엘이 모욕죄 혐의로 악플러에 대한 고소장을 서울강남경찰서에 제출하며 합의...</td>\n",
              "    </tr>\n",
              "    <tr>\n",
              "      <th>1</th>\n",
              "      <td>투표까지 진행되는 등 안산시의회가 청소년의회 제1·2차 본회의를 개최해 '2019년...</td>\n",
              "      <td>안산시의회는 지난 7월 22일과 29일에 청소년의회 제1·2차 본회의를 열어 실제 ...</td>\n",
              "    </tr>\n",
              "    <tr>\n",
              "      <th>2</th>\n",
              "      <td>선수 이씨는 2019 광주세계수영선수권대회에서 여자선수의 신체를 불법 촬영한 일본인...</td>\n",
              "      <td>2019 광주세계수영선수권대회에서 18일 일본인A씨가 12명의 여자선수들의 신체 일...</td>\n",
              "    </tr>\n",
              "    <tr>\n",
              "      <th>3</th>\n",
              "      <td>4Bay 혁신평면이 적용되며 팬트리(일부세대) 보조주방( 일부세대) 드레스룸을 적용...</td>\n",
              "      <td>제일건설은 실수요자들에게 선호도 높은 전용 면적과 효율적인 공간 활용을 강점으로 1...</td>\n",
              "    </tr>\n",
              "    <tr>\n",
              "      <th>4</th>\n",
              "      <td>11시 00분 현재, 코스닥 상장사인 에이치엘비 종목은 에이치엘비종목의 등락률은 +...</td>\n",
              "      <td>월요일 11시 00분 현재 조선업종 내 상승종목 등락률 1위를 차지한 에이치엘비종목...</td>\n",
              "    </tr>\n",
              "    <tr>\n",
              "      <th>...</th>\n",
              "      <td>...</td>\n",
              "      <td>...</td>\n",
              "    </tr>\n",
              "    <tr>\n",
              "      <th>995</th>\n",
              "      <td>조사를 위한 대학 재정부담 대책과 강사들의 장기적 처우개선 문제와 관련된 예산 확보...</td>\n",
              "      <td>오는 1일부터 '강사법' 시행을 앞둔 가운데 대학들은 고등교육법 개정안에 따른 1년...</td>\n",
              "    </tr>\n",
              "    <tr>\n",
              "      <th>996</th>\n",
              "      <td>유공자 사망시 그의 배우자에게 명예수당을 승계 지급하도록 하는 내용을 제주도 참전유...</td>\n",
              "      <td>제주특별자치도 보훈청은 지난 12일 이러한 내용을 담은 제주도 참전유공자 지원 조례...</td>\n",
              "    </tr>\n",
              "    <tr>\n",
              "      <th>997</th>\n",
              "      <td>아산시장은 2019년 시해를 맞아 “지역경제 활력’과 ‘50만 자족도시 건설’에 나...</td>\n",
              "      <td>오세현 아산시장은 아산의 모든 역량과 기회를 지역경제 활성화에 집중하겠다며 지역경제...</td>\n",
              "    </tr>\n",
              "    <tr>\n",
              "      <th>998</th>\n",
              "      <td>처리를 진행한 서울남부지검 여성아동범죄조사부(강수산나 부장검사)는 출생 신고를 하지...</td>\n",
              "      <td>서울남부지검 여성아동범죄조사부는 2010년 10월에 낳은 여자 아이에게 예방접종을 ...</td>\n",
              "    </tr>\n",
              "    <tr>\n",
              "      <th>999</th>\n",
              "      <td>이며 가장 시급한 문재인 대통령은 한국당을 향해 '기밀유출을 공익제보로 두둔하는 정...</td>\n",
              "      <td>문재인 대통령은 29일 청와대에서 주재한 을지태극 국무회의 모두발언에서 한국당 강효...</td>\n",
              "    </tr>\n",
              "  </tbody>\n",
              "</table>\n",
              "<p>1000 rows × 2 columns</p>\n",
              "</div>"
            ],
            "text/plain": [
              "                                        Generated Text                                        Actual Text\n",
              "0    소속사 커넥트엔터테인먼트 측은 19일 공식 홈페이지를 통해 지난 8월 소속 아티스트...  가수 강다니엘이 모욕죄 혐의로 악플러에 대한 고소장을 서울강남경찰서에 제출하며 합의...\n",
              "1    투표까지 진행되는 등 안산시의회가 청소년의회 제1·2차 본회의를 개최해 '2019년...  안산시의회는 지난 7월 22일과 29일에 청소년의회 제1·2차 본회의를 열어 실제 ...\n",
              "2    선수 이씨는 2019 광주세계수영선수권대회에서 여자선수의 신체를 불법 촬영한 일본인...  2019 광주세계수영선수권대회에서 18일 일본인A씨가 12명의 여자선수들의 신체 일...\n",
              "3    4Bay 혁신평면이 적용되며 팬트리(일부세대) 보조주방( 일부세대) 드레스룸을 적용...  제일건설은 실수요자들에게 선호도 높은 전용 면적과 효율적인 공간 활용을 강점으로 1...\n",
              "4    11시 00분 현재, 코스닥 상장사인 에이치엘비 종목은 에이치엘비종목의 등락률은 +...  월요일 11시 00분 현재 조선업종 내 상승종목 등락률 1위를 차지한 에이치엘비종목...\n",
              "..                                                 ...                                                ...\n",
              "995  조사를 위한 대학 재정부담 대책과 강사들의 장기적 처우개선 문제와 관련된 예산 확보...  오는 1일부터 '강사법' 시행을 앞둔 가운데 대학들은 고등교육법 개정안에 따른 1년...\n",
              "996  유공자 사망시 그의 배우자에게 명예수당을 승계 지급하도록 하는 내용을 제주도 참전유...  제주특별자치도 보훈청은 지난 12일 이러한 내용을 담은 제주도 참전유공자 지원 조례...\n",
              "997  아산시장은 2019년 시해를 맞아 “지역경제 활력’과 ‘50만 자족도시 건설’에 나...  오세현 아산시장은 아산의 모든 역량과 기회를 지역경제 활성화에 집중하겠다며 지역경제...\n",
              "998  처리를 진행한 서울남부지검 여성아동범죄조사부(강수산나 부장검사)는 출생 신고를 하지...  서울남부지검 여성아동범죄조사부는 2010년 10월에 낳은 여자 아이에게 예방접종을 ...\n",
              "999  이며 가장 시급한 문재인 대통령은 한국당을 향해 '기밀유출을 공익제보로 두둔하는 정...  문재인 대통령은 29일 청와대에서 주재한 을지태극 국무회의 모두발언에서 한국당 강효...\n",
              "\n",
              "[1000 rows x 2 columns]"
            ]
          },
          "metadata": {},
          "execution_count": 19
        }
      ]
    },
    {
      "cell_type": "code",
      "source": [
        "# Countinual learning의 비교는 생성 요약문 1,000건에 대해서만 진행하여 validation dataset에서 기사 원문 1,000건 추출\n",
        "validation_short = pd.read_csv('/content/drive/MyDrive/3차 프로젝트/dataset/valid.csv')[['document','label']][20000:21000]\n",
        "# 비교를 위한 기사 원문 .txt 파일로 저장\n",
        "validation_short['document'].to_csv('document_short.txt', header = 0, index = False)\n",
        "validation_short"
      ],
      "metadata": {
        "colab": {
          "base_uri": "https://localhost:8080/",
          "height": 423
        },
        "id": "LbRM8-UPgW8g",
        "outputId": "13ad06e4-2257-40bd-cfaf-12faebbf69a5"
      },
      "execution_count": 22,
      "outputs": [
        {
          "output_type": "execute_result",
          "data": {
            "text/html": [
              "<div>\n",
              "<style scoped>\n",
              "    .dataframe tbody tr th:only-of-type {\n",
              "        vertical-align: middle;\n",
              "    }\n",
              "\n",
              "    .dataframe tbody tr th {\n",
              "        vertical-align: top;\n",
              "    }\n",
              "\n",
              "    .dataframe thead th {\n",
              "        text-align: right;\n",
              "    }\n",
              "</style>\n",
              "<table border=\"1\" class=\"dataframe\">\n",
              "  <thead>\n",
              "    <tr style=\"text-align: right;\">\n",
              "      <th></th>\n",
              "      <th>document</th>\n",
              "      <th>label</th>\n",
              "    </tr>\n",
              "  </thead>\n",
              "  <tbody>\n",
              "    <tr>\n",
              "      <th>20000</th>\n",
              "      <td>▲ '제3회 만천하스카이워크배 전국오픈 탁구대회'가 9~10일 단양국민체육센터에서 ...</td>\n",
              "      <td>9~10일 이틀간 충북 단양국민체육센터에서 '제3회 만천하스카이워크배 전국오픈 탁구...</td>\n",
              "    </tr>\n",
              "    <tr>\n",
              "      <th>20001</th>\n",
              "      <td>서울시가 미세먼지 저감을 위해 시행 중인 차량운행제한 정책의 실효성을 높이기 위해 ...</td>\n",
              "      <td>'승용차마일리지제'는 서울시가 지난 2017년 도입한 것으로, 미세먼지 저감을 위한...</td>\n",
              "    </tr>\n",
              "    <tr>\n",
              "      <th>20002</th>\n",
              "      <td>최근 제주도내 해수욕장에 상어가 나타나면서 제주특별자치도가 상어퇴치기 설치를 적극 ...</td>\n",
              "      <td>최근 제주도내 해수욕장에서 발생한 상어 출현으로, 제주특별자치도는 10일 상어퇴치기...</td>\n",
              "    </tr>\n",
              "    <tr>\n",
              "      <th>20003</th>\n",
              "      <td>신기호 기자최근 자유한국당 홍준표 전 대표가 문희상 국회의장이 정치세습을 한다고 주...</td>\n",
              "      <td>지난달 30일 홍준표 자유한국당 전 대표가 문희상 의장이 패스트트랙 법안을 본회의에...</td>\n",
              "    </tr>\n",
              "    <tr>\n",
              "      <th>20004</th>\n",
              "      <td>삼성SDS가 중국 스마트시티·클라우드·스마트물류 시장 개척에 본격적으로 나선다.삼성...</td>\n",
              "      <td>삼성SDS(대표 홍원표)는 지난 25일 서울 송파구 본사에서 시스템통합, IT아웃소...</td>\n",
              "    </tr>\n",
              "    <tr>\n",
              "      <th>...</th>\n",
              "      <td>...</td>\n",
              "      <td>...</td>\n",
              "    </tr>\n",
              "    <tr>\n",
              "      <th>20995</th>\n",
              "      <td>신용보증기금은 유니콘기업으로 성장할 가능성이 높은 스타트업 6개를 '제2기 혁신아이...</td>\n",
              "      <td>신용보증기금은 28일에 157개 기업이 지원해 26대 1의 경쟁률을 보였던 '유니콘...</td>\n",
              "    </tr>\n",
              "    <tr>\n",
              "      <th>20996</th>\n",
              "      <td>가정 경제 부담 경감, 대중교통 활성화 기대김호 기자 ho-kim@gynet.co....</td>\n",
              "      <td>광양시가 추진하고 있는 초등학생 대상 100원 시내버스의 이용객 반응이 좋아 내년부...</td>\n",
              "    </tr>\n",
              "    <tr>\n",
              "      <th>20997</th>\n",
              "      <td>[김봄이 기자 bom@imaeil.com]지역 국악인들이 국악전용 공연장 마련을 위...</td>\n",
              "      <td>대구에는 국악 공연을 제대로 할 수 있는 곳이 없어 주로 연극용 소극장이나 야외에서...</td>\n",
              "    </tr>\n",
              "    <tr>\n",
              "      <th>20998</th>\n",
              "      <td>틈새·향토산업 일자리 등 4개 분야 110개 사업이성훈 sinawi@hanmail....</td>\n",
              "      <td>전라남도는 청년인구 감소와 고용난에 대응하기 위해 새로운 일자리, 빈 일자리 채우기...</td>\n",
              "    </tr>\n",
              "    <tr>\n",
              "      <th>20999</th>\n",
              "      <td>김준형울주 군민과의 현장 소통을 확대하기 위해 시작한 열린군수실이 15일 100호를...</td>\n",
              "      <td>울주의 열린 군수실은 군민과의 현장 소통을 확대하기 위해서 악성이나 고질, 반복적 ...</td>\n",
              "    </tr>\n",
              "  </tbody>\n",
              "</table>\n",
              "<p>1000 rows × 2 columns</p>\n",
              "</div>"
            ],
            "text/plain": [
              "                                                document                                              label\n",
              "20000  ▲ '제3회 만천하스카이워크배 전국오픈 탁구대회'가 9~10일 단양국민체육센터에서 ...  9~10일 이틀간 충북 단양국민체육센터에서 '제3회 만천하스카이워크배 전국오픈 탁구...\n",
              "20001  서울시가 미세먼지 저감을 위해 시행 중인 차량운행제한 정책의 실효성을 높이기 위해 ...  '승용차마일리지제'는 서울시가 지난 2017년 도입한 것으로, 미세먼지 저감을 위한...\n",
              "20002  최근 제주도내 해수욕장에 상어가 나타나면서 제주특별자치도가 상어퇴치기 설치를 적극 ...  최근 제주도내 해수욕장에서 발생한 상어 출현으로, 제주특별자치도는 10일 상어퇴치기...\n",
              "20003  신기호 기자최근 자유한국당 홍준표 전 대표가 문희상 국회의장이 정치세습을 한다고 주...  지난달 30일 홍준표 자유한국당 전 대표가 문희상 의장이 패스트트랙 법안을 본회의에...\n",
              "20004  삼성SDS가 중국 스마트시티·클라우드·스마트물류 시장 개척에 본격적으로 나선다.삼성...  삼성SDS(대표 홍원표)는 지난 25일 서울 송파구 본사에서 시스템통합, IT아웃소...\n",
              "...                                                  ...                                                ...\n",
              "20995  신용보증기금은 유니콘기업으로 성장할 가능성이 높은 스타트업 6개를 '제2기 혁신아이...  신용보증기금은 28일에 157개 기업이 지원해 26대 1의 경쟁률을 보였던 '유니콘...\n",
              "20996  가정 경제 부담 경감, 대중교통 활성화 기대김호 기자 ho-kim@gynet.co....  광양시가 추진하고 있는 초등학생 대상 100원 시내버스의 이용객 반응이 좋아 내년부...\n",
              "20997  [김봄이 기자 bom@imaeil.com]지역 국악인들이 국악전용 공연장 마련을 위...  대구에는 국악 공연을 제대로 할 수 있는 곳이 없어 주로 연극용 소극장이나 야외에서...\n",
              "20998  틈새·향토산업 일자리 등 4개 분야 110개 사업이성훈 sinawi@hanmail....  전라남도는 청년인구 감소와 고용난에 대응하기 위해 새로운 일자리, 빈 일자리 채우기...\n",
              "20999  김준형울주 군민과의 현장 소통을 확대하기 위해 시작한 열린군수실이 15일 100호를...  울주의 열린 군수실은 군민과의 현장 소통을 확대하기 위해서 악성이나 고질, 반복적 ...\n",
              "\n",
              "[1000 rows x 2 columns]"
            ]
          },
          "metadata": {},
          "execution_count": 22
        }
      ]
    },
    {
      "cell_type": "code",
      "source": [
        "# et5 모델 학습데이터 30000건씩 epoch15 한번에 학습 후 생성한 문장\n",
        "et5_30000_15_1 = pd.read_csv('/content/drive/MyDrive/3차 프로젝트/etri_et5_기타(추가학습 비교)/et5_(30000*15)_whole.csv', index_col = 0)\n",
        "et5_30000_15_1['Generated Text'].to_csv('generated_et5_30000_epoch15_whole.txt', header = 0, index = False)\n",
        "et5_30000_15_1"
      ],
      "metadata": {
        "colab": {
          "base_uri": "https://localhost:8080/",
          "height": 423
        },
        "id": "uMTP1kaUfFDa",
        "outputId": "bde975de-aed2-4db9-f9ff-f4cc3137b497"
      },
      "execution_count": 20,
      "outputs": [
        {
          "output_type": "execute_result",
          "data": {
            "text/html": [
              "<div>\n",
              "<style scoped>\n",
              "    .dataframe tbody tr th:only-of-type {\n",
              "        vertical-align: middle;\n",
              "    }\n",
              "\n",
              "    .dataframe tbody tr th {\n",
              "        vertical-align: top;\n",
              "    }\n",
              "\n",
              "    .dataframe thead th {\n",
              "        text-align: right;\n",
              "    }\n",
              "</style>\n",
              "<table border=\"1\" class=\"dataframe\">\n",
              "  <thead>\n",
              "    <tr style=\"text-align: right;\">\n",
              "      <th></th>\n",
              "      <th>Generated Text</th>\n",
              "      <th>Actual Text</th>\n",
              "    </tr>\n",
              "  </thead>\n",
              "  <tbody>\n",
              "    <tr>\n",
              "      <th>0</th>\n",
              "      <td>2일 강다니엘 소속사 커넥트엔터테인먼트 측은 공식 홈페이지를 통해 9월 초 법률 자...</td>\n",
              "      <td>가수 강다니엘이 모욕죄 혐의로 악플러에 대한 고소장을 서울강남경찰서에 제출하며 합의...</td>\n",
              "    </tr>\n",
              "    <tr>\n",
              "      <th>1</th>\n",
              "      <td>를 위해 운영 중인 '2019년 안산시 청소년의회'가 의장단 구성을 마치고 본격적으...</td>\n",
              "      <td>안산시의회는 지난 7월 22일과 29일에 청소년의회 제1·2차 본회의를 열어 실제 ...</td>\n",
              "    </tr>\n",
              "    <tr>\n",
              "      <th>2</th>\n",
              "      <td>과 광산경찰서에 따르면 2019 광주세계수영선수권대회에서 여자 선수 12명의 신체를...</td>\n",
              "      <td>2019 광주세계수영선수권대회에서 18일 일본인A씨가 12명의 여자선수들의 신체 일...</td>\n",
              "    </tr>\n",
              "    <tr>\n",
              "      <th>3</th>\n",
              "      <td>단지는 익산시 선화로53길 8 일원에 위치해있고, 지하1층, 지상최고 20층 3개 ...</td>\n",
              "      <td>제일건설은 실수요자들에게 선호도 높은 전용 면적과 효율적인 공간 활용을 강점으로 1...</td>\n",
              "    </tr>\n",
              "    <tr>\n",
              "      <th>4</th>\n",
              "      <td>종목 등락률 1위를 차지한 에이치엘비는 등락률이 +14.87%이고, 2위는 한라IM...</td>\n",
              "      <td>월요일 11시 00분 현재 조선업종 내 상승종목 등락률 1위를 차지한 에이치엘비종목...</td>\n",
              "    </tr>\n",
              "    <tr>\n",
              "      <th>...</th>\n",
              "      <td>...</td>\n",
              "      <td>...</td>\n",
              "    </tr>\n",
              "    <tr>\n",
              "      <th>995</th>\n",
              "      <td>2학기 강사모집이 운영 중인 대학들은 '고등교육법 개정안'에 따라 1년의 계약기간,...</td>\n",
              "      <td>오는 1일부터 '강사법' 시행을 앞둔 가운데 대학들은 고등교육법 개정안에 따른 1년...</td>\n",
              "    </tr>\n",
              "    <tr>\n",
              "      <th>996</th>\n",
              "      <td>를 골자로 한 제주도 참전유공자 지원 조례 시행규칙 일부개정규칙안을 지난 12일 입...</td>\n",
              "      <td>제주특별자치도 보훈청은 지난 12일 이러한 내용을 담은 제주도 참전유공자 지원 조례...</td>\n",
              "    </tr>\n",
              "    <tr>\n",
              "      <th>997</th>\n",
              "      <td>290만m2의 규모의 산업단지를 조성하고, KTX역세권 연구개발 집적지구 조성과 민...</td>\n",
              "      <td>오세현 아산시장은 아산의 모든 역량과 기회를 지역경제 활성화에 집중하겠다며 지역경제...</td>\n",
              "    </tr>\n",
              "    <tr>\n",
              "      <th>998</th>\n",
              "      <td>부는 출생 신고를 하지 않은 아이를 방치해 숨지게 한 혐의로 A씨에게는 아동학대치사...</td>\n",
              "      <td>서울남부지검 여성아동범죄조사부는 2010년 10월에 낳은 여자 아이에게 예방접종을 ...</td>\n",
              "    </tr>\n",
              "    <tr>\n",
              "      <th>999</th>\n",
              "      <td>를 주재로 하는 을지태극 국무회의에서 문재인 대통령이 한국당에게 '기밀유출을 공익제...</td>\n",
              "      <td>문재인 대통령은 29일 청와대에서 주재한 을지태극 국무회의 모두발언에서 한국당 강효...</td>\n",
              "    </tr>\n",
              "  </tbody>\n",
              "</table>\n",
              "<p>1000 rows × 2 columns</p>\n",
              "</div>"
            ],
            "text/plain": [
              "                                        Generated Text                                        Actual Text\n",
              "0    2일 강다니엘 소속사 커넥트엔터테인먼트 측은 공식 홈페이지를 통해 9월 초 법률 자...  가수 강다니엘이 모욕죄 혐의로 악플러에 대한 고소장을 서울강남경찰서에 제출하며 합의...\n",
              "1    를 위해 운영 중인 '2019년 안산시 청소년의회'가 의장단 구성을 마치고 본격적으...  안산시의회는 지난 7월 22일과 29일에 청소년의회 제1·2차 본회의를 열어 실제 ...\n",
              "2    과 광산경찰서에 따르면 2019 광주세계수영선수권대회에서 여자 선수 12명의 신체를...  2019 광주세계수영선수권대회에서 18일 일본인A씨가 12명의 여자선수들의 신체 일...\n",
              "3    단지는 익산시 선화로53길 8 일원에 위치해있고, 지하1층, 지상최고 20층 3개 ...  제일건설은 실수요자들에게 선호도 높은 전용 면적과 효율적인 공간 활용을 강점으로 1...\n",
              "4    종목 등락률 1위를 차지한 에이치엘비는 등락률이 +14.87%이고, 2위는 한라IM...  월요일 11시 00분 현재 조선업종 내 상승종목 등락률 1위를 차지한 에이치엘비종목...\n",
              "..                                                 ...                                                ...\n",
              "995  2학기 강사모집이 운영 중인 대학들은 '고등교육법 개정안'에 따라 1년의 계약기간,...  오는 1일부터 '강사법' 시행을 앞둔 가운데 대학들은 고등교육법 개정안에 따른 1년...\n",
              "996  를 골자로 한 제주도 참전유공자 지원 조례 시행규칙 일부개정규칙안을 지난 12일 입...  제주특별자치도 보훈청은 지난 12일 이러한 내용을 담은 제주도 참전유공자 지원 조례...\n",
              "997  290만m2의 규모의 산업단지를 조성하고, KTX역세권 연구개발 집적지구 조성과 민...  오세현 아산시장은 아산의 모든 역량과 기회를 지역경제 활성화에 집중하겠다며 지역경제...\n",
              "998  부는 출생 신고를 하지 않은 아이를 방치해 숨지게 한 혐의로 A씨에게는 아동학대치사...  서울남부지검 여성아동범죄조사부는 2010년 10월에 낳은 여자 아이에게 예방접종을 ...\n",
              "999  를 주재로 하는 을지태극 국무회의에서 문재인 대통령이 한국당에게 '기밀유출을 공익제...  문재인 대통령은 29일 청와대에서 주재한 을지태극 국무회의 모두발언에서 한국당 강효...\n",
              "\n",
              "[1000 rows x 2 columns]"
            ]
          },
          "metadata": {},
          "execution_count": 20
        }
      ]
    },
    {
      "cell_type": "code",
      "source": [
        "# et5 모델 데이터 10000건 epoch15 학습 후 생성한 문장 1,000건의 기사 원문과의 bert score\n",
        "!bert-score -r document_short.txt -c generated_et5_10000_epoch15_1.txt -m 'monologg/koelectra-base-v2-discriminator' -l 2 --use_fast_tokenizer"
      ],
      "metadata": {
        "colab": {
          "base_uri": "https://localhost:8080/"
        },
        "id": "CcqUCUUwiLW5",
        "outputId": "22fc4bfd-09af-4c2e-dbfd-935bb266a313"
      },
      "execution_count": 28,
      "outputs": [
        {
          "output_type": "stream",
          "name": "stdout",
          "text": [
            "Some weights of the model checkpoint at monologg/koelectra-base-v2-discriminator were not used when initializing ElectraModel: ['discriminator_predictions.dense_prediction.weight', 'discriminator_predictions.dense.weight', 'discriminator_predictions.dense_prediction.bias', 'discriminator_predictions.dense.bias']\n",
            "- This IS expected if you are initializing ElectraModel from the checkpoint of a model trained on another task or with another architecture (e.g. initializing a BertForSequenceClassification model from a BertForPreTraining model).\n",
            "- This IS NOT expected if you are initializing ElectraModel from the checkpoint of a model that you expect to be exactly identical (initializing a BertForSequenceClassification model from a BertForSequenceClassification model).\n",
            "monologg/koelectra-base-v2-discriminator_L2_no-idf_version=0.3.10(hug_trans=4.12.5) P: 0.709129 R: 0.633515 F1: 0.668960\n"
          ]
        }
      ]
    },
    {
      "cell_type": "code",
      "source": [
        "# et5 모델 데이터 20000건에 대해서 10000건씩 2번에 끊어서 epoch15 학습 후 생성한 문장 1,000건의 기사 원문과의 bert score\n",
        "!bert-score -r document_short.txt -c generated_et5_10000_epoch15_2.txt -m 'monologg/koelectra-base-v2-discriminator' -l 2 --use_fast_tokenizer"
      ],
      "metadata": {
        "colab": {
          "base_uri": "https://localhost:8080/"
        },
        "id": "ldiBdAWQiLgc",
        "outputId": "7b13c533-2693-4476-c342-e5b6d424a87e"
      },
      "execution_count": 29,
      "outputs": [
        {
          "output_type": "stream",
          "name": "stdout",
          "text": [
            "Some weights of the model checkpoint at monologg/koelectra-base-v2-discriminator were not used when initializing ElectraModel: ['discriminator_predictions.dense.weight', 'discriminator_predictions.dense.bias', 'discriminator_predictions.dense_prediction.bias', 'discriminator_predictions.dense_prediction.weight']\n",
            "- This IS expected if you are initializing ElectraModel from the checkpoint of a model trained on another task or with another architecture (e.g. initializing a BertForSequenceClassification model from a BertForPreTraining model).\n",
            "- This IS NOT expected if you are initializing ElectraModel from the checkpoint of a model that you expect to be exactly identical (initializing a BertForSequenceClassification model from a BertForSequenceClassification model).\n",
            "monologg/koelectra-base-v2-discriminator_L2_no-idf_version=0.3.10(hug_trans=4.12.5) P: 0.711268 R: 0.629857 F1: 0.667839\n"
          ]
        }
      ]
    },
    {
      "cell_type": "code",
      "source": [
        "# et5 모델 데이터 30000건에 대해서 10000건씩 3번에 끊어서 epoch15 학습 후 생성한 문장 1,000건의 기사 원문과의 bert score\n",
        "!bert-score -r document_short.txt -c generated_et5_10000_epoch15_3.txt -m 'monologg/koelectra-base-v2-discriminator' -l 2 --use_fast_tokenizer"
      ],
      "metadata": {
        "colab": {
          "base_uri": "https://localhost:8080/"
        },
        "id": "iXHzBCqZe-7X",
        "outputId": "668f9829-2c22-4c4d-d9fa-7d8412e0134f"
      },
      "execution_count": 23,
      "outputs": [
        {
          "output_type": "stream",
          "name": "stdout",
          "text": [
            "Some weights of the model checkpoint at monologg/koelectra-base-v2-discriminator were not used when initializing ElectraModel: ['discriminator_predictions.dense_prediction.bias', 'discriminator_predictions.dense_prediction.weight', 'discriminator_predictions.dense.weight', 'discriminator_predictions.dense.bias']\n",
            "- This IS expected if you are initializing ElectraModel from the checkpoint of a model trained on another task or with another architecture (e.g. initializing a BertForSequenceClassification model from a BertForPreTraining model).\n",
            "- This IS NOT expected if you are initializing ElectraModel from the checkpoint of a model that you expect to be exactly identical (initializing a BertForSequenceClassification model from a BertForSequenceClassification model).\n",
            "monologg/koelectra-base-v2-discriminator_L2_no-idf_version=0.3.10(hug_trans=4.12.5) P: 0.707371 R: 0.633727 F1: 0.668304\n"
          ]
        }
      ]
    },
    {
      "cell_type": "code",
      "source": [
        "# et5 모델 데이터 30000건에 대해서 epoch15 한번에 학습 후 생성한 문장 1,000건의 기사 원문과의 bert score\n",
        "!bert-score -r document_short.txt -c generated_et5_30000_epoch15_whole.txt -m 'monologg/koelectra-base-v2-discriminator' -l 2 --use_fast_tokenizer"
      ],
      "metadata": {
        "colab": {
          "base_uri": "https://localhost:8080/"
        },
        "id": "sBbhJpPPfBXN",
        "outputId": "72578dd2-b2f2-4f32-b64a-fa7eb826f1ea"
      },
      "execution_count": 25,
      "outputs": [
        {
          "output_type": "stream",
          "name": "stdout",
          "text": [
            "Some weights of the model checkpoint at monologg/koelectra-base-v2-discriminator were not used when initializing ElectraModel: ['discriminator_predictions.dense_prediction.weight', 'discriminator_predictions.dense.bias', 'discriminator_predictions.dense.weight', 'discriminator_predictions.dense_prediction.bias']\n",
            "- This IS expected if you are initializing ElectraModel from the checkpoint of a model trained on another task or with another architecture (e.g. initializing a BertForSequenceClassification model from a BertForPreTraining model).\n",
            "- This IS NOT expected if you are initializing ElectraModel from the checkpoint of a model that you expect to be exactly identical (initializing a BertForSequenceClassification model from a BertForSequenceClassification model).\n",
            "monologg/koelectra-base-v2-discriminator_L2_no-idf_version=0.3.10(hug_trans=4.12.5) P: 0.708550 R: 0.634059 F1: 0.669019\n"
          ]
        }
      ]
    },
    {
      "cell_type": "markdown",
      "source": [
        "# BERT score 분포"
      ],
      "metadata": {
        "id": "M-iQ-xCq8BjN"
      }
    },
    {
      "cell_type": "markdown",
      "source": [
        "## 1) MT5, ET5, KE-T5 BERT score 분포"
      ],
      "metadata": {
        "id": "zyqkdY-f8hiE"
      }
    },
    {
      "cell_type": "code",
      "metadata": {
        "id": "efSynihbaJG8"
      },
      "source": [
        "with open(\"document.txt\") as f:\n",
        "    refs = [line.strip() for line in f]"
      ],
      "execution_count": 48,
      "outputs": []
    },
    {
      "cell_type": "code",
      "metadata": {
        "colab": {
          "base_uri": "https://localhost:8080/",
          "height": 350
        },
        "id": "o_qdvBkbl0_p",
        "outputId": "b7f20e5e-0621-4b0d-f1f9-19d60bb8aace"
      },
      "source": [
        "import matplotlib.pyplot as plt\n",
        "import seaborn as sns\n",
        "from bert_score import score\n",
        "with open(\"generated_mt5.txt\") as f:\n",
        "    cands = [line.strip() for line in f]\n",
        "P, R, F1_mt5 = score(cands, refs, model_type = 'monologg/koelectra-base-v2-discriminator', num_layers= 2, use_fast_tokenizer= True)\n",
        "sns.histplot(F1_mt5, bins=50)\n",
        "plt.xlabel(\"score\")\n",
        "plt.ylabel(\"counts\")\n",
        "plt.show()"
      ],
      "execution_count": 50,
      "outputs": [
        {
          "output_type": "stream",
          "name": "stderr",
          "text": [
            "Some weights of the model checkpoint at monologg/koelectra-base-v2-discriminator were not used when initializing ElectraModel: ['discriminator_predictions.dense_prediction.bias', 'discriminator_predictions.dense.weight', 'discriminator_predictions.dense_prediction.weight', 'discriminator_predictions.dense.bias']\n",
            "- This IS expected if you are initializing ElectraModel from the checkpoint of a model trained on another task or with another architecture (e.g. initializing a BertForSequenceClassification model from a BertForPreTraining model).\n",
            "- This IS NOT expected if you are initializing ElectraModel from the checkpoint of a model that you expect to be exactly identical (initializing a BertForSequenceClassification model from a BertForSequenceClassification model).\n"
          ]
        },
        {
          "output_type": "display_data",
          "data": {
            "image/png": "[encoded data removed]",
            "text/plain": [
              "<Figure size 432x288 with 1 Axes>"
            ]
          },
          "metadata": {
            "needs_background": "light"
          }
        }
      ]
    },
    {
      "cell_type": "code",
      "metadata": {
        "colab": {
          "base_uri": "https://localhost:8080/",
          "height": 352
        },
        "id": "swHNw-hrlf_z",
        "outputId": "0e2a8669-8240-4f16-9a98-8c1f11bbca69"
      },
      "source": [
        "# et5\n",
        "with open(\"generated_et5.txt\") as f:\n",
        "    cands = [line.strip() for line in f]\n",
        "P, R, F1_et5 = score(cands, refs, model_type = 'monologg/koelectra-base-v2-discriminator', num_layers= 2, use_fast_tokenizer= True)\n",
        "sns.histplot(F1_et5, bins=50)\n",
        "plt.xlabel(\"score\")\n",
        "plt.ylabel(\"counts\")\n",
        "plt.show()"
      ],
      "execution_count": 49,
      "outputs": [
        {
          "output_type": "stream",
          "name": "stderr",
          "text": [
            "Some weights of the model checkpoint at monologg/koelectra-base-v2-discriminator were not used when initializing ElectraModel: ['discriminator_predictions.dense_prediction.bias', 'discriminator_predictions.dense.weight', 'discriminator_predictions.dense_prediction.weight', 'discriminator_predictions.dense.bias']\n",
            "- This IS expected if you are initializing ElectraModel from the checkpoint of a model trained on another task or with another architecture (e.g. initializing a BertForSequenceClassification model from a BertForPreTraining model).\n",
            "- This IS NOT expected if you are initializing ElectraModel from the checkpoint of a model that you expect to be exactly identical (initializing a BertForSequenceClassification model from a BertForSequenceClassification model).\n"
          ]
        },
        {
          "output_type": "display_data",
          "data": {
            "image/png": "[encoded data removed]",
            "text/plain": [
              "<Figure size 432x288 with 1 Axes>"
            ]
          },
          "metadata": {
            "needs_background": "light"
          }
        }
      ]
    },
    {
      "cell_type": "code",
      "metadata": {
        "colab": {
          "base_uri": "https://localhost:8080/",
          "height": 350
        },
        "id": "qbA7OXDXl1GK",
        "outputId": "8679180a-943d-4850-9098-7eb1e3604cb5"
      },
      "source": [
        "# ke-t5\n",
        "with open(\"generated_ke_t5.txt\") as f:\n",
        "    cands = [line.strip() for line in f]\n",
        "P, R, F1_ket5 = score(cands, refs, model_type = 'monologg/koelectra-base-v2-discriminator', num_layers= 2, use_fast_tokenizer= True)\n",
        "sns.histplot(F1_ket5, bins=50)\n",
        "plt.xlabel(\"score\")\n",
        "plt.ylabel(\"counts\")\n",
        "plt.show()"
      ],
      "execution_count": 51,
      "outputs": [
        {
          "output_type": "stream",
          "name": "stderr",
          "text": [
            "Some weights of the model checkpoint at monologg/koelectra-base-v2-discriminator were not used when initializing ElectraModel: ['discriminator_predictions.dense_prediction.bias', 'discriminator_predictions.dense.weight', 'discriminator_predictions.dense_prediction.weight', 'discriminator_predictions.dense.bias']\n",
            "- This IS expected if you are initializing ElectraModel from the checkpoint of a model trained on another task or with another architecture (e.g. initializing a BertForSequenceClassification model from a BertForPreTraining model).\n",
            "- This IS NOT expected if you are initializing ElectraModel from the checkpoint of a model that you expect to be exactly identical (initializing a BertForSequenceClassification model from a BertForSequenceClassification model).\n"
          ]
        },
        {
          "output_type": "display_data",
          "data": {
            "image/png": "[encoded data removed]",
            "text/plain": [
              "<Figure size 432x288 with 1 Axes>"
            ]
          },
          "metadata": {
            "needs_background": "light"
          }
        }
      ]
    },
    {
      "cell_type": "code",
      "metadata": {
        "colab": {
          "base_uri": "https://localhost:8080/",
          "height": 295
        },
        "id": "qXoKU051nANF",
        "outputId": "144c3abe-3d0f-46a1-f913-a03f05a07c65"
      },
      "source": [
        "# 분포 3개 비교\n",
        "sns.histplot(F1_mt5, bins=50, color = 'red', alpha = 0.5, label = 'MT5')\n",
        "sns.histplot(F1_ket5, bins=50, color = 'yellow', alpha = 0.5, label = 'KE-T5')\n",
        "sns.histplot(F1_et5, bins=50, alpha = 0.5, label = 'ET5')\n",
        "plt.xlabel(\"F1-score\")\n",
        "plt.ylabel(\"counts\")\n",
        "plt.title('BERTScore comparison')\n",
        "plt.legend()\n",
        "plt.show()"
      ],
      "execution_count": 52,
      "outputs": [
        {
          "output_type": "display_data",
          "data": {
            "image/png": "[encoded data removed]",
            "text/plain": [
              "<Figure size 432x288 with 1 Axes>"
            ]
          },
          "metadata": {
            "needs_background": "light"
          }
        }
      ]
    },
    {
      "cell_type": "markdown",
      "source": [
        "## 2) ET5 모델 epochs(8, 10, 12, 15) 따른 BERT score 분포"
      ],
      "metadata": {
        "id": "VhmGTsis7N89"
      }
    },
    {
      "cell_type": "code",
      "metadata": {
        "colab": {
          "base_uri": "https://localhost:8080/",
          "height": 350
        },
        "id": "u4ta8iDvjxLM",
        "outputId": "4d8600be-b2bc-4610-f2f4-a8167dcc8041"
      },
      "source": [
        "# epoch 8\n",
        "with open(\"generated_et5_290000_epoch8.txt\") as f:\n",
        "    cands = [line.strip() for line in f]\n",
        "P, R, F1_epoch8 = score(cands, refs, model_type = 'monologg/koelectra-base-v2-discriminator', num_layers= 2, use_fast_tokenizer= True)\n",
        "sns.histplot(F1_epoch8, bins=50)\n",
        "plt.xlabel(\"score\")\n",
        "plt.ylabel(\"counts\")\n",
        "plt.show()"
      ],
      "execution_count": null,
      "outputs": [
        {
          "output_type": "stream",
          "name": "stderr",
          "text": [
            "Some weights of the model checkpoint at monologg/koelectra-base-v2-discriminator were not used when initializing ElectraModel: ['discriminator_predictions.dense.bias', 'discriminator_predictions.dense_prediction.bias', 'discriminator_predictions.dense_prediction.weight', 'discriminator_predictions.dense.weight']\n",
            "- This IS expected if you are initializing ElectraModel from the checkpoint of a model trained on another task or with another architecture (e.g. initializing a BertForSequenceClassification model from a BertForPreTraining model).\n",
            "- This IS NOT expected if you are initializing ElectraModel from the checkpoint of a model that you expect to be exactly identical (initializing a BertForSequenceClassification model from a BertForSequenceClassification model).\n"
          ]
        },
        {
          "output_type": "display_data",
          "data": {
            "image/png": "[encoded data removed]",
            "text/plain": [
              "<Figure size 432x288 with 1 Axes>"
            ]
          },
          "metadata": {
            "needs_background": "light"
          }
        }
      ]
    },
    {
      "cell_type": "code",
      "metadata": {
        "colab": {
          "base_uri": "https://localhost:8080/",
          "height": 350
        },
        "id": "ABGbRjXjgoPj",
        "outputId": "9dfe2ca1-3be7-46fd-e682-23f432fe419a"
      },
      "source": [
        "# epoch 10\n",
        "with open(\"generated_et5_290000_epoch10.txt\") as f:\n",
        "    cands = [line.strip() for line in f]\n",
        "P, R, F1_epoch10 = score(cands, refs, model_type = 'monologg/koelectra-base-v2-discriminator', num_layers= 2, use_fast_tokenizer= True)\n",
        "sns.histplot(F1_epoch10, bins=50)\n",
        "plt.xlabel(\"score\")\n",
        "plt.ylabel(\"counts\")\n",
        "plt.show()"
      ],
      "execution_count": null,
      "outputs": [
        {
          "output_type": "stream",
          "name": "stderr",
          "text": [
            "Some weights of the model checkpoint at monologg/koelectra-base-v2-discriminator were not used when initializing ElectraModel: ['discriminator_predictions.dense.bias', 'discriminator_predictions.dense_prediction.bias', 'discriminator_predictions.dense_prediction.weight', 'discriminator_predictions.dense.weight']\n",
            "- This IS expected if you are initializing ElectraModel from the checkpoint of a model trained on another task or with another architecture (e.g. initializing a BertForSequenceClassification model from a BertForPreTraining model).\n",
            "- This IS NOT expected if you are initializing ElectraModel from the checkpoint of a model that you expect to be exactly identical (initializing a BertForSequenceClassification model from a BertForSequenceClassification model).\n"
          ]
        },
        {
          "output_type": "display_data",
          "data": {
            "image/png": "[encoded data removed]",
            "text/plain": [
              "<Figure size 432x288 with 1 Axes>"
            ]
          },
          "metadata": {
            "needs_background": "light"
          }
        }
      ]
    },
    {
      "cell_type": "code",
      "metadata": {
        "colab": {
          "base_uri": "https://localhost:8080/",
          "height": 350
        },
        "id": "blAUacoee7Iw",
        "outputId": "25a518ab-49d0-4516-d1b4-58e1c6543e88"
      },
      "source": [
        "# epoch 12\n",
        "with open(\"generated_et5_290000_epoch12.txt\") as f:\n",
        "    cands = [line.strip() for line in f]\n",
        "P, R, F1_epoch12 = score(cands, refs, model_type = 'monologg/koelectra-base-v2-discriminator', num_layers= 2, use_fast_tokenizer= True)\n",
        "sns.histplot(F1_epoch12, bins=50)\n",
        "plt.xlabel(\"score\")\n",
        "plt.ylabel(\"counts\")\n",
        "plt.show()"
      ],
      "execution_count": null,
      "outputs": [
        {
          "output_type": "stream",
          "name": "stderr",
          "text": [
            "Some weights of the model checkpoint at monologg/koelectra-base-v2-discriminator were not used when initializing ElectraModel: ['discriminator_predictions.dense.bias', 'discriminator_predictions.dense_prediction.bias', 'discriminator_predictions.dense_prediction.weight', 'discriminator_predictions.dense.weight']\n",
            "- This IS expected if you are initializing ElectraModel from the checkpoint of a model trained on another task or with another architecture (e.g. initializing a BertForSequenceClassification model from a BertForPreTraining model).\n",
            "- This IS NOT expected if you are initializing ElectraModel from the checkpoint of a model that you expect to be exactly identical (initializing a BertForSequenceClassification model from a BertForSequenceClassification model).\n"
          ]
        },
        {
          "output_type": "display_data",
          "data": {
            "image/png": "[encoded data removed]",
            "text/plain": [
              "<Figure size 432x288 with 1 Axes>"
            ]
          },
          "metadata": {
            "needs_background": "light"
          }
        }
      ]
    },
    {
      "cell_type": "code",
      "metadata": {
        "colab": {
          "base_uri": "https://localhost:8080/",
          "height": 350
        },
        "id": "buCRobXednyU",
        "outputId": "9d825d89-3137-481a-8ff4-a650b9f364df"
      },
      "source": [
        "# epoch 15\n",
        "with open(\"generated_et5_290000_epoch15.txt\") as f:\n",
        "    cands = [line.strip() for line in f]\n",
        "P, R, F1_epoch15 = score(cands, refs, model_type = 'monologg/koelectra-base-v2-discriminator', num_layers= 2, use_fast_tokenizer= True)\n",
        "sns.histplot(F1_epoch15, bins=50)\n",
        "plt.xlabel(\"score\")\n",
        "plt.ylabel(\"counts\")\n",
        "plt.show()"
      ],
      "execution_count": null,
      "outputs": [
        {
          "output_type": "stream",
          "name": "stderr",
          "text": [
            "Some weights of the model checkpoint at monologg/koelectra-base-v2-discriminator were not used when initializing ElectraModel: ['discriminator_predictions.dense.bias', 'discriminator_predictions.dense_prediction.bias', 'discriminator_predictions.dense_prediction.weight', 'discriminator_predictions.dense.weight']\n",
            "- This IS expected if you are initializing ElectraModel from the checkpoint of a model trained on another task or with another architecture (e.g. initializing a BertForSequenceClassification model from a BertForPreTraining model).\n",
            "- This IS NOT expected if you are initializing ElectraModel from the checkpoint of a model that you expect to be exactly identical (initializing a BertForSequenceClassification model from a BertForSequenceClassification model).\n"
          ]
        },
        {
          "output_type": "display_data",
          "data": {
            "image/png": "[encoded data removed]",
            "text/plain": [
              "<Figure size 432x288 with 1 Axes>"
            ]
          },
          "metadata": {
            "needs_background": "light"
          }
        }
      ]
    },
    {
      "cell_type": "code",
      "metadata": {
        "colab": {
          "base_uri": "https://localhost:8080/",
          "height": 294
        },
        "id": "-Fp4GD0mkR5U",
        "outputId": "6e4ffc53-b673-45ad-fc41-6fb33d206df4"
      },
      "source": [
        "# 분포 4개 비교\n",
        "sns.histplot(F1_epoch8, bins=60, color = 'gray', alpha = 0.3, label = 'epoch 8')\n",
        "sns.histplot(F1_epoch10, bins=60, color = 'gray', alpha = 0.3, label = 'epoch 10')\n",
        "sns.histplot(F1_epoch12, bins=60, color = 'yellow', label = 'epoch 12')\n",
        "sns.histplot(F1_epoch15, bins=60, color = 'gray', alpha = 0.3, label = 'epoch 15')\n",
        "plt.xlabel(\"F1-score\")\n",
        "plt.ylabel(\"counts\")\n",
        "plt.title('BERTScore comparison by epochs')\n",
        "plt.legend()\n",
        "plt.show()"
      ],
      "execution_count": null,
      "outputs": [
        {
          "output_type": "display_data",
          "data": {
            "image/png": "[encoded data removed]",
            "text/plain": [
              "<Figure size 432x288 with 1 Axes>"
            ]
          },
          "metadata": {
            "needs_background": "light"
          }
        }
      ]
    },
    {
      "cell_type": "markdown",
      "source": [
        "## 3) Countinul learning BERT score 분포 비교"
      ],
      "metadata": {
        "id": "5L_ACpMe9Nfo"
      }
    },
    {
      "cell_type": "code",
      "source": [
        "with open(\"document_short.txt\") as f:\n",
        "    refs = [line.strip() for line in f]"
      ],
      "metadata": {
        "id": "KCAI1_jgmcFu"
      },
      "execution_count": 30,
      "outputs": []
    },
    {
      "cell_type": "code",
      "source": [
        "from bert_score import score\n",
        "import seaborn as sns\n",
        "import matplotlib.pyplot as plt\n",
        "\n",
        "with open(\"generated_et5_10000_epoch15_1.txt\") as f:\n",
        "    cands = [line.strip() for line in f]\n",
        "P, R, F1_epoch10000_15 = score(cands, refs, model_type = 'monologg/koelectra-base-v2-discriminator', num_layers= 2, use_fast_tokenizer= True)\n",
        "sns.histplot(F1_epoch10000_15)\n",
        "plt.xlabel(\"score\")\n",
        "plt.ylabel(\"counts\")\n",
        "plt.show()"
      ],
      "metadata": {
        "colab": {
          "base_uri": "https://localhost:8080/",
          "height": 351
        },
        "id": "l8MyeLonmcJt",
        "outputId": "611af888-d8e4-4874-bf0e-826e81c50a21"
      },
      "execution_count": 33,
      "outputs": [
        {
          "output_type": "stream",
          "name": "stderr",
          "text": [
            "Some weights of the model checkpoint at monologg/koelectra-base-v2-discriminator were not used when initializing ElectraModel: ['discriminator_predictions.dense_prediction.bias', 'discriminator_predictions.dense.weight', 'discriminator_predictions.dense_prediction.weight', 'discriminator_predictions.dense.bias']\n",
            "- This IS expected if you are initializing ElectraModel from the checkpoint of a model trained on another task or with another architecture (e.g. initializing a BertForSequenceClassification model from a BertForPreTraining model).\n",
            "- This IS NOT expected if you are initializing ElectraModel from the checkpoint of a model that you expect to be exactly identical (initializing a BertForSequenceClassification model from a BertForSequenceClassification model).\n"
          ]
        },
        {
          "output_type": "display_data",
          "data": {
            "image/png": "[encoded data removed]",
            "text/plain": [
              "<Figure size 432x288 with 1 Axes>"
            ]
          },
          "metadata": {
            "needs_background": "light"
          }
        }
      ]
    },
    {
      "cell_type": "code",
      "source": [
        "from bert_score import score\n",
        "with open(\"generated_et5_10000_epoch15_2.txt\") as f:\n",
        "    cands = [line.strip() for line in f]\n",
        "P, R, F1_epoch10000_15_2 = score(cands, refs, model_type = 'monologg/koelectra-base-v2-discriminator', num_layers= 2, use_fast_tokenizer= True)\n",
        "sns.histplot(F1_epoch10000_15_2)\n",
        "plt.xlabel(\"score\")\n",
        "plt.ylabel(\"counts\")\n",
        "plt.show()"
      ],
      "metadata": {
        "colab": {
          "base_uri": "https://localhost:8080/",
          "height": 350
        },
        "id": "OYjv1uwymtgc",
        "outputId": "dc989bab-5364-4d80-e1d9-33e5bda0be0c"
      },
      "execution_count": 34,
      "outputs": [
        {
          "output_type": "stream",
          "name": "stderr",
          "text": [
            "Some weights of the model checkpoint at monologg/koelectra-base-v2-discriminator were not used when initializing ElectraModel: ['discriminator_predictions.dense_prediction.bias', 'discriminator_predictions.dense.weight', 'discriminator_predictions.dense_prediction.weight', 'discriminator_predictions.dense.bias']\n",
            "- This IS expected if you are initializing ElectraModel from the checkpoint of a model trained on another task or with another architecture (e.g. initializing a BertForSequenceClassification model from a BertForPreTraining model).\n",
            "- This IS NOT expected if you are initializing ElectraModel from the checkpoint of a model that you expect to be exactly identical (initializing a BertForSequenceClassification model from a BertForSequenceClassification model).\n"
          ]
        },
        {
          "output_type": "display_data",
          "data": {
            "image/png": "[encoded data removed]",
            "text/plain": [
              "<Figure size 432x288 with 1 Axes>"
            ]
          },
          "metadata": {
            "needs_background": "light"
          }
        }
      ]
    },
    {
      "cell_type": "code",
      "source": [
        "from bert_score import score\n",
        "with open(\"generated_et5_10000_epoch15_3.txt\") as f:\n",
        "    cands = [line.strip() for line in f]\n",
        "P, R, F1_epoch10000_15_3 = score(cands, refs, model_type = 'monologg/koelectra-base-v2-discriminator', num_layers= 2, use_fast_tokenizer= True)\n",
        "sns.histplot(F1_epoch10000_15_3)\n",
        "plt.xlabel(\"score\")\n",
        "plt.ylabel(\"counts\")\n",
        "plt.show()"
      ],
      "metadata": {
        "colab": {
          "base_uri": "https://localhost:8080/",
          "height": 350
        },
        "id": "VuxCN4vqmtwH",
        "outputId": "d5a48577-0aba-4b93-acfb-8321f72f21a5"
      },
      "execution_count": 35,
      "outputs": [
        {
          "output_type": "stream",
          "name": "stderr",
          "text": [
            "Some weights of the model checkpoint at monologg/koelectra-base-v2-discriminator were not used when initializing ElectraModel: ['discriminator_predictions.dense_prediction.bias', 'discriminator_predictions.dense.weight', 'discriminator_predictions.dense_prediction.weight', 'discriminator_predictions.dense.bias']\n",
            "- This IS expected if you are initializing ElectraModel from the checkpoint of a model trained on another task or with another architecture (e.g. initializing a BertForSequenceClassification model from a BertForPreTraining model).\n",
            "- This IS NOT expected if you are initializing ElectraModel from the checkpoint of a model that you expect to be exactly identical (initializing a BertForSequenceClassification model from a BertForSequenceClassification model).\n"
          ]
        },
        {
          "output_type": "display_data",
          "data": {
            "image/png": "[encoded data removed]",
            "text/plain": [
              "<Figure size 432x288 with 1 Axes>"
            ]
          },
          "metadata": {
            "needs_background": "light"
          }
        }
      ]
    },
    {
      "cell_type": "code",
      "source": [
        "from bert_score import score\n",
        "with open(\"generated_et5_30000_epoch15_whole.txt\") as f:\n",
        "    cands = [line.strip() for line in f]\n",
        "P, R, F1_epoch30000_15 = score(cands, refs, model_type = 'monologg/koelectra-base-v2-discriminator', num_layers= 2, use_fast_tokenizer= True)\n",
        "sns.histplot(F1_epoch30000_15)\n",
        "plt.xlabel(\"score\")\n",
        "plt.ylabel(\"counts\")\n",
        "plt.show()"
      ],
      "metadata": {
        "colab": {
          "base_uri": "https://localhost:8080/",
          "height": 350
        },
        "id": "mm39iV5ImcaU",
        "outputId": "d239bab7-a6af-49f4-b425-8d2e4b41d170"
      },
      "execution_count": 37,
      "outputs": [
        {
          "output_type": "stream",
          "name": "stderr",
          "text": [
            "Some weights of the model checkpoint at monologg/koelectra-base-v2-discriminator were not used when initializing ElectraModel: ['discriminator_predictions.dense_prediction.bias', 'discriminator_predictions.dense.weight', 'discriminator_predictions.dense_prediction.weight', 'discriminator_predictions.dense.bias']\n",
            "- This IS expected if you are initializing ElectraModel from the checkpoint of a model trained on another task or with another architecture (e.g. initializing a BertForSequenceClassification model from a BertForPreTraining model).\n",
            "- This IS NOT expected if you are initializing ElectraModel from the checkpoint of a model that you expect to be exactly identical (initializing a BertForSequenceClassification model from a BertForSequenceClassification model).\n"
          ]
        },
        {
          "output_type": "display_data",
          "data": {
            "image/png": "[encoded data removed]",
            "text/plain": [
              "<Figure size 432x288 with 1 Axes>"
            ]
          },
          "metadata": {
            "needs_background": "light"
          }
        }
      ]
    },
    {
      "cell_type": "code",
      "source": [
        "sns.histplot(F1_epoch10000_15, color = 'red', alpha = 0.5, label = '10,000')\n",
        "sns.histplot(F1_epoch10000_15_2, color = 'yellow', alpha = 0.5, label = '10,000 * 2')\n",
        "sns.histplot(F1_epoch10000_15_3, alpha = 0.5, label = '10,000 * 3')\n",
        "sns.histplot(F1_epoch30000_15, alpha = 0.5, color = 'gray', label = '30,000')\n",
        "plt.xlabel(\"F1-score\")\n",
        "plt.ylabel(\"counts\")\n",
        "plt.title('BERTScore comparison')\n",
        "plt.legend()\n",
        "plt.show()"
      ],
      "metadata": {
        "colab": {
          "base_uri": "https://localhost:8080/",
          "height": 295
        },
        "id": "wqnxVbdYnh2G",
        "outputId": "189616ca-49df-4912-e003-c5fc60767eb8"
      },
      "execution_count": 42,
      "outputs": [
        {
          "output_type": "display_data",
          "data": {
            "image/png": "[encoded data removed]",
            "text/plain": [
              "<Figure size 432x288 with 1 Axes>"
            ]
          },
          "metadata": {
            "needs_background": "light"
          }
        }
      ]
    },
    {
      "cell_type": "markdown",
      "source": [
        "# 10자 미만 문장 생성 건 수 "
      ],
      "metadata": {
        "id": "pDw3zSOH9V4R"
      }
    },
    {
      "cell_type": "code",
      "metadata": {
        "id": "0OqVZhV8grOD"
      },
      "source": [
        "et5.fillna('', inplace = True)"
      ],
      "execution_count": null,
      "outputs": []
    },
    {
      "cell_type": "code",
      "metadata": {
        "id": "u3sT5uB5fqzz"
      },
      "source": [
        "mt5['text_len_gen'] = mt5['Generated Text'].apply(lambda x : len(x))\n",
        "ke_t5['text_len_gen'] = ke_t5['Generated Text'].apply(lambda x : len(x))\n",
        "et5['text_len_gen'] = et5['Generated Text'].apply(lambda x : len(x))\n",
        "et5_epoch8['text_len_gen'] = et5_epoch8['Generated Text'].apply(lambda x : len(x))\n",
        "et5_epoch10['text_len_gen'] = et5_epoch10['Generated Text'].apply(lambda x : len(x))\n",
        "et5_epoch12['text_len_gen'] = et5_epoch12['Generated Text'].apply(lambda x : len(x))\n",
        "et5_epoch15['text_len_gen'] = et5_epoch15['Generated Text'].apply(lambda x : len(x))"
      ],
      "execution_count": null,
      "outputs": []
    },
    {
      "cell_type": "code",
      "metadata": {
        "colab": {
          "base_uri": "https://localhost:8080/"
        },
        "id": "Wwh0p4rDhuib",
        "outputId": "916cfa4f-39e0-4047-f733-d9e53b16f91f"
      },
      "source": [
        "# 10자 미만 생성 문장 건 수\n",
        "print('mt5:', len(mt5[mt5['text_len_gen'] < 10]))\n",
        "print('ke_t5:', len(ke_t5[ke_t5['text_len_gen'] < 10]))\n",
        "print('et5:', len(et5[et5['text_len_gen'] < 10]))\n",
        "print('et5_epoch8:', len(et5_epoch8[et5_epoch8['text_len_gen'] < 10]))\n",
        "print('et5_epoch10:', len(et5_epoch10[et5_epoch10['text_len_gen'] < 10]))\n",
        "print('et5_epoch12:', len(et5_epoch12[et5_epoch12['text_len_gen'] < 10]))\n",
        "print('et5_epoch15:', len(et5_epoch15[et5_epoch15['text_len_gen'] < 10]))"
      ],
      "execution_count": null,
      "outputs": [
        {
          "output_type": "stream",
          "name": "stdout",
          "text": [
            "mt5: 77\n",
            "ke_t5: 2\n",
            "et5: 8\n",
            "et5_epoch8: 3\n",
            "et5_epoch10: 1\n",
            "et5_epoch12: 0\n",
            "et5_epoch15: 7\n"
          ]
        }
      ]
    },
    {
      "cell_type": "markdown",
      "source": [
        "## 모델별 10자 미만으로 생성된 문장"
      ],
      "metadata": {
        "id": "vv6iLc5h9y_H"
      }
    },
    {
      "cell_type": "code",
      "metadata": {
        "colab": {
          "base_uri": "https://localhost:8080/",
          "height": 423
        },
        "id": "1gUBibH5hYQF",
        "outputId": "2c15f03d-1f81-45f8-b8ad-392811733fe1"
      },
      "source": [
        "mt5[mt5['text_len_gen'] < 10]"
      ],
      "execution_count": null,
      "outputs": [
        {
          "output_type": "execute_result",
          "data": {
            "text/html": [
              "<div>\n",
              "<style scoped>\n",
              "    .dataframe tbody tr th:only-of-type {\n",
              "        vertical-align: middle;\n",
              "    }\n",
              "\n",
              "    .dataframe tbody tr th {\n",
              "        vertical-align: top;\n",
              "    }\n",
              "\n",
              "    .dataframe thead th {\n",
              "        text-align: right;\n",
              "    }\n",
              "</style>\n",
              "<table border=\"1\" class=\"dataframe\">\n",
              "  <thead>\n",
              "    <tr style=\"text-align: right;\">\n",
              "      <th></th>\n",
              "      <th>Generated Text</th>\n",
              "      <th>Actual Text</th>\n",
              "      <th>text_len_gen</th>\n",
              "    </tr>\n",
              "  </thead>\n",
              "  <tbody>\n",
              "    <tr>\n",
              "      <th>20028</th>\n",
              "      <td>없다며 반박했다.</td>\n",
              "      <td>김문수 전 경기도지사가 현 정권이 트럼프와 아베를 배척하는 '우리민족끼리' 친북 주...</td>\n",
              "      <td>9</td>\n",
              "    </tr>\n",
              "    <tr>\n",
              "      <th>20260</th>\n",
              "      <td>뒤를 이었다.</td>\n",
              "      <td>국회 행정안전위원회 소속 더불어민주당 소병훈 의원이 행정안전부로부터 제출받은 자료를...</td>\n",
              "      <td>7</td>\n",
              "    </tr>\n",
              "    <tr>\n",
              "      <th>20337</th>\n",
              "      <td>협력을 약속했다.</td>\n",
              "      <td>지난 10일 KT는 호텔의 운영 효율성을 높이기 위해 호텔 IT 솔루션 개발 및 제...</td>\n",
              "      <td>9</td>\n",
              "    </tr>\n",
              "    <tr>\n",
              "      <th>20365</th>\n",
              "      <td>것으로 나타났다.</td>\n",
              "      <td>농림축산식품부가 귀농·귀촌 2507가구를 설문조사한 ‘2018년 귀농·귀촌 실태조사...</td>\n",
              "      <td>9</td>\n",
              "    </tr>\n",
              "    <tr>\n",
              "      <th>20562</th>\n",
              "      <td>것으로 보인다.</td>\n",
              "      <td>국제 신용평가사인 S&amp;P가 19일 '신용등급 하락 위험에 직면한 한국 기업'이라는 ...</td>\n",
              "      <td>8</td>\n",
              "    </tr>\n",
              "    <tr>\n",
              "      <th>...</th>\n",
              "      <td>...</td>\n",
              "      <td>...</td>\n",
              "      <td>...</td>\n",
              "    </tr>\n",
              "    <tr>\n",
              "      <th>28925</th>\n",
              "      <td>운항에 나선다.</td>\n",
              "      <td>항공사들끼리 치열한 경쟁을 펼치는 가운데, 대형항공사인 대한항공과 아시아나항공은 아...</td>\n",
              "      <td>8</td>\n",
              "    </tr>\n",
              "    <tr>\n",
              "      <th>29065</th>\n",
              "      <td>인증을 받았다.</td>\n",
              "      <td>1일 대구시에 따르면 올포스킨피부과의원과 에필성형외과의원이 316개 인증기준과 1천...</td>\n",
              "      <td>8</td>\n",
              "    </tr>\n",
              "    <tr>\n",
              "      <th>29120</th>\n",
              "      <td>회의를 연다.</td>\n",
              "      <td>대구시가 ‘대구시 지방대학 및 지역균형인재 육성지원협의회’를 확대·구성하고 30일 ...</td>\n",
              "      <td>7</td>\n",
              "    </tr>\n",
              "    <tr>\n",
              "      <th>29448</th>\n",
              "      <td>것으로 나타났다.</td>\n",
              "      <td>통계청에 의하면 지난해 혼인건수가 7년 연속 감소하여 46년 만에 최저치를 기록한 ...</td>\n",
              "      <td>9</td>\n",
              "    </tr>\n",
              "    <tr>\n",
              "      <th>29965</th>\n",
              "      <td>기부를 했다.</td>\n",
              "      <td>소녀시대 멤버 태연이 취약계층 소녀들을 지원하기 위해 1억원을 기부하며 이번 기부로...</td>\n",
              "      <td>7</td>\n",
              "    </tr>\n",
              "  </tbody>\n",
              "</table>\n",
              "<p>77 rows × 3 columns</p>\n",
              "</div>"
            ],
            "text/plain": [
              "      Generated Text  ... text_len_gen\n",
              "20028      없다며 반박했다.  ...            9\n",
              "20260        뒤를 이었다.  ...            7\n",
              "20337      협력을 약속했다.  ...            9\n",
              "20365      것으로 나타났다.  ...            9\n",
              "20562       것으로 보인다.  ...            8\n",
              "...              ...  ...          ...\n",
              "28925       운항에 나선다.  ...            8\n",
              "29065       인증을 받았다.  ...            8\n",
              "29120        회의를 연다.  ...            7\n",
              "29448      것으로 나타났다.  ...            9\n",
              "29965        기부를 했다.  ...            7\n",
              "\n",
              "[77 rows x 3 columns]"
            ]
          },
          "metadata": {},
          "execution_count": 89
        }
      ]
    },
    {
      "cell_type": "code",
      "metadata": {
        "colab": {
          "base_uri": "https://localhost:8080/",
          "height": 112
        },
        "id": "-VY981rZhY8M",
        "outputId": "f55e785e-c69b-4522-c153-0ba40f2a3041"
      },
      "source": [
        "ke_t5[ke_t5['text_len_gen'] < 10]"
      ],
      "execution_count": null,
      "outputs": [
        {
          "output_type": "execute_result",
          "data": {
            "text/html": [
              "<div>\n",
              "<style scoped>\n",
              "    .dataframe tbody tr th:only-of-type {\n",
              "        vertical-align: middle;\n",
              "    }\n",
              "\n",
              "    .dataframe tbody tr th {\n",
              "        vertical-align: top;\n",
              "    }\n",
              "\n",
              "    .dataframe thead th {\n",
              "        text-align: right;\n",
              "    }\n",
              "</style>\n",
              "<table border=\"1\" class=\"dataframe\">\n",
              "  <thead>\n",
              "    <tr style=\"text-align: right;\">\n",
              "      <th></th>\n",
              "      <th>Generated Text</th>\n",
              "      <th>Actual Text</th>\n",
              "      <th>text_len_gen</th>\n",
              "    </tr>\n",
              "  </thead>\n",
              "  <tbody>\n",
              "    <tr>\n",
              "      <th>20403</th>\n",
              "      <td>큐브를 발간했다.</td>\n",
              "      <td>지난 3일 은행연합회를 통해 발간된 '은행연합회 90년사(1928~2018)'는 경...</td>\n",
              "      <td>9</td>\n",
              "    </tr>\n",
              "    <tr>\n",
              "      <th>28045</th>\n",
              "      <td>큐브를 출간했다.</td>\n",
              "      <td>경록이 출간발표한 '2020 공인중개사 기본서 민법및민사특별법' 교재는 역대 최대 ...</td>\n",
              "      <td>9</td>\n",
              "    </tr>\n",
              "  </tbody>\n",
              "</table>\n",
              "</div>"
            ],
            "text/plain": [
              "      Generated Text  ... text_len_gen\n",
              "20403      큐브를 발간했다.  ...            9\n",
              "28045      큐브를 출간했다.  ...            9\n",
              "\n",
              "[2 rows x 3 columns]"
            ]
          },
          "metadata": {},
          "execution_count": 90
        }
      ]
    },
    {
      "cell_type": "code",
      "metadata": {
        "colab": {
          "base_uri": "https://localhost:8080/",
          "height": 299
        },
        "id": "uXF_Zf3SggpD",
        "outputId": "e7fb117f-9764-41c0-f706-1940c9e9b144"
      },
      "source": [
        "et5[et5['text_len_gen'] < 10]"
      ],
      "execution_count": null,
      "outputs": [
        {
          "output_type": "execute_result",
          "data": {
            "text/html": [
              "<div>\n",
              "<style scoped>\n",
              "    .dataframe tbody tr th:only-of-type {\n",
              "        vertical-align: middle;\n",
              "    }\n",
              "\n",
              "    .dataframe tbody tr th {\n",
              "        vertical-align: top;\n",
              "    }\n",
              "\n",
              "    .dataframe thead th {\n",
              "        text-align: right;\n",
              "    }\n",
              "</style>\n",
              "<table border=\"1\" class=\"dataframe\">\n",
              "  <thead>\n",
              "    <tr style=\"text-align: right;\">\n",
              "      <th></th>\n",
              "      <th>Generated Text</th>\n",
              "      <th>Actual Text</th>\n",
              "      <th>text_len_gen</th>\n",
              "    </tr>\n",
              "  </thead>\n",
              "  <tbody>\n",
              "    <tr>\n",
              "      <th>3067</th>\n",
              "      <td></td>\n",
              "      <td>5.18 민주화운동 당시 계엄군이 공군 수송기로 '시체'를 광주에서 김해까지 수송하...</td>\n",
              "      <td>0</td>\n",
              "    </tr>\n",
              "    <tr>\n",
              "      <th>3237</th>\n",
              "      <td>.</td>\n",
              "      <td>지난달 21일 경기도 용인의 한 아파트에서 주민이 키우는 12kg짜리 폭스테리어에게...</td>\n",
              "      <td>1</td>\n",
              "    </tr>\n",
              "    <tr>\n",
              "      <th>3396</th>\n",
              "      <td>.</td>\n",
              "      <td>경북도의회가 일본 전범기업 수의계약 제한 조례안 상정을 유보하고 서울에서 열린 전국...</td>\n",
              "      <td>1</td>\n",
              "    </tr>\n",
              "    <tr>\n",
              "      <th>4144</th>\n",
              "      <td></td>\n",
              "      <td>자유한국당 총선기획단 박맹우 사무총장에 따르면 한국당은 쇄신과 혁신을 바라는 국민의...</td>\n",
              "      <td>0</td>\n",
              "    </tr>\n",
              "    <tr>\n",
              "      <th>6452</th>\n",
              "      <td>.</td>\n",
              "      <td>순천 해룡선월농공단지 인근 주민들이 농공단지 시공업체가 농공단지 조성이 아닌 토석과...</td>\n",
              "      <td>1</td>\n",
              "    </tr>\n",
              "    <tr>\n",
              "      <th>6809</th>\n",
              "      <td>.</td>\n",
              "      <td>매년 5월이 되면 아직도 군인이 민간인을 학살한 경위가 명확히 드러나지 않는 현실을...</td>\n",
              "      <td>1</td>\n",
              "    </tr>\n",
              "    <tr>\n",
              "      <th>8669</th>\n",
              "      <td></td>\n",
              "      <td>ADD라는 주의력 결핍증을 앓는 가수 박봄은 국제 택배를 통해 마약을 밀반입했다는 ...</td>\n",
              "      <td>0</td>\n",
              "    </tr>\n",
              "    <tr>\n",
              "      <th>9549</th>\n",
              "      <td>..</td>\n",
              "      <td>더불어민주당은 문재인 대통령과 도널드 트럼프 미국 대통령의 정상회담 결과에 대해' ...</td>\n",
              "      <td>2</td>\n",
              "    </tr>\n",
              "  </tbody>\n",
              "</table>\n",
              "</div>"
            ],
            "text/plain": [
              "     Generated Text  ... text_len_gen\n",
              "3067                 ...            0\n",
              "3237              .  ...            1\n",
              "3396              .  ...            1\n",
              "4144                 ...            0\n",
              "6452              .  ...            1\n",
              "6809              .  ...            1\n",
              "8669                 ...            0\n",
              "9549             ..  ...            2\n",
              "\n",
              "[8 rows x 3 columns]"
            ]
          },
          "metadata": {},
          "execution_count": 82
        }
      ]
    },
    {
      "cell_type": "code",
      "metadata": {
        "colab": {
          "base_uri": "https://localhost:8080/",
          "height": 144
        },
        "id": "3Jfuy2bJfq6t",
        "outputId": "bd648091-6a61-4755-f9eb-d11692f77ac4"
      },
      "source": [
        "et5_epoch8[et5_epoch8['text_len_gen'] < 10]"
      ],
      "execution_count": null,
      "outputs": [
        {
          "output_type": "execute_result",
          "data": {
            "text/html": [
              "<div>\n",
              "<style scoped>\n",
              "    .dataframe tbody tr th:only-of-type {\n",
              "        vertical-align: middle;\n",
              "    }\n",
              "\n",
              "    .dataframe tbody tr th {\n",
              "        vertical-align: top;\n",
              "    }\n",
              "\n",
              "    .dataframe thead th {\n",
              "        text-align: right;\n",
              "    }\n",
              "</style>\n",
              "<table border=\"1\" class=\"dataframe\">\n",
              "  <thead>\n",
              "    <tr style=\"text-align: right;\">\n",
              "      <th></th>\n",
              "      <th>Generated Text</th>\n",
              "      <th>Actual Text</th>\n",
              "      <th>text_len_gen</th>\n",
              "    </tr>\n",
              "  </thead>\n",
              "  <tbody>\n",
              "    <tr>\n",
              "      <th>1953</th>\n",
              "      <td>것이다.</td>\n",
              "      <td>20일 롤스로이스가 서울 청담동 도산대로에 '롤스로이스 부티크'를 오픈하며 접근성과...</td>\n",
              "      <td>4</td>\n",
              "    </tr>\n",
              "    <tr>\n",
              "      <th>3382</th>\n",
              "      <td>발표했다.</td>\n",
              "      <td>금융위원회에 따르면 년 5%대 고금리에 비과세 혜택으로 40만원 한도를 채운 병사는...</td>\n",
              "      <td>5</td>\n",
              "    </tr>\n",
              "    <tr>\n",
              "      <th>5423</th>\n",
              "      <td>것이다.</td>\n",
              "      <td>더불어민주당 김상희 의원이 식품의약품안전처로부터 받은 자료에 의하면 의료기기는 보건...</td>\n",
              "      <td>4</td>\n",
              "    </tr>\n",
              "  </tbody>\n",
              "</table>\n",
              "</div>"
            ],
            "text/plain": [
              "     Generated Text  ... text_len_gen\n",
              "1953           것이다.  ...            4\n",
              "3382          발표했다.  ...            5\n",
              "5423           것이다.  ...            4\n",
              "\n",
              "[3 rows x 3 columns]"
            ]
          },
          "metadata": {},
          "execution_count": 85
        }
      ]
    },
    {
      "cell_type": "code",
      "metadata": {
        "colab": {
          "base_uri": "https://localhost:8080/",
          "height": 81
        },
        "id": "3e4ZXKrhhBcE",
        "outputId": "698ae73b-2b8b-406b-de4d-0853be6e22dd"
      },
      "source": [
        "et5_epoch10[et5_epoch10['text_len_gen'] < 10]"
      ],
      "execution_count": null,
      "outputs": [
        {
          "output_type": "execute_result",
          "data": {
            "text/html": [
              "<div>\n",
              "<style scoped>\n",
              "    .dataframe tbody tr th:only-of-type {\n",
              "        vertical-align: middle;\n",
              "    }\n",
              "\n",
              "    .dataframe tbody tr th {\n",
              "        vertical-align: top;\n",
              "    }\n",
              "\n",
              "    .dataframe thead th {\n",
              "        text-align: right;\n",
              "    }\n",
              "</style>\n",
              "<table border=\"1\" class=\"dataframe\">\n",
              "  <thead>\n",
              "    <tr style=\"text-align: right;\">\n",
              "      <th></th>\n",
              "      <th>Generated Text</th>\n",
              "      <th>Actual Text</th>\n",
              "      <th>text_len_gen</th>\n",
              "    </tr>\n",
              "  </thead>\n",
              "  <tbody>\n",
              "    <tr>\n",
              "      <th>6283</th>\n",
              "      <td>에서 말했다.</td>\n",
              "      <td>하남 남한중이 23일 서울 SK핸드볼경기장에서 열린 제74회 전국종별 핸드볼선수권대...</td>\n",
              "      <td>7</td>\n",
              "    </tr>\n",
              "  </tbody>\n",
              "</table>\n",
              "</div>"
            ],
            "text/plain": [
              "     Generated Text  ... text_len_gen\n",
              "6283        에서 말했다.  ...            7\n",
              "\n",
              "[1 rows x 3 columns]"
            ]
          },
          "metadata": {},
          "execution_count": 86
        }
      ]
    },
    {
      "cell_type": "code",
      "metadata": {
        "colab": {
          "base_uri": "https://localhost:8080/",
          "height": 49
        },
        "id": "aBgEfxPdhBfS",
        "outputId": "84d29b46-0d19-44ed-f5b1-518171dab4f3"
      },
      "source": [
        "et5_epoch12[et5_epoch12['text_len_gen'] < 10]"
      ],
      "execution_count": null,
      "outputs": [
        {
          "output_type": "execute_result",
          "data": {
            "text/html": [
              "<div>\n",
              "<style scoped>\n",
              "    .dataframe tbody tr th:only-of-type {\n",
              "        vertical-align: middle;\n",
              "    }\n",
              "\n",
              "    .dataframe tbody tr th {\n",
              "        vertical-align: top;\n",
              "    }\n",
              "\n",
              "    .dataframe thead th {\n",
              "        text-align: right;\n",
              "    }\n",
              "</style>\n",
              "<table border=\"1\" class=\"dataframe\">\n",
              "  <thead>\n",
              "    <tr style=\"text-align: right;\">\n",
              "      <th></th>\n",
              "      <th>Generated Text</th>\n",
              "      <th>Actual Text</th>\n",
              "      <th>text_len_gen</th>\n",
              "    </tr>\n",
              "  </thead>\n",
              "  <tbody>\n",
              "  </tbody>\n",
              "</table>\n",
              "</div>"
            ],
            "text/plain": [
              "Empty DataFrame\n",
              "Columns: [Generated Text, Actual Text, text_len_gen]\n",
              "Index: []"
            ]
          },
          "metadata": {},
          "execution_count": 87
        }
      ]
    },
    {
      "cell_type": "code",
      "metadata": {
        "colab": {
          "base_uri": "https://localhost:8080/",
          "height": 268
        },
        "id": "E4Njit0OhODQ",
        "outputId": "74d70abf-20af-46b8-c405-e8e6f46af5cb"
      },
      "source": [
        "et5_epoch15[et5_epoch15['text_len_gen'] < 10]"
      ],
      "execution_count": null,
      "outputs": [
        {
          "output_type": "execute_result",
          "data": {
            "text/html": [
              "<div>\n",
              "<style scoped>\n",
              "    .dataframe tbody tr th:only-of-type {\n",
              "        vertical-align: middle;\n",
              "    }\n",
              "\n",
              "    .dataframe tbody tr th {\n",
              "        vertical-align: top;\n",
              "    }\n",
              "\n",
              "    .dataframe thead th {\n",
              "        text-align: right;\n",
              "    }\n",
              "</style>\n",
              "<table border=\"1\" class=\"dataframe\">\n",
              "  <thead>\n",
              "    <tr style=\"text-align: right;\">\n",
              "      <th></th>\n",
              "      <th>Generated Text</th>\n",
              "      <th>Actual Text</th>\n",
              "      <th>text_len_gen</th>\n",
              "    </tr>\n",
              "  </thead>\n",
              "  <tbody>\n",
              "    <tr>\n",
              "      <th>3605</th>\n",
              "      <td>발표했다.</td>\n",
              "      <td>연매출 400억원에 달하는 요가복 브랜드 '안다르'의 20대 CEO 신애련이 오는 ...</td>\n",
              "      <td>5</td>\n",
              "    </tr>\n",
              "    <tr>\n",
              "      <th>3751</th>\n",
              "      <td>발표했다.</td>\n",
              "      <td>2019년 맹동섭이 최우선 목표로 잡은 두 가지 타이틀은 \"올해 제네시스 대상을 차...</td>\n",
              "      <td>5</td>\n",
              "    </tr>\n",
              "    <tr>\n",
              "      <th>6198</th>\n",
              "      <td>된다.</td>\n",
              "      <td>오는 29일과 30일 서울 삼성동 코엑스 3층에서 문화체육관광부가 주최하는 관광분야...</td>\n",
              "      <td>3</td>\n",
              "    </tr>\n",
              "    <tr>\n",
              "      <th>6363</th>\n",
              "      <td>추진하겠다.</td>\n",
              "      <td>오는 16일 오전 10시 울산박물관 대강당에서 국내외 암각화 전문가 등 200여명이...</td>\n",
              "      <td>6</td>\n",
              "    </tr>\n",
              "    <tr>\n",
              "      <th>8132</th>\n",
              "      <td>던졌다은 5G</td>\n",
              "      <td>KT가 LTE만 되는 갤럭시 S10 단말기를 사면 추후 5G폰도 구매할 수 있는 ‘...</td>\n",
              "      <td>7</td>\n",
              "    </tr>\n",
              "    <tr>\n",
              "      <th>8493</th>\n",
              "      <td>식이다.</td>\n",
              "      <td>차례상에 밥과 나물, 과일 외에 꼭 오르는 것이 소고기 찜과 탕, 전으로, 농촌진흥...</td>\n",
              "      <td>4</td>\n",
              "    </tr>\n",
              "    <tr>\n",
              "      <th>8922</th>\n",
              "      <td>말했다.</td>\n",
              "      <td>태영호 전 영국주재 북한공사는 25일 자신의 블로그에서 지난달 22일 주(駐)스페인...</td>\n",
              "      <td>4</td>\n",
              "    </tr>\n",
              "  </tbody>\n",
              "</table>\n",
              "</div>"
            ],
            "text/plain": [
              "     Generated Text  ... text_len_gen\n",
              "3605          발표했다.  ...            5\n",
              "3751          발표했다.  ...            5\n",
              "6198            된다.  ...            3\n",
              "6363         추진하겠다.  ...            6\n",
              "8132        던졌다은 5G  ...            7\n",
              "8493           식이다.  ...            4\n",
              "8922           말했다.  ...            4\n",
              "\n",
              "[7 rows x 3 columns]"
            ]
          },
          "metadata": {},
          "execution_count": 88
        }
      ]
    }
  ]
}